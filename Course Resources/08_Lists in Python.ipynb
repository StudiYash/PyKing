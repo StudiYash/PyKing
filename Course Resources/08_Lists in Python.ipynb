{
 "cells": [
  {
   "cell_type": "markdown",
   "id": "36b00916-3d64-4052-8ce8-f3659122ba36",
   "metadata": {},
   "source": [
    "# Lists in Python"
   ]
  },
  {
   "cell_type": "markdown",
   "id": "ab0c059a",
   "metadata": {
    "jp-MarkdownHeadingCollapsed": true
   },
   "source": [
    "## Creating a List"
   ]
  },
  {
   "cell_type": "code",
   "execution_count": 3,
   "id": "b7a963fa",
   "metadata": {},
   "outputs": [
    {
     "name": "stdout",
     "output_type": "stream",
     "text": [
      "[1, 2, 3]\n"
     ]
    }
   ],
   "source": [
    "my_list = [1,2,3]\n",
    "print(my_list)"
   ]
  },
  {
   "cell_type": "code",
   "execution_count": 4,
   "id": "0a32108b",
   "metadata": {},
   "outputs": [
    {
     "name": "stdout",
     "output_type": "stream",
     "text": [
      "['string', 1, 2, 'Hello', 4, 5, 'Yash', '#']\n"
     ]
    }
   ],
   "source": [
    "my_list2 = [\"string\",1,2,\"Hello\",4,5,\"Yash\",\"#\"]\n",
    "print(my_list2)"
   ]
  },
  {
   "cell_type": "markdown",
   "id": "12b33fe6",
   "metadata": {
    "jp-MarkdownHeadingCollapsed": true
   },
   "source": [
    "## len() Function applied on a List"
   ]
  },
  {
   "cell_type": "code",
   "execution_count": 6,
   "id": "27d47417",
   "metadata": {},
   "outputs": [
    {
     "data": {
      "text/plain": [
       "3"
      ]
     },
     "execution_count": 6,
     "metadata": {},
     "output_type": "execute_result"
    }
   ],
   "source": [
    "len(my_list)"
   ]
  },
  {
   "cell_type": "code",
   "execution_count": 7,
   "id": "c59ed695",
   "metadata": {},
   "outputs": [
    {
     "data": {
      "text/plain": [
       "8"
      ]
     },
     "execution_count": 7,
     "metadata": {},
     "output_type": "execute_result"
    }
   ],
   "source": [
    "len(my_list2)"
   ]
  },
  {
   "cell_type": "markdown",
   "id": "e194d1d7",
   "metadata": {
    "jp-MarkdownHeadingCollapsed": true
   },
   "source": [
    "## Indexing Operation done on a List"
   ]
  },
  {
   "cell_type": "code",
   "execution_count": 9,
   "id": "97e5dfa3",
   "metadata": {},
   "outputs": [
    {
     "data": {
      "text/plain": [
       "2"
      ]
     },
     "execution_count": 9,
     "metadata": {},
     "output_type": "execute_result"
    }
   ],
   "source": [
    "my_list[1]"
   ]
  },
  {
   "cell_type": "code",
   "execution_count": 10,
   "id": "fa7c08d1",
   "metadata": {},
   "outputs": [
    {
     "data": {
      "text/plain": [
       "'string'"
      ]
     },
     "execution_count": 10,
     "metadata": {},
     "output_type": "execute_result"
    }
   ],
   "source": [
    "my_list2[0]"
   ]
  },
  {
   "cell_type": "markdown",
   "id": "b6425a3c-8234-446a-9135-94ea327e3c1f",
   "metadata": {
    "jp-MarkdownHeadingCollapsed": true
   },
   "source": [
    "## Slicing Operation done on a List"
   ]
  },
  {
   "cell_type": "code",
   "execution_count": 12,
   "id": "9f5a3a50",
   "metadata": {},
   "outputs": [
    {
     "data": {
      "text/plain": [
       "[1, 2]"
      ]
     },
     "execution_count": 12,
     "metadata": {},
     "output_type": "execute_result"
    }
   ],
   "source": [
    "my_list[0:2]"
   ]
  },
  {
   "cell_type": "code",
   "execution_count": 13,
   "id": "34f943a1",
   "metadata": {},
   "outputs": [
    {
     "data": {
      "text/plain": [
       "['#', 'Yash', 5, 4, 'Hello', 2, 1, 'string']"
      ]
     },
     "execution_count": 13,
     "metadata": {},
     "output_type": "execute_result"
    }
   ],
   "source": [
    "my_list2[::-1]"
   ]
  },
  {
   "cell_type": "markdown",
   "id": "c590a241",
   "metadata": {
    "jp-MarkdownHeadingCollapsed": true
   },
   "source": [
    "## Concatenation Operation done on a list"
   ]
  },
  {
   "cell_type": "code",
   "execution_count": 15,
   "id": "c22bc37d",
   "metadata": {},
   "outputs": [
    {
     "name": "stdout",
     "output_type": "stream",
     "text": [
      "[1, 2, 3]\n",
      "[4, 5, 6, 7]\n"
     ]
    }
   ],
   "source": [
    "print(my_list)\n",
    "\n",
    "my_list3 = [4,5,6,7]\n",
    "print(my_list3)"
   ]
  },
  {
   "cell_type": "code",
   "execution_count": 16,
   "id": "47a165f9",
   "metadata": {},
   "outputs": [
    {
     "name": "stdout",
     "output_type": "stream",
     "text": [
      "[1, 2, 3, 4, 5, 6, 7]\n"
     ]
    }
   ],
   "source": [
    "my_list4 = my_list + my_list3\n",
    "print(my_list4)"
   ]
  },
  {
   "cell_type": "markdown",
   "id": "044ce38b-7e29-4e98-9a4d-cec54cfcc955",
   "metadata": {
    "jp-MarkdownHeadingCollapsed": true
   },
   "source": [
    "## Multipliability Operation performed on a List"
   ]
  },
  {
   "cell_type": "code",
   "execution_count": 18,
   "id": "cfefe934-ecf7-427e-9970-b4cb98fb3b2e",
   "metadata": {},
   "outputs": [
    {
     "name": "stdout",
     "output_type": "stream",
     "text": [
      "[4, 5, 6, 7]\n",
      "[4, 5, 6, 7, 4, 5, 6, 7]\n"
     ]
    }
   ],
   "source": [
    "print(my_list3)\n",
    "my_list5 = my_list3 * 2\n",
    "print(my_list5)"
   ]
  },
  {
   "cell_type": "markdown",
   "id": "e4bbca58",
   "metadata": {
    "jp-MarkdownHeadingCollapsed": true
   },
   "source": [
    "## Lists are Mutable"
   ]
  },
  {
   "cell_type": "code",
   "execution_count": 20,
   "id": "3177ef0d",
   "metadata": {},
   "outputs": [
    {
     "name": "stdout",
     "output_type": "stream",
     "text": [
      "[1, 2, 8, 4, 5, 6, 7]\n"
     ]
    }
   ],
   "source": [
    "my_list6 = [1,2,3,4,5,6,7]\n",
    "\n",
    "my_list6[2] = 8\n",
    "print(my_list6)"
   ]
  },
  {
   "cell_type": "markdown",
   "id": "9aada928",
   "metadata": {
    "jp-MarkdownHeadingCollapsed": true
   },
   "source": [
    "## .append() Method on Lists"
   ]
  },
  {
   "cell_type": "code",
   "execution_count": 22,
   "id": "253f0ec7",
   "metadata": {},
   "outputs": [
    {
     "name": "stdout",
     "output_type": "stream",
     "text": [
      "[1, 2, 3, 4, 5, 6, 9]\n"
     ]
    }
   ],
   "source": [
    "my_list7 = [1,2,3,4,5,6]\n",
    "\n",
    "my_list7.append(9)\n",
    "print(my_list7)"
   ]
  },
  {
   "cell_type": "markdown",
   "id": "2588761a-42a2-4657-819f-adb92c3d568a",
   "metadata": {
    "jp-MarkdownHeadingCollapsed": true
   },
   "source": [
    "## .pop() Method on Lists"
   ]
  },
  {
   "cell_type": "code",
   "execution_count": 24,
   "id": "c4d6f4af",
   "metadata": {},
   "outputs": [
    {
     "data": {
      "text/plain": [
       "7"
      ]
     },
     "execution_count": 24,
     "metadata": {},
     "output_type": "execute_result"
    }
   ],
   "source": [
    "my_list4.pop() \n",
    "#index number of the element to be popped out is written inside the pop bracket \n",
    "#and if nothing is written inside the bracket then the last element which was inserted will be popped out by default."
   ]
  },
  {
   "cell_type": "code",
   "execution_count": 25,
   "id": "72055967",
   "metadata": {},
   "outputs": [
    {
     "name": "stdout",
     "output_type": "stream",
     "text": [
      "4\n"
     ]
    }
   ],
   "source": [
    "my_popped_list = my_list4.pop(3) \n",
    "print(my_popped_list)\n",
    "#inside this popped list only the element that was popped will be present and not the entire list is present."
   ]
  },
  {
   "cell_type": "code",
   "execution_count": 26,
   "id": "d9451a7a",
   "metadata": {},
   "outputs": [
    {
     "name": "stdout",
     "output_type": "stream",
     "text": [
      "[1, 2, 3, 5, 6]\n"
     ]
    }
   ],
   "source": [
    "print(my_list4)"
   ]
  },
  {
   "cell_type": "markdown",
   "id": "b3f70f53",
   "metadata": {},
   "source": [
    "## .sort() Method on Lists"
   ]
  },
  {
   "cell_type": "code",
   "execution_count": 28,
   "id": "1aac8512",
   "metadata": {},
   "outputs": [],
   "source": [
    "my_num_list = [12,3,7,19,-1]\n",
    "my_alpha_list = ['a','o','e','z']\n",
    "my_jingle = [12,2,'z','a'] #this type of list containing numbers and alphabets cannot be sorted."
   ]
  },
  {
   "cell_type": "code",
   "execution_count": 29,
   "id": "8881c924",
   "metadata": {},
   "outputs": [
    {
     "name": "stdout",
     "output_type": "stream",
     "text": [
      "[-1, 3, 7, 12, 19]\n",
      "['a', 'e', 'o', 'z']\n"
     ]
    }
   ],
   "source": [
    "#.sort() cannot be directly inserted inside the print statement.\n",
    "\n",
    "my_num_list.sort()\n",
    "print(my_num_list)\n",
    "\n",
    "my_alpha_list.sort() \n",
    "print(my_alpha_list)"
   ]
  },
  {
   "cell_type": "code",
   "execution_count": 30,
   "id": "a3ef4a9c-1b68-4a6b-956b-f3bee92eb1cd",
   "metadata": {},
   "outputs": [
    {
     "ename": "TypeError",
     "evalue": "'<' not supported between instances of 'str' and 'int'",
     "output_type": "error",
     "traceback": [
      "\u001b[1;31m---------------------------------------------------------------------------\u001b[0m",
      "\u001b[1;31mTypeError\u001b[0m                                 Traceback (most recent call last)",
      "Cell \u001b[1;32mIn[30], line 1\u001b[0m\n\u001b[1;32m----> 1\u001b[0m my_jingle\u001b[38;5;241m.\u001b[39msort() \u001b[38;5;66;03m# .sort() method cannot be applied on the list which contains both alphabets and numbers. This gives an error\u001b[39;00m\n\u001b[0;32m      2\u001b[0m \u001b[38;5;28mprint\u001b[39m(my_jingle)\n",
      "\u001b[1;31mTypeError\u001b[0m: '<' not supported between instances of 'str' and 'int'"
     ]
    }
   ],
   "source": [
    "my_jingle.sort() # .sort() method cannot be applied on the list which contains both alphabets and numbers. This gives an error\n",
    "print(my_jingle)"
   ]
  },
  {
   "cell_type": "code",
   "execution_count": 32,
   "id": "4643a66d",
   "metadata": {},
   "outputs": [
    {
     "name": "stdout",
     "output_type": "stream",
     "text": [
      "None\n"
     ]
    }
   ],
   "source": [
    "my_num2_list = [1,9,2,8]\n",
    "my_sorted_num2_list = my_num2_list.sort()\n",
    "print(my_sorted_num2_list) # This will give an output as none as the output as the .sort() does not make any change directly in the variable."
   ]
  },
  {
   "cell_type": "code",
   "execution_count": 34,
   "id": "de1dc06f",
   "metadata": {},
   "outputs": [
    {
     "name": "stdout",
     "output_type": "stream",
     "text": [
      "[1, 2, 8, 9]\n"
     ]
    }
   ],
   "source": [
    "# Now if you want to use the .sort() method and you want to assign a sorted list to another variable then you have to use the following way.\n",
    "\n",
    "my_num2_list = [1,9,2,8]\n",
    "my_num2_list.sort()\n",
    "my_sorted_num2_list = my_num2_list\n",
    "print(my_sorted_num2_list)"
   ]
  },
  {
   "cell_type": "markdown",
   "id": "1bcfa307",
   "metadata": {
    "jp-MarkdownHeadingCollapsed": true
   },
   "source": [
    "## The .reverse() Method on Lists"
   ]
  },
  {
   "cell_type": "code",
   "execution_count": 37,
   "id": "4c6dfe30",
   "metadata": {},
   "outputs": [
    {
     "name": "stdout",
     "output_type": "stream",
     "text": [
      "[9, 8, 2, 1]\n"
     ]
    }
   ],
   "source": [
    "my_sorted_num2_list.reverse()\n",
    "print(my_sorted_num2_list)"
   ]
  },
  {
   "cell_type": "code",
   "execution_count": 39,
   "id": "acdd4a1e",
   "metadata": {},
   "outputs": [
    {
     "data": {
      "text/plain": [
       "[1, 2, 8, 9]"
      ]
     },
     "execution_count": 39,
     "metadata": {},
     "output_type": "execute_result"
    }
   ],
   "source": [
    "my_sorted_num2_list[::-1]\n",
    "#another trick to reverse the elements in the list."
   ]
  },
  {
   "cell_type": "markdown",
   "id": "9fc151bb",
   "metadata": {
    "jp-MarkdownHeadingCollapsed": true
   },
   "source": [
    "## Lists allow duplicate values"
   ]
  },
  {
   "cell_type": "code",
   "execution_count": 42,
   "id": "06200640",
   "metadata": {},
   "outputs": [
    {
     "name": "stdout",
     "output_type": "stream",
     "text": [
      "[1, 2, 3, 4, 4]\n"
     ]
    }
   ],
   "source": [
    "my_list = [1,2,3,4,4]\n",
    "print(my_list) #lists allow duplicate values."
   ]
  },
  {
   "cell_type": "markdown",
   "id": "afd0ff11-c88c-4ce8-a9ea-78598f0e0478",
   "metadata": {
    "jp-MarkdownHeadingCollapsed": true
   },
   "source": [
    "## Lists can also hold the Boolean Datatypes"
   ]
  },
  {
   "cell_type": "code",
   "execution_count": 45,
   "id": "ff5ef8b4",
   "metadata": {},
   "outputs": [
    {
     "name": "stdout",
     "output_type": "stream",
     "text": [
      "[True, True, True, False, False, False]\n"
     ]
    }
   ],
   "source": [
    "list_4 = [True, True, True, False, False, False]\n",
    "print(list_4)"
   ]
  },
  {
   "cell_type": "markdown",
   "id": "4c73d816-09f1-4928-8fb2-c740943be5d9",
   "metadata": {
    "jp-MarkdownHeadingCollapsed": true
   },
   "source": [
    "## List Constructor"
   ]
  },
  {
   "cell_type": "code",
   "execution_count": 48,
   "id": "7be96fed",
   "metadata": {},
   "outputs": [
    {
     "name": "stdout",
     "output_type": "stream",
     "text": [
      "['Y', 'a', 's', 'h', ' ', 'i', 's', ' ', 'c', 'o', 'd', 'i', 'n', 'g']\n",
      "['Yash', 'Suhas', 'Shukla']\n"
     ]
    }
   ],
   "source": [
    "#We can use the list constructor to convert any scenario of strings as list.\n",
    "list_test = list((\"Yash is coding\"))\n",
    "list_test_2 = list((\"Yash\", \"Suhas\", \"Shukla\"))\n",
    "\n",
    "print(list_test)\n",
    "print(list_test_2)"
   ]
  },
  {
   "cell_type": "markdown",
   "id": "af9fc09e-1d44-485d-8cfb-3f7d84e5488c",
   "metadata": {
    "jp-MarkdownHeadingCollapsed": true
   },
   "source": [
    "## type() function on List"
   ]
  },
  {
   "cell_type": "code",
   "execution_count": 51,
   "id": "dcffb185-f930-4e42-9265-407924239c2b",
   "metadata": {},
   "outputs": [
    {
     "name": "stdout",
     "output_type": "stream",
     "text": [
      "<class 'list'>\n"
     ]
    }
   ],
   "source": [
    "# Using the type function we can also get the datatype of the list. It will return the value as list\n",
    "print(type(list_4))"
   ]
  },
  {
   "cell_type": "markdown",
   "id": "2a9bc099-e325-439d-b41e-f202f356af25",
   "metadata": {
    "jp-MarkdownHeadingCollapsed": true
   },
   "source": [
    "## len() function on List"
   ]
  },
  {
   "cell_type": "code",
   "execution_count": 54,
   "id": "fdb389bc-5e12-4b5b-9090-721b97c3e214",
   "metadata": {},
   "outputs": [
    {
     "data": {
      "text/plain": [
       "6"
      ]
     },
     "execution_count": 54,
     "metadata": {},
     "output_type": "execute_result"
    }
   ],
   "source": [
    "len(list_4) #list function can also be used on list."
   ]
  }
 ],
 "metadata": {
  "kernelspec": {
   "display_name": "Python 3 (ipykernel)",
   "language": "python",
   "name": "python3"
  },
  "language_info": {
   "codemirror_mode": {
    "name": "ipython",
    "version": 3
   },
   "file_extension": ".py",
   "mimetype": "text/x-python",
   "name": "python",
   "nbconvert_exporter": "python",
   "pygments_lexer": "ipython3",
   "version": "3.12.4"
  }
 },
 "nbformat": 4,
 "nbformat_minor": 5
}
