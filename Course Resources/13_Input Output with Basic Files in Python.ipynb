{
 "cells": [
  {
   "cell_type": "markdown",
   "id": "ee219b29",
   "metadata": {},
   "source": [
    "# Input Output with Basic Files in Python"
   ]
  },
  {
   "cell_type": "markdown",
   "id": "406bb556-2764-4430-b9cb-6cf4407bfe66",
   "metadata": {
    "jp-MarkdownHeadingCollapsed": true
   },
   "source": [
    "## Creating a new Text File"
   ]
  },
  {
   "cell_type": "code",
   "execution_count": 3,
   "id": "fe458f8c",
   "metadata": {},
   "outputs": [
    {
     "name": "stdout",
     "output_type": "stream",
     "text": [
      "Overwriting My_file1.txt\n"
     ]
    }
   ],
   "source": [
    "%%writefile My_file1.txt \n",
    "This is first line\n",
    "This is second line\n",
    "This is third line."
   ]
  },
  {
   "cell_type": "markdown",
   "id": "074272ba",
   "metadata": {
    "jp-MarkdownHeadingCollapsed": true
   },
   "source": [
    "## Opening an already existing file in Current Working Directory"
   ]
  },
  {
   "cell_type": "code",
   "execution_count": 5,
   "id": "691f5eea",
   "metadata": {},
   "outputs": [],
   "source": [
    "myfile = open('Gogo.txt')"
   ]
  },
  {
   "cell_type": "markdown",
   "id": "40d5df9e",
   "metadata": {
    "jp-MarkdownHeadingCollapsed": true
   },
   "source": [
    "## To know your Current Working Directory"
   ]
  },
  {
   "cell_type": "code",
   "execution_count": 7,
   "id": "1e72cbdc",
   "metadata": {},
   "outputs": [
    {
     "data": {
      "text/plain": [
       "'C:\\\\Users\\\\studi\\\\Desktop\\\\Master Udemy Learning Folder\\\\New folder\\\\UDEMY 2022 Complete Python Bootcamp From Zero to Hero in Python\\\\My Resources\\\\My Codes\\\\My Jupyter Notebooks'"
      ]
     },
     "execution_count": 7,
     "metadata": {},
     "output_type": "execute_result"
    }
   ],
   "source": [
    "pwd"
   ]
  },
  {
   "cell_type": "markdown",
   "id": "870eb75d",
   "metadata": {
    "jp-MarkdownHeadingCollapsed": true
   },
   "source": [
    "## Read the Opened file"
   ]
  },
  {
   "cell_type": "code",
   "execution_count": 9,
   "id": "5c284464",
   "metadata": {},
   "outputs": [],
   "source": [
    "myfile = open('My_file1.txt')"
   ]
  },
  {
   "cell_type": "code",
   "execution_count": 10,
   "id": "4a0992cb",
   "metadata": {},
   "outputs": [
    {
     "data": {
      "text/plain": [
       "'This is first line\\nThis is second line\\nThis is third line.\\n'"
      ]
     },
     "execution_count": 10,
     "metadata": {},
     "output_type": "execute_result"
    }
   ],
   "source": [
    "myfile.read()"
   ]
  },
  {
   "cell_type": "code",
   "execution_count": 11,
   "id": "5a08ce04",
   "metadata": {},
   "outputs": [
    {
     "data": {
      "text/plain": [
       "''"
      ]
     },
     "execution_count": 11,
     "metadata": {},
     "output_type": "execute_result"
    }
   ],
   "source": [
    "myfile.read()"
   ]
  },
  {
   "cell_type": "markdown",
   "id": "70124bd4",
   "metadata": {
    "jp-MarkdownHeadingCollapsed": true
   },
   "source": [
    "## Seek the Cursor back to the start of the Readed text file"
   ]
  },
  {
   "cell_type": "code",
   "execution_count": 13,
   "id": "2edf7c0f",
   "metadata": {},
   "outputs": [
    {
     "data": {
      "text/plain": [
       "0"
      ]
     },
     "execution_count": 13,
     "metadata": {},
     "output_type": "execute_result"
    }
   ],
   "source": [
    "myfile.seek(0)"
   ]
  },
  {
   "cell_type": "code",
   "execution_count": 14,
   "id": "e2ec2bf2",
   "metadata": {},
   "outputs": [
    {
     "data": {
      "text/plain": [
       "'This is first line\\nThis is second line\\nThis is third line.\\n'"
      ]
     },
     "execution_count": 14,
     "metadata": {},
     "output_type": "execute_result"
    }
   ],
   "source": [
    "myfile.read()"
   ]
  },
  {
   "cell_type": "markdown",
   "id": "bca30ccd",
   "metadata": {
    "jp-MarkdownHeadingCollapsed": true
   },
   "source": [
    "## Creating a list of all lines inside the Text File"
   ]
  },
  {
   "cell_type": "code",
   "execution_count": 16,
   "id": "4a969904",
   "metadata": {},
   "outputs": [
    {
     "data": {
      "text/plain": [
       "['This is first line\\n', 'This is second line\\n', 'This is third line.\\n']"
      ]
     },
     "execution_count": 16,
     "metadata": {},
     "output_type": "execute_result"
    }
   ],
   "source": [
    "myfile.seek(0)\n",
    "myfile.readlines()"
   ]
  },
  {
   "cell_type": "markdown",
   "id": "7e17c710",
   "metadata": {
    "jp-MarkdownHeadingCollapsed": true
   },
   "source": [
    "## Opening a file saved in some Other Location with changing Current Working Directory"
   ]
  },
  {
   "cell_type": "code",
   "execution_count": 18,
   "id": "4eae24e2",
   "metadata": {},
   "outputs": [
    {
     "ename": "FileNotFoundError",
     "evalue": "[Errno 2] No such file or directory: 'C:\\\\Users\\\\studi\\\\Desktop\\\\my_file2.txt'",
     "output_type": "error",
     "traceback": [
      "\u001b[1;31m---------------------------------------------------------------------------\u001b[0m",
      "\u001b[1;31mFileNotFoundError\u001b[0m                         Traceback (most recent call last)",
      "Cell \u001b[1;32mIn[18], line 1\u001b[0m\n\u001b[1;32m----> 1\u001b[0m myfile \u001b[38;5;241m=\u001b[39m \u001b[38;5;28mopen\u001b[39m(\u001b[38;5;124m\"\u001b[39m\u001b[38;5;124mC:\u001b[39m\u001b[38;5;130;01m\\\\\u001b[39;00m\u001b[38;5;124mUsers\u001b[39m\u001b[38;5;130;01m\\\\\u001b[39;00m\u001b[38;5;124mstudi\u001b[39m\u001b[38;5;130;01m\\\\\u001b[39;00m\u001b[38;5;124mDesktop\u001b[39m\u001b[38;5;130;01m\\\\\u001b[39;00m\u001b[38;5;124mmy_file2.txt\u001b[39m\u001b[38;5;124m\"\u001b[39m)\n",
      "File \u001b[1;32m~\\anaconda3\\Lib\\site-packages\\IPython\\core\\interactiveshell.py:324\u001b[0m, in \u001b[0;36m_modified_open\u001b[1;34m(file, *args, **kwargs)\u001b[0m\n\u001b[0;32m    317\u001b[0m \u001b[38;5;28;01mif\u001b[39;00m file \u001b[38;5;129;01min\u001b[39;00m {\u001b[38;5;241m0\u001b[39m, \u001b[38;5;241m1\u001b[39m, \u001b[38;5;241m2\u001b[39m}:\n\u001b[0;32m    318\u001b[0m     \u001b[38;5;28;01mraise\u001b[39;00m \u001b[38;5;167;01mValueError\u001b[39;00m(\n\u001b[0;32m    319\u001b[0m         \u001b[38;5;124mf\u001b[39m\u001b[38;5;124m\"\u001b[39m\u001b[38;5;124mIPython won\u001b[39m\u001b[38;5;124m'\u001b[39m\u001b[38;5;124mt let you open fd=\u001b[39m\u001b[38;5;132;01m{\u001b[39;00mfile\u001b[38;5;132;01m}\u001b[39;00m\u001b[38;5;124m by default \u001b[39m\u001b[38;5;124m\"\u001b[39m\n\u001b[0;32m    320\u001b[0m         \u001b[38;5;124m\"\u001b[39m\u001b[38;5;124mas it is likely to crash IPython. If you know what you are doing, \u001b[39m\u001b[38;5;124m\"\u001b[39m\n\u001b[0;32m    321\u001b[0m         \u001b[38;5;124m\"\u001b[39m\u001b[38;5;124myou can use builtins\u001b[39m\u001b[38;5;124m'\u001b[39m\u001b[38;5;124m open.\u001b[39m\u001b[38;5;124m\"\u001b[39m\n\u001b[0;32m    322\u001b[0m     )\n\u001b[1;32m--> 324\u001b[0m \u001b[38;5;28;01mreturn\u001b[39;00m io_open(file, \u001b[38;5;241m*\u001b[39margs, \u001b[38;5;241m*\u001b[39m\u001b[38;5;241m*\u001b[39mkwargs)\n",
      "\u001b[1;31mFileNotFoundError\u001b[0m: [Errno 2] No such file or directory: 'C:\\\\Users\\\\studi\\\\Desktop\\\\my_file2.txt'"
     ]
    }
   ],
   "source": [
    "myfile = open(\"C:\\\\Users\\\\studi\\\\Desktop\\\\my_file2.txt\")"
   ]
  },
  {
   "cell_type": "markdown",
   "id": "65cc15c2",
   "metadata": {
    "jp-MarkdownHeadingCollapsed": true
   },
   "source": [
    "## Closing a File Manually"
   ]
  },
  {
   "cell_type": "code",
   "execution_count": 26,
   "id": "727d961c",
   "metadata": {},
   "outputs": [],
   "source": [
    "myfile.close()"
   ]
  },
  {
   "cell_type": "markdown",
   "id": "18e5df1e",
   "metadata": {
    "jp-MarkdownHeadingCollapsed": true
   },
   "source": [
    "## Automatic File Closing"
   ]
  },
  {
   "cell_type": "code",
   "execution_count": 29,
   "id": "769fb164",
   "metadata": {},
   "outputs": [],
   "source": [
    "with open(\"My_file1.txt\") as my_new_file:\n",
    "    contents = my_new_file.read()"
   ]
  },
  {
   "cell_type": "code",
   "execution_count": 31,
   "id": "762eaa79",
   "metadata": {},
   "outputs": [
    {
     "data": {
      "text/plain": [
       "'This is first line\\nThis is second line\\nThis is third line.\\n'"
      ]
     },
     "execution_count": 31,
     "metadata": {},
     "output_type": "execute_result"
    }
   ],
   "source": [
    "contents"
   ]
  },
  {
   "cell_type": "markdown",
   "id": "d2fa782e",
   "metadata": {
    "jp-MarkdownHeadingCollapsed": true
   },
   "source": [
    "## The mode Argument and Permissions"
   ]
  },
  {
   "cell_type": "markdown",
   "id": "6c01d9f6-14af-4167-ae95-bb96d2a1c1c4",
   "metadata": {
    "jp-MarkdownHeadingCollapsed": true
   },
   "source": [
    "### The Read Permission"
   ]
  },
  {
   "cell_type": "code",
   "execution_count": 4,
   "id": "df399a50",
   "metadata": {},
   "outputs": [
    {
     "name": "stdout",
     "output_type": "stream",
     "text": [
      "This is first line\n",
      "This is second line\n",
      "This is third line.\n",
      "\n"
     ]
    }
   ],
   "source": [
    "with open(\"My_file1.txt\",mode='r') as my_new_file:\n",
    "    contents = my_new_file.read()                  #This is code for reading the file.\n",
    "print(contents)"
   ]
  },
  {
   "cell_type": "markdown",
   "id": "8fe83a5d-a595-4bca-829b-6b9c20e3071b",
   "metadata": {
    "jp-MarkdownHeadingCollapsed": true
   },
   "source": [
    "### The Append Permission"
   ]
  },
  {
   "cell_type": "code",
   "execution_count": 16,
   "id": "a94d3baf",
   "metadata": {},
   "outputs": [],
   "source": [
    "with open(\"My_file1.txt\",mode='a') as my_new_file:\n",
    "    my_new_file.write(\"\\nALL SENTENCES ARE BACK NOW.\\nHELLO WORLD\") #This will only append and add new text to the file. It will not overwrite the file."
   ]
  },
  {
   "cell_type": "code",
   "execution_count": 18,
   "id": "04f9cbed",
   "metadata": {},
   "outputs": [
    {
     "name": "stdout",
     "output_type": "stream",
     "text": [
      "ALL SENTENCES ARE GONE\n",
      "ALL SENTENCES ARE BACK NOW.\n",
      "HELLO WORLD\n"
     ]
    }
   ],
   "source": [
    "with open(\"My_file1.txt\",mode='r') as my_new_file:\n",
    "    contents = my_new_file.read()\n",
    "print(contents)"
   ]
  },
  {
   "cell_type": "markdown",
   "id": "85a608b2-7065-48ad-b7f1-06b5a5a14044",
   "metadata": {
    "jp-MarkdownHeadingCollapsed": true
   },
   "source": [
    "### The Write Permission"
   ]
  },
  {
   "cell_type": "code",
   "execution_count": 8,
   "id": "cff8eee7",
   "metadata": {},
   "outputs": [],
   "source": [
    "with open(\"My_file1.txt\",mode='w') as my_new_file:\n",
    "    my_new_file.write(\"ALL SENTENCES ARE GONE\")    #This will overwrite the existing file and add the text written on this line."
   ]
  },
  {
   "cell_type": "code",
   "execution_count": 10,
   "id": "71b38f4a",
   "metadata": {},
   "outputs": [
    {
     "name": "stdout",
     "output_type": "stream",
     "text": [
      "ALL SENTENCES ARE GONE\n"
     ]
    }
   ],
   "source": [
    "with open(\"My_file1.txt\",mode='r') as my_new_file:\n",
    "    contents = my_new_file.read()\n",
    "print(contents)"
   ]
  }
 ],
 "metadata": {
  "kernelspec": {
   "display_name": "Python 3 (ipykernel)",
   "language": "python",
   "name": "python3"
  },
  "language_info": {
   "codemirror_mode": {
    "name": "ipython",
    "version": 3
   },
   "file_extension": ".py",
   "mimetype": "text/x-python",
   "name": "python",
   "nbconvert_exporter": "python",
   "pygments_lexer": "ipython3",
   "version": "3.12.4"
  }
 },
 "nbformat": 4,
 "nbformat_minor": 5
}
