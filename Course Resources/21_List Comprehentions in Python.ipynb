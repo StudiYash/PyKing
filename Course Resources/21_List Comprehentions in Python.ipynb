{
 "cells": [
  {
   "cell_type": "markdown",
   "id": "f56b36bb-5d72-4bd7-8337-ec831a9ca43b",
   "metadata": {},
   "source": [
    "# **List Comprehentions in Python**"
   ]
  },
  {
   "cell_type": "markdown",
   "id": "a8bbe94a-7f64-433e-b7fc-bbb1ad00c50c",
   "metadata": {
    "jp-MarkdownHeadingCollapsed": true
   },
   "source": [
    "## **Normal Operations during List Comprehentions**"
   ]
  },
  {
   "cell_type": "code",
   "execution_count": 3,
   "id": "fba65bb5-3164-4cd2-b0b6-8f81e56f4450",
   "metadata": {},
   "outputs": [
    {
     "name": "stdout",
     "output_type": "stream",
     "text": [
      "['H', 'e', 'l', 'l', 'o']\n"
     ]
    }
   ],
   "source": [
    "mystring = \"Hello\"\n",
    "mylist = [letter for letter in mystring]\n",
    "print(mylist)"
   ]
  },
  {
   "cell_type": "code",
   "execution_count": 8,
   "id": "a3424e90-c263-4463-a9a7-ee6eed42ee3b",
   "metadata": {},
   "outputs": [
    {
     "name": "stdout",
     "output_type": "stream",
     "text": [
      "['M', 'y', 'W', 'o', 'r', 'd']\n"
     ]
    }
   ],
   "source": [
    "mylist2 = [x for x in \"MyWord\"]\n",
    "print(mylist2)"
   ]
  },
  {
   "cell_type": "code",
   "execution_count": 10,
   "id": "b4a466ef-b605-4667-a69c-28260afa9bbe",
   "metadata": {},
   "outputs": [
    {
     "name": "stdout",
     "output_type": "stream",
     "text": [
      "[0, 1, 2, 3, 4, 5, 6, 7, 8, 9, 10]\n"
     ]
    }
   ],
   "source": [
    "mylist3 = [x for x in range(0,11)]\n",
    "print(mylist3)"
   ]
  },
  {
   "cell_type": "markdown",
   "id": "ef99ddf5-b7e2-4293-9b99-4b3a0baeee47",
   "metadata": {
    "jp-MarkdownHeadingCollapsed": true
   },
   "source": [
    "## **Complex Operations during List Comprehentions**"
   ]
  },
  {
   "cell_type": "code",
   "execution_count": 15,
   "id": "551f93f7-23c5-4f59-be4a-838f354270fa",
   "metadata": {},
   "outputs": [
    {
     "name": "stdout",
     "output_type": "stream",
     "text": [
      "[0, 1, 4, 9, 16, 25, 36, 49, 64, 81, 100]\n"
     ]
    }
   ],
   "source": [
    "mylist4 = [num**2 for num in range(0,11)]\n",
    "print(mylist4)"
   ]
  },
  {
   "cell_type": "code",
   "execution_count": 29,
   "id": "cc64e6fb-19ca-4ff5-a520-ccedc8e80b2d",
   "metadata": {},
   "outputs": [
    {
     "name": "stdout",
     "output_type": "stream",
     "text": [
      "[0, 2, 4, 6, 8, 10]\n"
     ]
    }
   ],
   "source": [
    "mylist5 = [num for num in range (0,11) if num%2 == 0]\n",
    "print(mylist5)"
   ]
  },
  {
   "cell_type": "code",
   "execution_count": 39,
   "id": "41d397be-8874-4f5e-b0ae-e86859decd05",
   "metadata": {},
   "outputs": [
    {
     "name": "stdout",
     "output_type": "stream",
     "text": [
      "[32.0, 50.0, 68.0, 86.0]\n"
     ]
    }
   ],
   "source": [
    "celcius = [0,10,20,30]\n",
    "\n",
    "farenheit = [((9/5)*temp + 32) for temp in celcius]\n",
    "print(farenheit)"
   ]
  },
  {
   "cell_type": "code",
   "execution_count": 47,
   "id": "25c4bc59-17dc-4279-9fe0-8e5e52f0082c",
   "metadata": {},
   "outputs": [
    {
     "name": "stdout",
     "output_type": "stream",
     "text": [
      "[0, 'ODD', 2, 'ODD', 4, 'ODD', 6, 'ODD', 8, 'ODD', 10]\n"
     ]
    }
   ],
   "source": [
    "results = [(x if x%2 == 0 else 'ODD') for x in range(0,11)]\n",
    "print(results)"
   ]
  },
  {
   "cell_type": "code",
   "execution_count": 49,
   "id": "176b1918-7524-4ad3-abc1-0b9941328a4d",
   "metadata": {},
   "outputs": [
    {
     "name": "stdout",
     "output_type": "stream",
     "text": [
      "[2, 20, 2000, 4, 40, 4000, 6, 60, 6000]\n"
     ]
    }
   ],
   "source": [
    "mylist6 = [x*y for x in [2,4,6] for y in [1,10,1000]]\n",
    "print(mylist6)"
   ]
  },
  {
   "cell_type": "code",
   "execution_count": null,
   "id": "4e1c3aa8-5097-4d01-bf87-cbe537ca8f3f",
   "metadata": {},
   "outputs": [],
   "source": []
  }
 ],
 "metadata": {
  "kernelspec": {
   "display_name": "Python 3 (ipykernel)",
   "language": "python",
   "name": "python3"
  },
  "language_info": {
   "codemirror_mode": {
    "name": "ipython",
    "version": 3
   },
   "file_extension": ".py",
   "mimetype": "text/x-python",
   "name": "python",
   "nbconvert_exporter": "python",
   "pygments_lexer": "ipython3",
   "version": "3.12.4"
  }
 },
 "nbformat": 4,
 "nbformat_minor": 5
}
