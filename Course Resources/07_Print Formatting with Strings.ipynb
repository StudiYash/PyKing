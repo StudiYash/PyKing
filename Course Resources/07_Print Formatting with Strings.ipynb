{
 "cells": [
  {
   "cell_type": "markdown",
   "id": "3cd1714b-138d-44ba-bb6d-815ea6490b94",
   "metadata": {},
   "source": [
    "# Print Formatting with Strings"
   ]
  },
  {
   "cell_type": "markdown",
   "id": "5fa68cb2-1217-467d-8de5-b5e8e82d2903",
   "metadata": {
    "jp-MarkdownHeadingCollapsed": true
   },
   "source": [
    "## .format() Method"
   ]
  },
  {
   "cell_type": "markdown",
   "id": "fc9b5d82",
   "metadata": {},
   "source": [
    "### Formatting print statements with .format() method is shown below. It can be done by 3 different ways"
   ]
  },
  {
   "cell_type": "markdown",
   "id": "22214bf7",
   "metadata": {
    "jp-MarkdownHeadingCollapsed": true
   },
   "source": [
    "#### First Way is shown :-"
   ]
  },
  {
   "cell_type": "code",
   "execution_count": 2,
   "id": "ceb08be2",
   "metadata": {},
   "outputs": [
    {
     "name": "stdout",
     "output_type": "stream",
     "text": [
      "This is a string INSERTED\n"
     ]
    }
   ],
   "source": [
    "print('This is a string {}'.format('INSERTED'))"
   ]
  },
  {
   "cell_type": "markdown",
   "id": "082c47c6",
   "metadata": {
    "jp-MarkdownHeadingCollapsed": true
   },
   "source": [
    "#### Second Way is shown :-"
   ]
  },
  {
   "cell_type": "code",
   "execution_count": 3,
   "id": "9660d23a",
   "metadata": {},
   "outputs": [
    {
     "name": "stdout",
     "output_type": "stream",
     "text": [
      "The fox is running \n"
     ]
    }
   ],
   "source": [
    "print('The {} {} {} '.format('fox','is','running'))"
   ]
  },
  {
   "cell_type": "markdown",
   "id": "224e2ba3",
   "metadata": {},
   "source": [
    "#### Third Way is shown :-"
   ]
  },
  {
   "cell_type": "code",
   "execution_count": 4,
   "id": "1610f2dc",
   "metadata": {},
   "outputs": [
    {
     "name": "stdout",
     "output_type": "stream",
     "text": [
      "The fox is running \n"
     ]
    }
   ],
   "source": [
    "print('The {f} {i} {r} '.format(f='fox',i='is',r='running'))"
   ]
  },
  {
   "cell_type": "markdown",
   "id": "551a8a10",
   "metadata": {},
   "source": [
    " "
   ]
  },
  {
   "cell_type": "markdown",
   "id": "baf76cb9",
   "metadata": {},
   "source": [
    "### Float formatting variation of .format() method"
   ]
  },
  {
   "cell_type": "code",
   "execution_count": 5,
   "id": "2285c4cb",
   "metadata": {},
   "outputs": [],
   "source": [
    "num = 400/293"
   ]
  },
  {
   "cell_type": "code",
   "execution_count": 6,
   "id": "f5b1760c",
   "metadata": {},
   "outputs": [
    {
     "name": "stdout",
     "output_type": "stream",
     "text": [
      "The ans is 1.3651877133105803\n"
     ]
    }
   ],
   "source": [
    "print('The ans is {}'.format(num))"
   ]
  },
  {
   "cell_type": "code",
   "execution_count": 19,
   "id": "a38a4378",
   "metadata": {},
   "outputs": [
    {
     "name": "stdout",
     "output_type": "stream",
     "text": [
      "The ans is 1.37\n"
     ]
    }
   ],
   "source": [
    "print('The ans is {y:1.2f}'.format(y = num))"
   ]
  },
  {
   "cell_type": "markdown",
   "id": "ce374302",
   "metadata": {},
   "source": [
    " "
   ]
  },
  {
   "cell_type": "markdown",
   "id": "64f0f1cd",
   "metadata": {
    "jp-MarkdownHeadingCollapsed": true
   },
   "source": [
    "## f-strings Method "
   ]
  },
  {
   "cell_type": "markdown",
   "id": "758e4127-49e2-42ec-9ba5-626c51190318",
   "metadata": {
    "jp-MarkdownHeadingCollapsed": true
   },
   "source": [
    "### f-strings method used for single variable."
   ]
  },
  {
   "cell_type": "code",
   "execution_count": 8,
   "id": "1dd02077",
   "metadata": {},
   "outputs": [],
   "source": [
    "name = \"Yash\""
   ]
  },
  {
   "cell_type": "code",
   "execution_count": 9,
   "id": "84720749",
   "metadata": {},
   "outputs": [
    {
     "name": "stdout",
     "output_type": "stream",
     "text": [
      "His name is Yash\n"
     ]
    }
   ],
   "source": [
    "print(f'His name is {name}')"
   ]
  },
  {
   "cell_type": "markdown",
   "id": "4f492964",
   "metadata": {
    "jp-MarkdownHeadingCollapsed": true
   },
   "source": [
    "### f-strings method used for multiple variables."
   ]
  },
  {
   "cell_type": "code",
   "execution_count": 10,
   "id": "bf1b0040",
   "metadata": {},
   "outputs": [],
   "source": [
    "name = \"Yash\"\n",
    "age = \"19\"\n",
    "sex = \"boy\""
   ]
  },
  {
   "cell_type": "code",
   "execution_count": 11,
   "id": "efcdc866",
   "metadata": {},
   "outputs": [
    {
     "name": "stdout",
     "output_type": "stream",
     "text": [
      "His name is Yash. His age is 19. He is a boy.\n"
     ]
    }
   ],
   "source": [
    "print(f'His name is {name}. His age is {age}. He is a {sex}.')"
   ]
  }
 ],
 "metadata": {
  "kernelspec": {
   "display_name": "Python 3 (ipykernel)",
   "language": "python",
   "name": "python3"
  },
  "language_info": {
   "codemirror_mode": {
    "name": "ipython",
    "version": 3
   },
   "file_extension": ".py",
   "mimetype": "text/x-python",
   "name": "python",
   "nbconvert_exporter": "python",
   "pygments_lexer": "ipython3",
   "version": "3.12.4"
  }
 },
 "nbformat": 4,
 "nbformat_minor": 5
}
