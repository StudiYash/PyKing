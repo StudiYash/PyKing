{
 "cells": [
  {
   "cell_type": "markdown",
   "id": "1bfdcbe5-38fc-41fa-b441-298606378d3c",
   "metadata": {},
   "source": [
    "# **Assessment Test 5**"
   ]
  },
  {
   "cell_type": "markdown",
   "id": "bb29a5aa-b067-4647-85e7-4fc756e1ecc9",
   "metadata": {},
   "source": [
    "**This Notebook is based on concepts found in following notebooks:-**\n",
    "\n",
    "    01. Errors and Exception Handling"
   ]
  },
  {
   "cell_type": "markdown",
   "id": "f8d9da2e-2368-4ad6-adf9-55a1ab3b6ae5",
   "metadata": {
    "jp-MarkdownHeadingCollapsed": true
   },
   "source": [
    "## **Question No.1**"
   ]
  },
  {
   "cell_type": "markdown",
   "id": "3dcd46a1-f857-468a-b3bc-bddf3b3abbe3",
   "metadata": {},
   "source": [
    "**Handle the exception thrown by the code below by using <code> try </code> and <code> except </code> blocks.**"
   ]
  },
  {
   "cell_type": "code",
   "execution_count": null,
   "id": "9ca0983e-bf6b-4e01-b88a-3a88fb27f7c7",
   "metadata": {},
   "outputs": [],
   "source": [
    "for i in ['a','b','c']:\n",
    "    print(i**2)"
   ]
  },
  {
   "cell_type": "markdown",
   "id": "88e44bfb-c525-44a8-adfb-a9b05f332322",
   "metadata": {
    "jp-MarkdownHeadingCollapsed": true
   },
   "source": [
    "## **Question No.2**"
   ]
  },
  {
   "cell_type": "markdown",
   "id": "461b417f-2f0c-430e-a381-83b477387d85",
   "metadata": {},
   "source": [
    "**Handle the exception thrown by the code below by using <code> try </code> and <code> except </code> blocks. Then use a <code> finally </code> block to print 'All Done.'**"
   ]
  },
  {
   "cell_type": "code",
   "execution_count": null,
   "id": "b918efb8-4d06-46e2-a145-601da155a492",
   "metadata": {},
   "outputs": [],
   "source": [
    "x = 5\n",
    "y = 0\n",
    "\n",
    "z = x/y"
   ]
  },
  {
   "cell_type": "markdown",
   "id": "840b5694-f132-45b3-9ca3-30317494153c",
   "metadata": {
    "jp-MarkdownHeadingCollapsed": true
   },
   "source": [
    "## **Question No.3**"
   ]
  },
  {
   "cell_type": "markdown",
   "id": "91075521-2889-4799-a7c3-f9186748b20c",
   "metadata": {},
   "source": [
    "**Write a function that asks for an integer and prints the square of it. Use a <code> while </code> loop with a <code> try </code>, <code> except </code>, <code> else </code> block to account for incorrect inputs.**"
   ]
  },
  {
   "cell_type": "code",
   "execution_count": null,
   "id": "3bdc10ff-a1b6-424b-b08d-a5e15517db7f",
   "metadata": {},
   "outputs": [],
   "source": [
    "def ask():\n",
    "    pass"
   ]
  },
  {
   "cell_type": "code",
   "execution_count": null,
   "id": "94b888f9-97af-4f75-96f9-6ab4cebadf44",
   "metadata": {},
   "outputs": [],
   "source": [
    "ask()"
   ]
  },
  {
   "cell_type": "markdown",
   "id": "b29ac65d-d89f-4f67-a3b7-a819ab12ec5b",
   "metadata": {
    "jp-MarkdownHeadingCollapsed": true
   },
   "source": [
    "# **Congratulations on Completing Assessment Test 5**"
   ]
  }
 ],
 "metadata": {
  "kernelspec": {
   "display_name": "Python 3 (ipykernel)",
   "language": "python",
   "name": "python3"
  },
  "language_info": {
   "codemirror_mode": {
    "name": "ipython",
    "version": 3
   },
   "file_extension": ".py",
   "mimetype": "text/x-python",
   "name": "python",
   "nbconvert_exporter": "python",
   "pygments_lexer": "ipython3",
   "version": "3.12.4"
  }
 },
 "nbformat": 4,
 "nbformat_minor": 5
}
