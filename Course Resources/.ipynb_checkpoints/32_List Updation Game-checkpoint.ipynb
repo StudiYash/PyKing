{
 "cells": [
  {
   "cell_type": "markdown",
   "id": "f2ab22de-d9a2-420c-aa48-204ed1491f55",
   "metadata": {},
   "source": [
    "# **List Updation Game**"
   ]
  },
  {
   "cell_type": "markdown",
   "id": "5b81ca13-e30e-4aff-9230-b0987096ff32",
   "metadata": {
    "jp-MarkdownHeadingCollapsed": true
   },
   "source": [
    "## **Initial Setup and Displaying the Game List**"
   ]
  },
  {
   "cell_type": "code",
   "execution_count": 3,
   "id": "7adfc08b-a738-475c-a89b-461533a471ee",
   "metadata": {},
   "outputs": [],
   "source": [
    "# Step 1: Create a game list\n",
    "game_list = [0, 1, 2]\n",
    "\n",
    "# Step 2: Create a function to display the list\n",
    "def display_game(game_list):\n",
    "    print(\"Here is the current list:\")\n",
    "    print(game_list)\n",
    "\n",
    "# Call the display function\n",
    "#display_game(game_list)"
   ]
  },
  {
   "cell_type": "markdown",
   "id": "169d6bb0-0633-44da-ab1f-96da4dfdead9",
   "metadata": {
    "jp-MarkdownHeadingCollapsed": true
   },
   "source": [
    "## **Validating User's Position Choice**"
   ]
  },
  {
   "cell_type": "code",
   "execution_count": 5,
   "id": "75eff10b-e9bf-43bc-a3fa-76cdf996c1f1",
   "metadata": {},
   "outputs": [],
   "source": [
    "def user_validate():\n",
    "    available_position = ['0', '1', '2']\n",
    "    entered_position = input(\"Enter the desired position from 0, 1, and 2: \")\n",
    "    \n",
    "    while entered_position not in available_position:\n",
    "        print(\"Position not available\")\n",
    "        entered_position = input(\"Enter the correct position from 0, 1, and 2: \")\n",
    "    \n",
    "    return int(entered_position)  # Return as an integer\n",
    "\n",
    "#position = user_validate()\n",
    "#print(f\"You chose position: {position}\")"
   ]
  },
  {
   "cell_type": "markdown",
   "id": "b9c6620d-1bb6-4c02-8a37-374d324c9104",
   "metadata": {
    "jp-MarkdownHeadingCollapsed": true
   },
   "source": [
    "## **Replacing the Value at the Chosen Position**"
   ]
  },
  {
   "cell_type": "code",
   "execution_count": 7,
   "id": "d1026808-01d6-42c8-9497-41f155f4febc",
   "metadata": {},
   "outputs": [],
   "source": [
    "def replace_value(game_list, position):\n",
    "    # Ask the user for the value\n",
    "    value = input(\"Enter the value to replace in selected position: \")\n",
    "\n",
    "    # Directly replace the value at the given position\n",
    "    game_list[position] = value\n",
    "\n",
    "    # Return the updated list\n",
    "    return game_list\n",
    "\n",
    "# Test the function\n",
    "#game_list = [0, 1, 2]\n",
    "#position = 1  # For example, you get this from position_choice() in the complete game\n",
    "#game_list = replace_value(game_list, position)\n",
    "#print(game_list)"
   ]
  },
  {
   "cell_type": "markdown",
   "id": "9ffd61c2-7bca-4644-8c0a-b213b63fbeba",
   "metadata": {
    "jp-MarkdownHeadingCollapsed": true
   },
   "source": [
    "## **Confirming if the User Wants to Continue**"
   ]
  },
  {
   "cell_type": "code",
   "execution_count": 9,
   "id": "ce2b29f6-954e-478c-aa93-4349e71c62c0",
   "metadata": {},
   "outputs": [],
   "source": [
    "def play_confirm():\n",
    "    confirm = input(\"Do you want to keep playing the game? Yes or No: \").lower()\n",
    "    \n",
    "    if confirm == 'yes':\n",
    "        return True\n",
    "    elif confirm == 'no':\n",
    "        print()\n",
    "        print(\"Thanks for playing this game\")\n",
    "        return False\n",
    "        \n",
    "    else:\n",
    "        print(\"Invalid choice, please enter 'Yes' or 'No'.\")\n",
    "        return play_confirm()  # Call the function again to prompt for a valid response\n",
    "\n",
    "#play_confirm()"
   ]
  },
  {
   "cell_type": "markdown",
   "id": "bbdb2902-2e22-4606-821b-41639d9936fd",
   "metadata": {
    "jp-MarkdownHeadingCollapsed": true
   },
   "source": [
    "## **Creating the Game Loop**"
   ]
  },
  {
   "cell_type": "code",
   "execution_count": 11,
   "id": "56dfc231-ec42-400c-9e67-b84b07de0882",
   "metadata": {},
   "outputs": [
    {
     "name": "stdout",
     "output_type": "stream",
     "text": [
      "Here is the current list:\n",
      "[0, 1, 2]\n"
     ]
    },
    {
     "name": "stdin",
     "output_type": "stream",
     "text": [
      "Enter the desired position from 0, 1, and 2:  0\n",
      "Enter the value to replace in selected position:  Mango\n"
     ]
    },
    {
     "name": "stdout",
     "output_type": "stream",
     "text": [
      "Here is the current list:\n",
      "['Mango', 1, 2]\n"
     ]
    },
    {
     "name": "stdin",
     "output_type": "stream",
     "text": [
      "Do you want to keep playing the game? Yes or No:  yes\n"
     ]
    },
    {
     "name": "stdout",
     "output_type": "stream",
     "text": [
      "Here is the current list:\n",
      "['Mango', 1, 2]\n"
     ]
    },
    {
     "name": "stdin",
     "output_type": "stream",
     "text": [
      "Enter the desired position from 0, 1, and 2:  1\n",
      "Enter the value to replace in selected position:  Apple\n"
     ]
    },
    {
     "name": "stdout",
     "output_type": "stream",
     "text": [
      "Here is the current list:\n",
      "['Mango', 'Apple', 2]\n"
     ]
    },
    {
     "name": "stdin",
     "output_type": "stream",
     "text": [
      "Do you want to keep playing the game? Yes or No:  yes\n"
     ]
    },
    {
     "name": "stdout",
     "output_type": "stream",
     "text": [
      "Here is the current list:\n",
      "['Mango', 'Apple', 2]\n"
     ]
    },
    {
     "name": "stdin",
     "output_type": "stream",
     "text": [
      "Enter the desired position from 0, 1, and 2:  2\n",
      "Enter the value to replace in selected position:  Banana\n"
     ]
    },
    {
     "name": "stdout",
     "output_type": "stream",
     "text": [
      "Here is the current list:\n",
      "['Mango', 'Apple', 'Banana']\n"
     ]
    },
    {
     "name": "stdin",
     "output_type": "stream",
     "text": [
      "Do you want to keep playing the game? Yes or No:  no\n"
     ]
    },
    {
     "name": "stdout",
     "output_type": "stream",
     "text": [
      "\n",
      "Thanks for playing this game\n"
     ]
    }
   ],
   "source": [
    "def play_game():\n",
    "    # Variable to keep game playing\n",
    "    game_on = True\n",
    "\n",
    "    while game_on:\n",
    "        # Display the game list\n",
    "        display_game(game_list)\n",
    "\n",
    "        # Get the position choice from the user\n",
    "        position = user_validate()  # Fix: This should return the position\n",
    "\n",
    "        # Replace the value at the chosen position\n",
    "        replace_value(game_list, position)  # Use the correct game_list and position\n",
    "\n",
    "        # Display the updated game list\n",
    "        display_game(game_list)\n",
    "\n",
    "        # Ask if the user wants to continue playing\n",
    "        game_on = play_confirm()  # Fix: Use this to control the loop\n",
    "\n",
    "play_game()"
   ]
  }
 ],
 "metadata": {
  "kernelspec": {
   "display_name": "Python 3 (ipykernel)",
   "language": "python",
   "name": "python3"
  },
  "language_info": {
   "codemirror_mode": {
    "name": "ipython",
    "version": 3
   },
   "file_extension": ".py",
   "mimetype": "text/x-python",
   "name": "python",
   "nbconvert_exporter": "python",
   "pygments_lexer": "ipython3",
   "version": "3.12.4"
  }
 },
 "nbformat": 4,
 "nbformat_minor": 5
}
