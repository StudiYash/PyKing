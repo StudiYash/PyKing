{
 "cells": [
  {
   "cell_type": "markdown",
   "id": "df7850ed-1f7d-49c1-92d5-b55395984b3e",
   "metadata": {},
   "source": [
    "# **SPECIAL PRACTICE 1**"
   ]
  },
  {
   "cell_type": "markdown",
   "id": "11f95399-f79d-446b-a06f-6d915516a22a",
   "metadata": {},
   "source": [
    "**This Notebook is based on concepts found in following notebooks:-**\n",
    "\n",
    "    01. Basics of Python Functions\n",
    "    02. Logic with Python Functions\n",
    "    03. Tuple Unpacking with Python Functions\n",
    "    04. Interactions between Python Functions\n",
    "    05. Python args and kwargs"
   ]
  },
  {
   "cell_type": "markdown",
   "id": "e5324071-21cc-47f5-8e50-76ef39105fab",
   "metadata": {
    "jp-MarkdownHeadingCollapsed": true
   },
   "source": [
    "## **WARM-UP SECTION**"
   ]
  },
  {
   "cell_type": "markdown",
   "id": "e9e8f3de-af2e-4ecc-a5c5-73a140e31238",
   "metadata": {
    "jp-MarkdownHeadingCollapsed": true
   },
   "source": [
    "### **Question No.1**"
   ]
  },
  {
   "cell_type": "markdown",
   "id": "50913e07-1618-43ae-bbbc-0a409c8407f6",
   "metadata": {},
   "source": [
    "**LESSER OF TWO EVENS: Write a function that returns the lesser of two given numbers *if* both numbers are even, but returns the greater if one or both numbers are odd**\n",
    "    \n",
    "    lesser_of_two_evens(2,4) --> 2\n",
    "    lesser_of_two_evens(2,5) --> 5"
   ]
  },
  {
   "cell_type": "code",
   "execution_count": null,
   "id": "e1d62b0b-f5cb-4159-bac1-5e4d9f8a338f",
   "metadata": {},
   "outputs": [],
   "source": [
    "def lesser_of_two_evens(a,b):\n",
    "    pass"
   ]
  },
  {
   "cell_type": "code",
   "execution_count": null,
   "id": "b8a72501-a9d5-4842-b92d-b0c2ae61f3fa",
   "metadata": {},
   "outputs": [],
   "source": [
    "# Check\n",
    "lesser_of_two_evens(2,4)"
   ]
  },
  {
   "cell_type": "code",
   "execution_count": null,
   "id": "46b3b84c-759c-40b2-8d9b-1d0deefa520c",
   "metadata": {},
   "outputs": [],
   "source": [
    "# Check\n",
    "lesser_of_two_evens(2,5)"
   ]
  },
  {
   "cell_type": "markdown",
   "id": "c3568152-8780-43a9-b4ec-3fea2e4988d6",
   "metadata": {
    "jp-MarkdownHeadingCollapsed": true
   },
   "source": [
    "### **Question No.2**"
   ]
  },
  {
   "cell_type": "markdown",
   "id": "a5d06155-965d-43d7-b072-076b4cfbd964",
   "metadata": {},
   "source": [
    "**ANIMAL CRACKERS: Write a function takes a two-word string and returns True if both words begin with same letter**\n",
    "    \n",
    "    animal_crackers('Levelheaded Llama') --> True\n",
    "    animal_crackers('Crazy Kangaroo') --> False"
   ]
  },
  {
   "cell_type": "code",
   "execution_count": null,
   "id": "4019fe40-7dd1-4eaf-b6c9-14ba364589fe",
   "metadata": {},
   "outputs": [],
   "source": [
    "def animal_crackers(text):\n",
    "    pass"
   ]
  },
  {
   "cell_type": "code",
   "execution_count": null,
   "id": "562a7020-3cb9-4c37-b2d1-d2328916ded7",
   "metadata": {},
   "outputs": [],
   "source": [
    "# Check\n",
    "animal_crackers('Levelheaded Llama')"
   ]
  },
  {
   "cell_type": "code",
   "execution_count": null,
   "id": "c792d3c2-b981-41ee-a7a2-b1cab33954bd",
   "metadata": {},
   "outputs": [],
   "source": [
    "# Check\n",
    "animal_crackers('Crazy Kangaroo')"
   ]
  },
  {
   "cell_type": "markdown",
   "id": "5b746325-a809-49f3-859c-4957570f3566",
   "metadata": {
    "jp-MarkdownHeadingCollapsed": true
   },
   "source": [
    "### **Question No.3**"
   ]
  },
  {
   "cell_type": "markdown",
   "id": "26279bb2-a53b-4597-b4f3-16a642f8ece5",
   "metadata": {},
   "source": [
    "**MAKES TWENTY: Given two integers, return True if the sum of the integers is 20 *or* if one of the integers is 20. If not, return False**\n",
    "\n",
    "    makes_twenty(20,10) --> True\n",
    "    makes_twenty(12,8) --> True\n",
    "    makes_twenty(2,3) --> False"
   ]
  },
  {
   "cell_type": "code",
   "execution_count": null,
   "id": "3f41b1aa-c33b-4be8-a004-72bfffe5fd94",
   "metadata": {},
   "outputs": [],
   "source": [
    "def makes_twenty(n1,n2):\n",
    "    pass"
   ]
  },
  {
   "cell_type": "code",
   "execution_count": null,
   "id": "a709450c-243d-423e-ab39-2ef945abfd93",
   "metadata": {},
   "outputs": [],
   "source": [
    "# Check\n",
    "makes_twenty(20,10)"
   ]
  },
  {
   "cell_type": "code",
   "execution_count": null,
   "id": "c1a809a6-cb98-44d4-bbdc-7326180c32d0",
   "metadata": {},
   "outputs": [],
   "source": [
    "# Check\n",
    "makes_twenty(2,3)"
   ]
  },
  {
   "cell_type": "markdown",
   "id": "24b24108-e033-44ed-a9c3-4cf0d68b77be",
   "metadata": {
    "jp-MarkdownHeadingCollapsed": true
   },
   "source": [
    "## **LEVEL 1 PROBLEMS**"
   ]
  },
  {
   "cell_type": "markdown",
   "id": "a9a1c135-0566-411e-82c7-adedac9335e8",
   "metadata": {
    "jp-MarkdownHeadingCollapsed": true
   },
   "source": [
    "### **Question No.1**"
   ]
  },
  {
   "cell_type": "markdown",
   "id": "9c30a4db-f503-46d5-bb79-9f4556ca3590",
   "metadata": {},
   "source": [
    "**OLD MACDONALD: Write a function that capitalizes the first and fourth letters of a name**\n",
    "     \n",
    "    old_macdonald('macdonald') --> MacDonald\n",
    "    \n",
    "Note: `'macdonald'.capitalize()` returns `'Macdonald'`"
   ]
  },
  {
   "cell_type": "code",
   "execution_count": null,
   "id": "67c71022-4c26-4907-8759-e904991c1066",
   "metadata": {},
   "outputs": [],
   "source": [
    "def old_macdonald(name):\n",
    "    pass"
   ]
  },
  {
   "cell_type": "code",
   "execution_count": null,
   "id": "d17d056f-0298-420d-bc64-1e9d75d7f23e",
   "metadata": {},
   "outputs": [],
   "source": [
    "# Check\n",
    "old_macdonald('macdonald')"
   ]
  },
  {
   "cell_type": "markdown",
   "id": "77eb75c7-6401-481e-8315-69a2840c8b9d",
   "metadata": {
    "jp-MarkdownHeadingCollapsed": true
   },
   "source": [
    "### **Question No.2**"
   ]
  },
  {
   "cell_type": "markdown",
   "id": "ecdc5911-6f7b-49d9-9bb8-022b1a264159",
   "metadata": {},
   "source": [
    "**MASTER YODA: Given a sentence, return a sentence with the words reversed**\n",
    "\n",
    "    master_yoda('I am home') --> 'home am I'\n",
    "    master_yoda('We are ready') --> 'ready are We'\n",
    "    \n",
    "Note: The .join() method may be useful here. The .join() method allows you to join together strings in a list with some connector string. For example, some uses of the .join() method:\n",
    "\n",
    "    >>> \"--\".join(['a','b','c'])\n",
    "    >>> 'a--b--c'\n",
    "\n",
    "This means if you had a list of words you wanted to turn back into a sentence, you could just join them with a single space string:\n",
    "\n",
    "    >>> \" \".join(['Hello','world'])\n",
    "    >>> \"Hello world\""
   ]
  },
  {
   "cell_type": "code",
   "execution_count": null,
   "id": "df4d49da-a452-4372-80e6-1ff7339bb89c",
   "metadata": {},
   "outputs": [],
   "source": [
    "def master_yoda(text):\n",
    "    pass"
   ]
  },
  {
   "cell_type": "code",
   "execution_count": null,
   "id": "7bb7a946-0297-42ff-8703-ee109c6ac64b",
   "metadata": {},
   "outputs": [],
   "source": [
    "# Check\n",
    "master_yoda('I am home')"
   ]
  },
  {
   "cell_type": "code",
   "execution_count": null,
   "id": "cc798415-1f13-4c6a-ab97-baaa5d48533f",
   "metadata": {},
   "outputs": [],
   "source": [
    "# Check\n",
    "master_yoda('We are ready')"
   ]
  },
  {
   "cell_type": "markdown",
   "id": "383bdd43-caf9-4d52-b9bc-45342599e8e7",
   "metadata": {
    "jp-MarkdownHeadingCollapsed": true
   },
   "source": [
    "### **Question No.3**"
   ]
  },
  {
   "cell_type": "markdown",
   "id": "bf02a263-8dee-4d44-9807-64b8b22db236",
   "metadata": {},
   "source": [
    "**ALMOST THERE: Given an integer n, return True if n is within 10 of either 100 or 200**\n",
    "\n",
    "    almost_there(90) --> True\n",
    "    almost_there(104) --> True\n",
    "    almost_there(150) --> False\n",
    "    almost_there(209) --> True\n",
    "    \n",
    "NOTE: `abs(num)` returns the absolute value of a number"
   ]
  },
  {
   "cell_type": "code",
   "execution_count": null,
   "id": "c1ff42a8-dd72-4609-906b-321d5be3ec1f",
   "metadata": {},
   "outputs": [],
   "source": [
    "def almost_there(n):\n",
    "    pass"
   ]
  },
  {
   "cell_type": "code",
   "execution_count": null,
   "id": "6e33e4d1-ab75-4d34-9718-bef77b38192c",
   "metadata": {},
   "outputs": [],
   "source": [
    "# Check\n",
    "almost_there(104)"
   ]
  },
  {
   "cell_type": "code",
   "execution_count": null,
   "id": "86de1840-2cc5-4c0b-a0ed-2d76f1024548",
   "metadata": {},
   "outputs": [],
   "source": [
    "# Check\n",
    "almost_there(150)"
   ]
  },
  {
   "cell_type": "code",
   "execution_count": null,
   "id": "363a35fa-073d-4571-ae6a-f4dfbca0f4e6",
   "metadata": {},
   "outputs": [],
   "source": [
    "# Check\n",
    "almost_there(209)"
   ]
  },
  {
   "cell_type": "markdown",
   "id": "7274732e-1e7d-4dd3-b349-522417163323",
   "metadata": {
    "jp-MarkdownHeadingCollapsed": true
   },
   "source": [
    "## **LEVEL 2 PROBLEMS**"
   ]
  },
  {
   "cell_type": "markdown",
   "id": "d4627b07-3b42-4112-b576-12d60fbc1e17",
   "metadata": {
    "jp-MarkdownHeadingCollapsed": true
   },
   "source": [
    "### **Question No.1**"
   ]
  },
  {
   "cell_type": "markdown",
   "id": "6b8048f9-617e-4648-9d83-7c364c58a09c",
   "metadata": {},
   "source": [
    "**FIND 33:**\n",
    "\n",
    "Given a list of ints, return True if the array contains a 3 next to a 3 somewhere.\n",
    "\n",
    "    has_33([1, 3, 3]) → True\n",
    "    has_33([1, 3, 1, 3]) → False\n",
    "    has_33([3, 1, 3]) → False"
   ]
  },
  {
   "cell_type": "code",
   "execution_count": null,
   "id": "47959e1d-a555-4184-b3de-43e6aa33768e",
   "metadata": {},
   "outputs": [],
   "source": [
    "def has_33(nums):\n",
    "    pass"
   ]
  },
  {
   "cell_type": "code",
   "execution_count": null,
   "id": "11c2a69f-1855-4b74-a6ec-79a5175870f9",
   "metadata": {},
   "outputs": [],
   "source": [
    "# Check\n",
    "has_33([1, 3, 3])"
   ]
  },
  {
   "cell_type": "code",
   "execution_count": null,
   "id": "97ae7433-22be-4e09-b1c6-28736e36110b",
   "metadata": {},
   "outputs": [],
   "source": [
    "# Check\n",
    "has_33([1, 3, 1, 3])"
   ]
  },
  {
   "cell_type": "code",
   "execution_count": null,
   "id": "7ebbf070-ce8a-4f2a-9c91-1dde84a37ee2",
   "metadata": {},
   "outputs": [],
   "source": [
    "# Check\n",
    "has_33([3, 1, 3])"
   ]
  },
  {
   "cell_type": "markdown",
   "id": "f015f007-c326-45d4-b675-e5b8d342c94f",
   "metadata": {
    "jp-MarkdownHeadingCollapsed": true
   },
   "source": [
    "### **Question No.2**"
   ]
  },
  {
   "cell_type": "markdown",
   "id": "540fef05-46e8-43cb-80b4-80c9ebd2e847",
   "metadata": {},
   "source": [
    "**PAPER DOLL: Given a string, return a string where for every character in the original there are three characters**\n",
    "    \n",
    "    paper_doll('Hello') --> 'HHHeeellllllooo'\n",
    "    paper_doll('Mississippi') --> 'MMMiiissssssiiippppppiii'"
   ]
  },
  {
   "cell_type": "code",
   "execution_count": null,
   "id": "fa89fcba-3196-4dc1-9476-ecba9d1762f7",
   "metadata": {},
   "outputs": [],
   "source": [
    "def paper_doll(text):\n",
    "    pass"
   ]
  },
  {
   "cell_type": "code",
   "execution_count": null,
   "id": "879f99e3-432c-46e1-b1b3-ef192ff0c232",
   "metadata": {},
   "outputs": [],
   "source": [
    "# Check\n",
    "paper_doll('Hello')"
   ]
  },
  {
   "cell_type": "code",
   "execution_count": null,
   "id": "4cd3089a-41b3-44aa-82b3-cf6ed1ebfb86",
   "metadata": {},
   "outputs": [],
   "source": [
    "# Check\n",
    "paper_doll('Mississippi')"
   ]
  },
  {
   "cell_type": "markdown",
   "id": "64729cb2-a897-4f07-b70b-67a9336c8592",
   "metadata": {
    "jp-MarkdownHeadingCollapsed": true
   },
   "source": [
    "### **Question No.3**"
   ]
  },
  {
   "cell_type": "markdown",
   "id": "3b81e47b-fd67-4009-981d-30b0613aaae0",
   "metadata": {},
   "source": [
    "**BLACKJACK: Given three integers between 1 and 11, if their sum is less than or equal to 21, return their sum. If their sum exceeds 21 *and* there's an eleven, reduce the total sum by 10. Finally, if the sum (even after adjustment) exceeds 21, return 'BUST'**\n",
    "    \n",
    "    blackjack(5,6,7) --> 18\n",
    "    blackjack(9,9,9) --> 'BUST'\n",
    "    blackjack(9,9,11) --> 19"
   ]
  },
  {
   "cell_type": "code",
   "execution_count": null,
   "id": "ed0f7587-2831-4725-bec8-dda6befe3b08",
   "metadata": {},
   "outputs": [],
   "source": [
    "def blackjack(a,b,c):\n",
    "    pass"
   ]
  },
  {
   "cell_type": "code",
   "execution_count": null,
   "id": "944ded3f-ae2d-4b37-a9ab-ab3058ffb20a",
   "metadata": {},
   "outputs": [],
   "source": [
    "# Check\n",
    "blackjack(5,6,7)"
   ]
  },
  {
   "cell_type": "code",
   "execution_count": null,
   "id": "ecc4cb53-b6e8-48d9-b739-2886579615fe",
   "metadata": {},
   "outputs": [],
   "source": [
    "# Check\n",
    "blackjack(9,9,9)"
   ]
  },
  {
   "cell_type": "code",
   "execution_count": null,
   "id": "6ae7faa1-8ea3-4ca4-bd00-ae3a27ce13a0",
   "metadata": {},
   "outputs": [],
   "source": [
    "# Check\n",
    "blackjack(9,9,11)"
   ]
  },
  {
   "cell_type": "markdown",
   "id": "fe96536f-6651-4491-a63c-ce5540eaab27",
   "metadata": {
    "jp-MarkdownHeadingCollapsed": true
   },
   "source": [
    "### **Question No.4**"
   ]
  },
  {
   "cell_type": "markdown",
   "id": "a2bb8a1b-62cc-489e-a382-e46f3a183c29",
   "metadata": {},
   "source": [
    "**SUMMER OF '69: Return the sum of the numbers in the array, except ignore sections of numbers starting with a 6 and extending to the next 9 (every 6 will be followed by at least one 9). Return 0 for no numbers.**\n",
    " \n",
    "    summer_69([1, 3, 5]) --> 9\n",
    "    summer_69([4, 5, 6, 7, 8, 9]) --> 9\n",
    "    summer_69([2, 1, 6, 9, 11]) --> 14"
   ]
  },
  {
   "cell_type": "code",
   "execution_count": null,
   "id": "e4a95f9c-80da-4bd6-9e37-ffa2c72e0238",
   "metadata": {},
   "outputs": [],
   "source": [
    "def summer_69(arr):\n",
    "    pass"
   ]
  },
  {
   "cell_type": "code",
   "execution_count": null,
   "id": "37debac8-32a1-4039-9d90-9754f826867b",
   "metadata": {},
   "outputs": [],
   "source": [
    "# Check\n",
    "summer_69([1, 3, 5])"
   ]
  },
  {
   "cell_type": "code",
   "execution_count": null,
   "id": "e4a6c301-a4ae-4750-9178-286594b99966",
   "metadata": {},
   "outputs": [],
   "source": [
    "# Check\n",
    "summer_69([4, 5, 6, 7, 8, 9])"
   ]
  },
  {
   "cell_type": "code",
   "execution_count": null,
   "id": "79723e3e-1695-4951-982d-b12c642a97cc",
   "metadata": {},
   "outputs": [],
   "source": [
    "# Check\n",
    "summer_69([2, 1, 6, 9, 11])"
   ]
  },
  {
   "cell_type": "markdown",
   "id": "c9259a09-35df-4368-8f07-2581041a0433",
   "metadata": {
    "jp-MarkdownHeadingCollapsed": true
   },
   "source": [
    "## **CHALLENGING PROBLEMS**"
   ]
  },
  {
   "cell_type": "markdown",
   "id": "039c9f5e-57ec-49a2-bdbe-9095d3146b9a",
   "metadata": {
    "jp-MarkdownHeadingCollapsed": true
   },
   "source": [
    "### **Question No.1**"
   ]
  },
  {
   "cell_type": "markdown",
   "id": "283605fd-7038-4050-b5af-43a03d50aeae",
   "metadata": {},
   "source": [
    "**SPY GAME: Write a function that takes in a list of integers and returns True if it contains 007 in order**\n",
    "\n",
    "     spy_game([1,2,4,0,0,7,5]) --> True\n",
    "     spy_game([1,0,2,4,0,5,7]) --> True\n",
    "     spy_game([1,7,2,0,4,5,0]) --> False"
   ]
  },
  {
   "cell_type": "code",
   "execution_count": null,
   "id": "ab72093f-70c9-4fa4-bcc3-65868af28dbe",
   "metadata": {},
   "outputs": [],
   "source": [
    "def spy_game(nums):\n",
    "    pass"
   ]
  },
  {
   "cell_type": "code",
   "execution_count": null,
   "id": "435b931a-b7c8-4cff-a6ea-f97b59846d99",
   "metadata": {},
   "outputs": [],
   "source": [
    "# Check\n",
    "spy_game([1,2,4,0,0,7,5])"
   ]
  },
  {
   "cell_type": "code",
   "execution_count": null,
   "id": "99478343-7dfb-45ae-9e43-3862eef74493",
   "metadata": {},
   "outputs": [],
   "source": [
    "# Check\n",
    "spy_game([1,0,2,4,0,5,7])"
   ]
  },
  {
   "cell_type": "code",
   "execution_count": null,
   "id": "76cb4f9c-50f4-477d-b85d-294cf8d61613",
   "metadata": {},
   "outputs": [],
   "source": [
    "# Check\n",
    "spy_game([1,7,2,0,4,5,0])"
   ]
  },
  {
   "cell_type": "markdown",
   "id": "a15365dd-46e0-4eb5-9076-faf6a9e73ff0",
   "metadata": {
    "jp-MarkdownHeadingCollapsed": true
   },
   "source": [
    "### **Question No.2**"
   ]
  },
  {
   "cell_type": "markdown",
   "id": "1eabcd99-53e2-415f-89a0-ea5e7d6b794e",
   "metadata": {},
   "source": [
    "**COUNT PRIMES: Write a function that returns the *number* of prime numbers that exist up to and including a given number**\n",
    "    \n",
    "    count_primes(100) --> 25\n",
    "\n",
    "By convention, 0 and 1 are not prime."
   ]
  },
  {
   "cell_type": "code",
   "execution_count": null,
   "id": "07c7dde6-3068-4428-b62c-f14948c73153",
   "metadata": {},
   "outputs": [],
   "source": [
    "def count_primes(num):\n",
    "    pass"
   ]
  },
  {
   "cell_type": "code",
   "execution_count": null,
   "id": "21dda3b4-6e63-4e00-b34a-584d5ce4ff1d",
   "metadata": {},
   "outputs": [],
   "source": [
    "# Check\n",
    "count_primes(100)"
   ]
  },
  {
   "cell_type": "markdown",
   "id": "2ef228ab-4f7b-4659-9804-a87499d5b220",
   "metadata": {
    "jp-MarkdownHeadingCollapsed": true
   },
   "source": [
    "### **Just for fun:**"
   ]
  },
  {
   "cell_type": "markdown",
   "id": "15392399-f3c4-4b92-93b8-c0c23ab4b9cf",
   "metadata": {},
   "source": [
    "**PRINT BIG: Write a function that takes in a single letter, and returns a 5x5 representation of that letter**\n",
    "    \n",
    "    print_big('a')\n",
    "    \n",
    "    out:   *  \n",
    "          * *\n",
    "         *****\n",
    "         *   *\n",
    "         *   *\n",
    "HINT: Consider making a dictionary of possible patterns, and mapping the alphabet to specific 5-line combinations of patterns. <br>For purposes of this exercise, it's ok if your dictionary stops at \"E\"."
   ]
  },
  {
   "cell_type": "code",
   "execution_count": null,
   "id": "15056a17-1042-4120-a781-8170ea439223",
   "metadata": {},
   "outputs": [],
   "source": [
    "def print_big(letter):\n",
    "    pass"
   ]
  },
  {
   "cell_type": "code",
   "execution_count": null,
   "id": "3617ef13-d8c2-4072-86d4-c47db4696985",
   "metadata": {},
   "outputs": [],
   "source": [
    "print_big('a')"
   ]
  },
  {
   "cell_type": "markdown",
   "id": "0557bed4-fca1-4f2c-8f78-c7aed8da977b",
   "metadata": {
    "jp-MarkdownHeadingCollapsed": true
   },
   "source": [
    "# **Congratulations on Completing Special Practice 1**"
   ]
  }
 ],
 "metadata": {
  "kernelspec": {
   "display_name": "Python 3 (ipykernel)",
   "language": "python",
   "name": "python3"
  },
  "language_info": {
   "codemirror_mode": {
    "name": "ipython",
    "version": 3
   },
   "file_extension": ".py",
   "mimetype": "text/x-python",
   "name": "python",
   "nbconvert_exporter": "python",
   "pygments_lexer": "ipython3",
   "version": "3.12.4"
  }
 },
 "nbformat": 4,
 "nbformat_minor": 5
}
