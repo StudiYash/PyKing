{
 "cells": [
  {
   "cell_type": "markdown",
   "id": "50205bfc-af7f-44b2-b277-a62b909606f2",
   "metadata": {},
   "source": [
    "# **Assessment Test 3**"
   ]
  },
  {
   "cell_type": "markdown",
   "id": "ad94e62a-4be2-48ce-86fb-0f86662bd685",
   "metadata": {},
   "source": [
    "**This Notebook is based on concepts found in following notebooks:-**\n",
    "\n",
    "    01. Lambda Expressions, Map and Filter Functions\n",
    "    02. Nested Statements and Scope"
   ]
  },
  {
   "cell_type": "markdown",
   "id": "7575e944-5d65-4aa8-9841-e195fdb44823",
   "metadata": {
    "jp-MarkdownHeadingCollapsed": true
   },
   "source": [
    "## **Question No.1**"
   ]
  },
  {
   "cell_type": "markdown",
   "id": "8f396cdb-e812-4fc1-b971-885c487e49ef",
   "metadata": {},
   "source": [
    "**Write a function that computes the volume of a sphere given its radius.**\n",
    "<p>The volume of a sphere is given as $$\\frac{4}{3} πr^3$$</p>"
   ]
  },
  {
   "cell_type": "code",
   "execution_count": null,
   "id": "f40e26c8-4793-4cd5-bc97-7edda752a45b",
   "metadata": {},
   "outputs": [],
   "source": [
    "def vol(rad):\n",
    "    pass"
   ]
  },
  {
   "cell_type": "code",
   "execution_count": null,
   "id": "5d7ab02b-3eae-44ef-b2bf-79fa9e48eb1d",
   "metadata": {},
   "outputs": [],
   "source": [
    "# Check\n",
    "vol(2)"
   ]
  },
  {
   "cell_type": "markdown",
   "id": "d24497a0-d8b7-45f6-90b2-7e9c0554cce2",
   "metadata": {
    "jp-MarkdownHeadingCollapsed": true
   },
   "source": [
    "## **Question No.2**"
   ]
  },
  {
   "cell_type": "markdown",
   "id": "edda55dc-3c37-4b2b-81cf-8bc4f794f608",
   "metadata": {},
   "source": [
    "**Write a function that checks whether a number is in a given range (inclusive of high and low)**"
   ]
  },
  {
   "cell_type": "code",
   "execution_count": null,
   "id": "1c73021d-18e6-4f2a-8ef8-d1e58e0f2c31",
   "metadata": {},
   "outputs": [],
   "source": [
    "def ran_check(num,low,high):\n",
    "    pass"
   ]
  },
  {
   "cell_type": "code",
   "execution_count": null,
   "id": "e023151b-872c-43b3-a17f-ec366e248634",
   "metadata": {},
   "outputs": [],
   "source": [
    "# Check\n",
    "ran_check(5,2,7)"
   ]
  },
  {
   "cell_type": "markdown",
   "id": "f7ec416d-b49a-4841-af56-7772635cfdcd",
   "metadata": {},
   "source": [
    "**If you only wanted to return a boolean:**"
   ]
  },
  {
   "cell_type": "code",
   "execution_count": null,
   "id": "d7a35222-3798-4fac-973d-86be0596366e",
   "metadata": {},
   "outputs": [],
   "source": [
    "def ran_bool(num,low,high):\n",
    "    pass"
   ]
  },
  {
   "cell_type": "code",
   "execution_count": null,
   "id": "4e815128-ee80-4c01-9b3e-bcbddf3b607b",
   "metadata": {},
   "outputs": [],
   "source": [
    "ran_bool(3,1,10)"
   ]
  },
  {
   "cell_type": "markdown",
   "id": "4022df4c-ee61-4f00-91e6-b915e2713659",
   "metadata": {
    "jp-MarkdownHeadingCollapsed": true
   },
   "source": [
    "## **Question No.3**"
   ]
  },
  {
   "cell_type": "markdown",
   "id": "b9e2009f-4edd-42e6-8a47-2ecb5c862c90",
   "metadata": {},
   "source": [
    "**Write a Python function that accepts a string and calculates the number of upper case letters and lower case letters.**\n",
    "\n",
    "    Sample String : 'Hello Mr. Rogers, how are you this fine Tuesday?'\n",
    "    Expected Output : \n",
    "    No. of Upper case characters : 4\n",
    "    No. of Lower case Characters : 33\n",
    "\n",
    "HINT: Two string methods that might prove useful: **.isupper()** and **.islower()**\n",
    "\n",
    "If you feel ambitious, explore the Collections module to solve this problem!"
   ]
  },
  {
   "cell_type": "code",
   "execution_count": null,
   "id": "ce0471e3-51ff-4d0a-9953-a5bc990381c8",
   "metadata": {},
   "outputs": [],
   "source": [
    "def up_low(s):\n",
    "    pass"
   ]
  },
  {
   "cell_type": "code",
   "execution_count": null,
   "id": "5cab21eb-f872-44f3-b9cb-a45364e07469",
   "metadata": {},
   "outputs": [],
   "source": [
    "s = 'Hello Mr. Rogers, how are you this fine Tuesday?'\n",
    "up_low(s)"
   ]
  },
  {
   "cell_type": "markdown",
   "id": "d6d02804-2cf9-4e8a-adfd-aa678c9cc5fa",
   "metadata": {
    "jp-MarkdownHeadingCollapsed": true
   },
   "source": [
    "## **Question No.4**"
   ]
  },
  {
   "cell_type": "markdown",
   "id": "5deb8ae2-25aa-4963-a584-62969884f53e",
   "metadata": {},
   "source": [
    "**Write a Python function that takes a list and returns a new list with unique elements of the first list.**\n",
    "\n",
    "    Sample List : [1,1,1,1,2,2,3,3,3,3,4,5]\n",
    "    Unique List : [1, 2, 3, 4, 5]"
   ]
  },
  {
   "cell_type": "code",
   "execution_count": null,
   "id": "dfff70c4-26f7-4303-b3da-e276abf2a528",
   "metadata": {},
   "outputs": [],
   "source": [
    "def unique_list(lst):\n",
    "    pass"
   ]
  },
  {
   "cell_type": "code",
   "execution_count": null,
   "id": "36dfd3dc-4404-4cd7-b4b9-c5dc0f1e6e4a",
   "metadata": {},
   "outputs": [],
   "source": [
    "unique_list([1,1,1,1,2,2,3,3,3,3,4,5])"
   ]
  },
  {
   "cell_type": "markdown",
   "id": "e3883ce9-fd83-4fd4-8774-2d55660cd37f",
   "metadata": {
    "jp-MarkdownHeadingCollapsed": true
   },
   "source": [
    "## **Question No.5**"
   ]
  },
  {
   "cell_type": "markdown",
   "id": "dbfbf253-1027-4b86-b37c-9779f3bf4fa6",
   "metadata": {},
   "source": [
    "**Write a Python function to multiply all the numbers in a list.**\n",
    "\n",
    "    Sample List : [1, 2, 3, -4]\n",
    "    Expected Output : -24"
   ]
  },
  {
   "cell_type": "code",
   "execution_count": null,
   "id": "7d064a75-9d54-47c8-b7f4-55fd172f6863",
   "metadata": {},
   "outputs": [],
   "source": [
    "def multiply(numbers):  \n",
    "    pass"
   ]
  },
  {
   "cell_type": "code",
   "execution_count": null,
   "id": "dceb1178-556f-419a-948c-5e44b92dde76",
   "metadata": {},
   "outputs": [],
   "source": [
    "multiply([1,2,3,-4])"
   ]
  },
  {
   "cell_type": "markdown",
   "id": "053b726c-706a-4145-8440-bf620803b253",
   "metadata": {
    "jp-MarkdownHeadingCollapsed": true
   },
   "source": [
    "## **Question No.6**"
   ]
  },
  {
   "cell_type": "markdown",
   "id": "c32d993a-0df1-4abe-b061-754af3bbb099",
   "metadata": {},
   "source": [
    "**Write a Python function that checks whether a word or phrase is palindrome or not.**\n",
    "\n",
    "Note: A palindrome is word, phrase, or sequence that reads the same backward as forward, e.g., madam,kayak,racecar, or a phrase \"nurses run\". Hint: You may want to check out the .replace() method in a string to help out with dealing with spaces. Also google search how to reverse a string in Python, there are some clever ways to do it with slicing notation."
   ]
  },
  {
   "cell_type": "code",
   "execution_count": null,
   "id": "47213f1e-f950-42c1-9c74-f615148c34a1",
   "metadata": {},
   "outputs": [],
   "source": [
    "def palindrome(s):\n",
    "    pass"
   ]
  },
  {
   "cell_type": "code",
   "execution_count": null,
   "id": "419719e8-6d7b-4f2d-bd4a-45167d7aa0f0",
   "metadata": {},
   "outputs": [],
   "source": [
    "palindrome('helleh')"
   ]
  },
  {
   "cell_type": "markdown",
   "id": "a1e24426-5d27-4d9b-b1d0-2f573bce2b37",
   "metadata": {
    "jp-MarkdownHeadingCollapsed": true
   },
   "source": [
    "## **Question No.7**"
   ]
  },
  {
   "cell_type": "markdown",
   "id": "61a5dd7d-4a86-4497-9008-027259c4c32f",
   "metadata": {},
   "source": [
    "**Hard:**\n",
    "\n",
    "**Write a Python function to check whether a string is pangram or not. (Assume the string passed in does not have any punctuation)**\n",
    "\n",
    "    Note : Pangrams are words or sentences containing every letter of the alphabet at least once.\n",
    "    For example : \"The quick brown fox jumps over the lazy dog\"\n",
    "\n",
    "Hint: You may want to use .replace() method to get rid of spaces.\n",
    "\n",
    "Hint: Look at the [string module](https://stackoverflow.com/questions/16060899/alphabet-range-in-python)\n",
    "\n",
    "Hint: In case you want to use [set comparisons](https://medium.com/better-programming/a-visual-guide-to-set-comparisons-in-python-6ab7edb9ec41)"
   ]
  },
  {
   "cell_type": "code",
   "execution_count": null,
   "id": "7c952235-5cda-4382-8af0-c465dab8223f",
   "metadata": {},
   "outputs": [],
   "source": [
    "import string\n",
    "\n",
    "def ispangram(str1, alphabet=string.ascii_lowercase):\n",
    "    pass"
   ]
  },
  {
   "cell_type": "code",
   "execution_count": null,
   "id": "cb2bf382-a1fc-49ba-a3b0-9d962279c343",
   "metadata": {},
   "outputs": [],
   "source": [
    "ispangram(\"The quick brown fox jumps over the lazy dog\")"
   ]
  },
  {
   "cell_type": "code",
   "execution_count": null,
   "id": "88adde6d-1265-4957-82c4-564c4b0e0f2e",
   "metadata": {},
   "outputs": [],
   "source": [
    "string.ascii_lowercase"
   ]
  },
  {
   "cell_type": "markdown",
   "id": "f247ec17-6ab2-4138-99b8-755b15705ae7",
   "metadata": {
    "jp-MarkdownHeadingCollapsed": true
   },
   "source": [
    "# **Congratulations on Completing Assessment Test 3**"
   ]
  }
 ],
 "metadata": {
  "kernelspec": {
   "display_name": "Python 3 (ipykernel)",
   "language": "python",
   "name": "python3"
  },
  "language_info": {
   "codemirror_mode": {
    "name": "ipython",
    "version": 3
   },
   "file_extension": ".py",
   "mimetype": "text/x-python",
   "name": "python",
   "nbconvert_exporter": "python",
   "pygments_lexer": "ipython3",
   "version": "3.12.4"
  }
 },
 "nbformat": 4,
 "nbformat_minor": 5
}
