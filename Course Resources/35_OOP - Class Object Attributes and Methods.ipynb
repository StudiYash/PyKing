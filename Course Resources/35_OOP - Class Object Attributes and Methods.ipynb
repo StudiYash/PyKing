{
 "cells": [
  {
   "cell_type": "markdown",
   "id": "c7c24a41-f159-4dac-ba38-500f0d4c6d88",
   "metadata": {},
   "source": [
    "# **OOP - Class Object Attributes and Methods**"
   ]
  },
  {
   "cell_type": "markdown",
   "id": "e4211848-821c-4f4f-a307-e2662b0776ff",
   "metadata": {},
   "source": [
    "## **Class Object Attribute**"
   ]
  },
  {
   "cell_type": "code",
   "execution_count": 3,
   "id": "e4836edc-de5e-447e-b3c7-794db47fe682",
   "metadata": {},
   "outputs": [],
   "source": [
    "class Dog():\n",
    "    # species is Class Object Attribute\n",
    "    # It remains same for any instance of a class\n",
    "    species = 'mammel'\n",
    "    \n",
    "    def __init__ (self, breed, name, spots):\n",
    "        self.breed = breed\n",
    "        self.name = name\n",
    "        self.spots = spots"
   ]
  },
  {
   "cell_type": "code",
   "execution_count": 4,
   "id": "f4f9404f-8db3-4ba8-87ac-402ec92434dc",
   "metadata": {},
   "outputs": [],
   "source": [
    "my_dog = Dog(breed = \"Lab\", name = \"Pompom\", spots = True)"
   ]
  },
  {
   "cell_type": "code",
   "execution_count": 5,
   "id": "26595fbd-e99d-4fac-ab25-d82ff6833855",
   "metadata": {},
   "outputs": [
    {
     "data": {
      "text/plain": [
       "__main__.Dog"
      ]
     },
     "execution_count": 5,
     "metadata": {},
     "output_type": "execute_result"
    }
   ],
   "source": [
    "type(my_dog)"
   ]
  },
  {
   "cell_type": "code",
   "execution_count": 6,
   "id": "bd418c15-e4d5-49a1-9d0b-3f45f6c842ef",
   "metadata": {},
   "outputs": [
    {
     "name": "stdout",
     "output_type": "stream",
     "text": [
      "Lab\n",
      "Pompom\n",
      "True\n",
      "mammel\n"
     ]
    }
   ],
   "source": [
    "print(my_dog.breed)\n",
    "print(my_dog.name)\n",
    "print(my_dog.spots)\n",
    "\n",
    "#.species remains constant for all instances of that class\n",
    "print(my_dog.species)"
   ]
  },
  {
   "cell_type": "markdown",
   "id": "38ac6618-06ba-4ce3-8639-3bf1d18ebb7e",
   "metadata": {},
   "source": [
    "## **Method inside Class**"
   ]
  },
  {
   "cell_type": "code",
   "execution_count": 8,
   "id": "e43812b6-2f69-4e71-bd7f-ba220738eeb1",
   "metadata": {},
   "outputs": [],
   "source": [
    "class Dog():\n",
    "    \n",
    "    species = \"Mammel\"\n",
    "    \n",
    "    def __init__ (self, breed, name, spots):   # breed is the attribute\n",
    "        # Attributes\n",
    "        self.breed = breed\n",
    "        self.name = name\n",
    "        self.spots = spots\n",
    "\n",
    "    def bark(self, number):\n",
    "        print(f'WOOF! My name is {self.name} and my breed is {self.breed} and my number is {number}')"
   ]
  },
  {
   "cell_type": "code",
   "execution_count": 9,
   "id": "4906a7cb-ff2a-43bd-94b9-a9112b3bb78c",
   "metadata": {},
   "outputs": [],
   "source": [
    "mydog = Dog(\"Husky\", \"Pompy\", True)"
   ]
  },
  {
   "cell_type": "code",
   "execution_count": 10,
   "id": "79b5cdca-d50b-450b-ba53-d975ca34fe25",
   "metadata": {},
   "outputs": [
    {
     "name": "stdout",
     "output_type": "stream",
     "text": [
      "WOOF! My name is Pompy and my breed is Husky and my number is 100\n"
     ]
    }
   ],
   "source": [
    "mydog.bark(100)"
   ]
  }
 ],
 "metadata": {
  "kernelspec": {
   "display_name": "Python 3 (ipykernel)",
   "language": "python",
   "name": "python3"
  },
  "language_info": {
   "codemirror_mode": {
    "name": "ipython",
    "version": 3
   },
   "file_extension": ".py",
   "mimetype": "text/x-python",
   "name": "python",
   "nbconvert_exporter": "python",
   "pygments_lexer": "ipython3",
   "version": "3.12.4"
  }
 },
 "nbformat": 4,
 "nbformat_minor": 5
}
