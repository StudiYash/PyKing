{
 "cells": [
  {
   "cell_type": "markdown",
   "id": "d447af4f-a59d-4947-b712-de532c174a68",
   "metadata": {},
   "source": [
    "# **Basics of Python Functions**"
   ]
  },
  {
   "cell_type": "markdown",
   "id": "90a38671-6868-4f67-a6de-f52da50e3469",
   "metadata": {
    "jp-MarkdownHeadingCollapsed": true
   },
   "source": [
    "## **Function without Arguments**"
   ]
  },
  {
   "cell_type": "code",
   "execution_count": 3,
   "id": "7454e4ba-adbd-4f2f-8e02-365d6d68446e",
   "metadata": {},
   "outputs": [],
   "source": [
    "def say_hello():\n",
    "    print(\"Hello World\")"
   ]
  },
  {
   "cell_type": "code",
   "execution_count": 4,
   "id": "e809eff6-953c-47dc-9365-4d6bd389a17c",
   "metadata": {},
   "outputs": [
    {
     "name": "stdout",
     "output_type": "stream",
     "text": [
      "Hello World\n"
     ]
    }
   ],
   "source": [
    "say_hello()"
   ]
  },
  {
   "cell_type": "markdown",
   "id": "dd40252f-e0cc-429e-acc9-fdb66691e63f",
   "metadata": {
    "jp-MarkdownHeadingCollapsed": true
   },
   "source": [
    "## **Function with Arguments**"
   ]
  },
  {
   "cell_type": "markdown",
   "id": "7f60d319-8277-44cb-b57c-0865610e5042",
   "metadata": {
    "jp-MarkdownHeadingCollapsed": true
   },
   "source": [
    "### **Function without Default Arguments**"
   ]
  },
  {
   "cell_type": "code",
   "execution_count": 7,
   "id": "17baa2c9-3b82-4779-9367-c6d03366cb2b",
   "metadata": {},
   "outputs": [],
   "source": [
    "def say_hello_again(name, age):\n",
    "    print(f\"Hello everyone. My name is {name}\")\n",
    "    print(f\"My age is {age}\")"
   ]
  },
  {
   "cell_type": "code",
   "execution_count": 8,
   "id": "2242b39e-6a30-4478-babf-f879e7205206",
   "metadata": {},
   "outputs": [
    {
     "name": "stdout",
     "output_type": "stream",
     "text": [
      "Hello everyone. My name is Yash\n",
      "My age is 23\n"
     ]
    }
   ],
   "source": [
    "say_hello_again(\"Yash\",23)"
   ]
  },
  {
   "cell_type": "markdown",
   "id": "85932802-5df4-4e36-9e46-f5f683add91a",
   "metadata": {
    "jp-MarkdownHeadingCollapsed": true
   },
   "source": [
    "### **Function with Default Arguments**"
   ]
  },
  {
   "cell_type": "code",
   "execution_count": 10,
   "id": "26078c4c-776b-45d6-bb77-6fe1a944387a",
   "metadata": {},
   "outputs": [],
   "source": [
    "def say_hello_again(name=\"Quality\", age=\"1000\"):\n",
    "    print(f\"Hello everyone. My name is {name}\")\n",
    "    print(f\"My age is {age}\")"
   ]
  },
  {
   "cell_type": "code",
   "execution_count": 11,
   "id": "40aa6f4f-41c9-4b93-8eb0-1d599186815b",
   "metadata": {},
   "outputs": [
    {
     "name": "stdout",
     "output_type": "stream",
     "text": [
      "Hello everyone. My name is Quality\n",
      "My age is 1000\n"
     ]
    }
   ],
   "source": [
    "say_hello_again()"
   ]
  },
  {
   "cell_type": "markdown",
   "id": "84c13457-7780-4df4-a9e9-4831e36daeba",
   "metadata": {
    "jp-MarkdownHeadingCollapsed": true
   },
   "source": [
    "## **Function and return Keyword**"
   ]
  },
  {
   "cell_type": "markdown",
   "id": "e89e77eb-09ed-45f7-86b5-f2ebcd670a4d",
   "metadata": {
    "jp-MarkdownHeadingCollapsed": true
   },
   "source": [
    "### **Function with return keyword and without print keyword**"
   ]
  },
  {
   "cell_type": "code",
   "execution_count": 14,
   "id": "63e00696-76af-4176-81f7-97f4f1ff6a48",
   "metadata": {},
   "outputs": [],
   "source": [
    "def say_hello_again(name=\"Quality\", age=\"1000\"):\n",
    "    return f\"My name is {name} and my age is {age}\""
   ]
  },
  {
   "cell_type": "code",
   "execution_count": 15,
   "id": "470a0dfd-144a-4496-814e-7d86c8e0ec62",
   "metadata": {},
   "outputs": [
    {
     "data": {
      "text/plain": [
       "'My name is Quality and my age is 1000'"
      ]
     },
     "execution_count": 15,
     "metadata": {},
     "output_type": "execute_result"
    }
   ],
   "source": [
    "say_hello_again()"
   ]
  },
  {
   "cell_type": "code",
   "execution_count": 16,
   "id": "ee4479ee-5da1-442b-8aac-e5f751a5a073",
   "metadata": {},
   "outputs": [],
   "source": [
    "introduction = say_hello_again() # This will assign the value of say_hello_again function to variable introduction as we have used return keyword."
   ]
  },
  {
   "cell_type": "code",
   "execution_count": 17,
   "id": "1ab9c5bd-5a7e-430e-857d-88d3bb6f143a",
   "metadata": {},
   "outputs": [
    {
     "name": "stdout",
     "output_type": "stream",
     "text": [
      "My name is Quality and my age is 1000\n"
     ]
    }
   ],
   "source": [
    "print(introduction)"
   ]
  },
  {
   "cell_type": "markdown",
   "id": "1393e64c-5192-45c4-ac33-844f9b4c9d05",
   "metadata": {
    "jp-MarkdownHeadingCollapsed": true
   },
   "source": [
    "### **Function with print keyword and without return keyword**"
   ]
  },
  {
   "cell_type": "code",
   "execution_count": 19,
   "id": "05a38c3b-eb56-4688-a416-0586f98425e1",
   "metadata": {},
   "outputs": [],
   "source": [
    "def say_hello_again(name=\"Quality\", age=\"1000\"):\n",
    "    print(f\"My name is {name} and my age is {age}\")"
   ]
  },
  {
   "cell_type": "code",
   "execution_count": 20,
   "id": "2add8455-aecb-48d0-921e-27fbc5e8ede0",
   "metadata": {},
   "outputs": [
    {
     "name": "stdout",
     "output_type": "stream",
     "text": [
      "My name is Quality and my age is 1000\n"
     ]
    }
   ],
   "source": [
    "say_hello_again()"
   ]
  },
  {
   "cell_type": "code",
   "execution_count": 21,
   "id": "4ea7f1cc-8550-4940-aaf6-5890cd75d7f7",
   "metadata": {},
   "outputs": [
    {
     "name": "stdout",
     "output_type": "stream",
     "text": [
      "My name is Quality and my age is 1000\n"
     ]
    }
   ],
   "source": [
    "introduction = say_hello_again() # This will not assign the value of say_hello_again function to variable introduction as we have used print keyword."
   ]
  },
  {
   "cell_type": "code",
   "execution_count": 22,
   "id": "7735229f-1906-40bf-a050-444ef241c0d1",
   "metadata": {},
   "outputs": [
    {
     "name": "stdout",
     "output_type": "stream",
     "text": [
      "None\n"
     ]
    }
   ],
   "source": [
    "print(introduction)"
   ]
  },
  {
   "cell_type": "markdown",
   "id": "a3626212-39f3-4eb1-9a59-bab443a92c83",
   "metadata": {
    "jp-MarkdownHeadingCollapsed": true
   },
   "source": [
    "### **Function using both return and print**"
   ]
  },
  {
   "cell_type": "code",
   "execution_count": 24,
   "id": "f07670c1-e801-49f1-9c8b-c2da28435b94",
   "metadata": {},
   "outputs": [],
   "source": [
    "def say_hello_again(name=\"Quality\", age=\"1000\"):\n",
    "    return f\"My name is {name} and my age is {age}\"\n",
    "    print(f\"My name is {name} and my age is {age}\")"
   ]
  },
  {
   "cell_type": "code",
   "execution_count": 25,
   "id": "da5f7065-5c84-4cf4-a982-c8a4e7bc84b7",
   "metadata": {},
   "outputs": [
    {
     "data": {
      "text/plain": [
       "'My name is Quality and my age is 1000'"
      ]
     },
     "execution_count": 25,
     "metadata": {},
     "output_type": "execute_result"
    }
   ],
   "source": [
    "say_hello_again()"
   ]
  },
  {
   "cell_type": "code",
   "execution_count": 26,
   "id": "df9fe0f0-77dc-4011-a297-0687da519381",
   "metadata": {},
   "outputs": [],
   "source": [
    "introduction = say_hello_again()   # This will assign the value of say_hello_again function to variable introduction as we have used return keyword."
   ]
  },
  {
   "cell_type": "code",
   "execution_count": 27,
   "id": "eaf24ef5-a397-4bcf-84ce-c12ab1cea7e8",
   "metadata": {},
   "outputs": [
    {
     "name": "stdout",
     "output_type": "stream",
     "text": [
      "My name is Quality and my age is 1000\n"
     ]
    }
   ],
   "source": [
    "print(introduction)"
   ]
  }
 ],
 "metadata": {
  "kernelspec": {
   "display_name": "Python 3 (ipykernel)",
   "language": "python",
   "name": "python3"
  },
  "language_info": {
   "codemirror_mode": {
    "name": "ipython",
    "version": 3
   },
   "file_extension": ".py",
   "mimetype": "text/x-python",
   "name": "python",
   "nbconvert_exporter": "python",
   "pygments_lexer": "ipython3",
   "version": "3.12.4"
  }
 },
 "nbformat": 4,
 "nbformat_minor": 5
}
