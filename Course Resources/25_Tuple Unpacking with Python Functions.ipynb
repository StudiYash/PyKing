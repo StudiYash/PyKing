{
 "cells": [
  {
   "cell_type": "markdown",
   "id": "91cd9df2-eeed-4adc-ac74-ab95072ee58e",
   "metadata": {},
   "source": [
    "# **Tuple Unpacking with Python Functions**"
   ]
  },
  {
   "cell_type": "markdown",
   "id": "f33ca48c-fa93-43a8-9437-97c87ba8afee",
   "metadata": {},
   "source": [
    "## **Tuple Unpacking Example No.1**"
   ]
  },
  {
   "cell_type": "code",
   "execution_count": 2,
   "id": "31a7ed61-72cd-4246-840d-60d871ea3dab",
   "metadata": {},
   "outputs": [],
   "source": [
    "emp_work_hours = [(\"Fanta\", 200), (\"Santa\", 100), (\"Banta\", 300)]"
   ]
  },
  {
   "cell_type": "code",
   "execution_count": 23,
   "id": "e42b5432-abbc-4516-bd24-b19ff13510f1",
   "metadata": {},
   "outputs": [],
   "source": [
    "def employee_check(emp_work_hours):\n",
    "    current_max = 0\n",
    "    emp_of_month = ''\n",
    "\n",
    "    for employee, hours in emp_work_hours:\n",
    "        if hours > current_max:\n",
    "            current_max = hours\n",
    "            employee_of_month = employee\n",
    "        else:\n",
    "            pass\n",
    "\n",
    "    return (employee_of_month, current_max)"
   ]
  },
  {
   "cell_type": "code",
   "execution_count": 25,
   "id": "3d6b67ff-db42-4d68-b114-f918e9a4389f",
   "metadata": {},
   "outputs": [
    {
     "data": {
      "text/plain": [
       "('Banta', 300)"
      ]
     },
     "execution_count": 25,
     "metadata": {},
     "output_type": "execute_result"
    }
   ],
   "source": [
    "employee_check(emp_work_hours)"
   ]
  }
 ],
 "metadata": {
  "kernelspec": {
   "display_name": "Python 3 (ipykernel)",
   "language": "python",
   "name": "python3"
  },
  "language_info": {
   "codemirror_mode": {
    "name": "ipython",
    "version": 3
   },
   "file_extension": ".py",
   "mimetype": "text/x-python",
   "name": "python",
   "nbconvert_exporter": "python",
   "pygments_lexer": "ipython3",
   "version": "3.12.4"
  }
 },
 "nbformat": 4,
 "nbformat_minor": 5
}
