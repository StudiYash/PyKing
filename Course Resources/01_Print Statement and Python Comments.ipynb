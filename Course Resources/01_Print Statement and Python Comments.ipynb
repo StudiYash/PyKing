{
 "cells": [
  {
   "cell_type": "markdown",
   "id": "468d9369-2336-4a1f-abc2-958c783f5d53",
   "metadata": {},
   "source": [
    "# **Print Statement and Python Comments**"
   ]
  },
  {
   "cell_type": "markdown",
   "id": "85987bde-8c23-4bf7-a599-6742c23fbd5d",
   "metadata": {
    "jp-MarkdownHeadingCollapsed": true
   },
   "source": [
    "## **Python Print Statement**"
   ]
  },
  {
   "cell_type": "code",
   "execution_count": 3,
   "id": "da6567a0",
   "metadata": {},
   "outputs": [
    {
     "name": "stdout",
     "output_type": "stream",
     "text": [
      "Hello World\n"
     ]
    }
   ],
   "source": [
    "print(\"Hello World\")"
   ]
  },
  {
   "cell_type": "markdown",
   "id": "3d994d5d",
   "metadata": {
    "jp-MarkdownHeadingCollapsed": true
   },
   "source": [
    "## **Python Comments**"
   ]
  },
  {
   "cell_type": "code",
   "execution_count": 5,
   "id": "e9df96d7",
   "metadata": {},
   "outputs": [
    {
     "name": "stdout",
     "output_type": "stream",
     "text": [
      "All 3 types of comments are shown\n"
     ]
    }
   ],
   "source": [
    "# This is a single line comment\n",
    "\n",
    "\"\"\" This is a Multiline\n",
    "Comment \"\"\"\n",
    "\n",
    "''' This is also a Multiline \n",
    "Comment '''\n",
    "\n",
    "print(\"All 3 types of comments are shown\")"
   ]
  }
 ],
 "metadata": {
  "kernelspec": {
   "display_name": "Python 3 (ipykernel)",
   "language": "python",
   "name": "python3"
  },
  "language_info": {
   "codemirror_mode": {
    "name": "ipython",
    "version": 3
   },
   "file_extension": ".py",
   "mimetype": "text/x-python",
   "name": "python",
   "nbconvert_exporter": "python",
   "pygments_lexer": "ipython3",
   "version": "3.12.4"
  }
 },
 "nbformat": 4,
 "nbformat_minor": 5
}
