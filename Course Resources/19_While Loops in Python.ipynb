{
 "cells": [
  {
   "cell_type": "markdown",
   "id": "344163a9",
   "metadata": {},
   "source": [
    "# **While Loops in Python**"
   ]
  },
  {
   "cell_type": "markdown",
   "id": "199ebb4c-de35-4d4b-9d0b-7672b0e52d49",
   "metadata": {},
   "source": [
    "## **Simple While Loop**"
   ]
  },
  {
   "cell_type": "code",
   "execution_count": 3,
   "id": "0253f320",
   "metadata": {},
   "outputs": [
    {
     "name": "stdout",
     "output_type": "stream",
     "text": [
      "The number is 0\n",
      "The number is 1\n",
      "The number is 2\n",
      "The number is 3\n",
      "The number is 4\n"
     ]
    }
   ],
   "source": [
    "num = 0\n",
    "\n",
    "while(num < 5):\n",
    "    print(\"The number is\",num)\n",
    "    num = num + 1"
   ]
  },
  {
   "cell_type": "markdown",
   "id": "052bf861-d5e4-46f0-8a58-9a7a6b647b17",
   "metadata": {},
   "source": [
    "## **While Loop with Else Statement**"
   ]
  },
  {
   "cell_type": "code",
   "execution_count": 5,
   "id": "df4cf660",
   "metadata": {},
   "outputs": [
    {
     "name": "stdout",
     "output_type": "stream",
     "text": [
      "The number is 0\n",
      "The number is 1\n",
      "The number is 2\n",
      "The number is 3\n",
      "The number is 4\n",
      "Number is less than 5\n"
     ]
    }
   ],
   "source": [
    "num = 0\n",
    "\n",
    "while(num < 5):\n",
    "    print(\"The number is\",num)\n",
    "    num = num + 1\n",
    "else:\n",
    "    print(\"Number is less than 5\")"
   ]
  },
  {
   "cell_type": "markdown",
   "id": "9d333dc7",
   "metadata": {},
   "source": [
    "## **The pass Keyword**"
   ]
  },
  {
   "cell_type": "code",
   "execution_count": 7,
   "id": "5613d489",
   "metadata": {},
   "outputs": [
    {
     "name": "stdout",
     "output_type": "stream",
     "text": [
      "pass statement got tested successfully as for loop execution did not took place\n"
     ]
    }
   ],
   "source": [
    "x = [1,2,3]\n",
    "for item in x:\n",
    "    pass\n",
    "print(\"pass statement got tested successfully as for loop execution did not took place\")"
   ]
  },
  {
   "cell_type": "markdown",
   "id": "d23bfcc6",
   "metadata": {},
   "source": [
    "## **The continue Keyword**"
   ]
  },
  {
   "cell_type": "code",
   "execution_count": 9,
   "id": "12b5893d",
   "metadata": {},
   "outputs": [
    {
     "name": "stdout",
     "output_type": "stream",
     "text": [
      "H\n",
      "L\n",
      "L\n",
      "O\n"
     ]
    }
   ],
   "source": [
    "my_string = \"HELLO\"\n",
    "for letter in my_string:\n",
    "    if letter == \"E\":\n",
    "        continue\n",
    "    print(letter)"
   ]
  },
  {
   "cell_type": "markdown",
   "id": "30dd6b17",
   "metadata": {},
   "source": [
    "## **The break Keyword**"
   ]
  },
  {
   "cell_type": "code",
   "execution_count": 11,
   "id": "8df3dac7",
   "metadata": {},
   "outputs": [
    {
     "name": "stdout",
     "output_type": "stream",
     "text": [
      "0\n",
      "1\n"
     ]
    }
   ],
   "source": [
    "x = 0\n",
    "while x < 5:\n",
    "    if x == 2:\n",
    "        break\n",
    "    print(x)\n",
    "    x = x + 1"
   ]
  }
 ],
 "metadata": {
  "kernelspec": {
   "display_name": "Python 3 (ipykernel)",
   "language": "python",
   "name": "python3"
  },
  "language_info": {
   "codemirror_mode": {
    "name": "ipython",
    "version": 3
   },
   "file_extension": ".py",
   "mimetype": "text/x-python",
   "name": "python",
   "nbconvert_exporter": "python",
   "pygments_lexer": "ipython3",
   "version": "3.12.4"
  }
 },
 "nbformat": 4,
 "nbformat_minor": 5
}
