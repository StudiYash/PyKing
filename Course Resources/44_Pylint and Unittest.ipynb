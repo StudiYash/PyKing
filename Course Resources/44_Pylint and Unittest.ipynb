{
 "cells": [
  {
   "cell_type": "markdown",
   "id": "c2d9065a-d8d8-437e-8e01-edd4e5c22b21",
   "metadata": {},
   "source": [
    "# **Pylint and Unittest**"
   ]
  },
  {
   "cell_type": "markdown",
   "id": "45463799-021c-4ec3-a984-d9936f958283",
   "metadata": {
    "jp-MarkdownHeadingCollapsed": true
   },
   "source": [
    "## **Pylint**"
   ]
  },
  {
   "cell_type": "code",
   "execution_count": 3,
   "id": "ef1fd93b-52a7-4eda-91b0-28e9c4d1c6ca",
   "metadata": {},
   "outputs": [
    {
     "name": "stdout",
     "output_type": "stream",
     "text": [
      "Requirement already satisfied: pylint in c:\\users\\studi\\anaconda3\\lib\\site-packages (2.16.2)\n",
      "Requirement already satisfied: platformdirs>=2.2.0 in c:\\users\\studi\\anaconda3\\lib\\site-packages (from pylint) (3.10.0)\n",
      "Requirement already satisfied: astroid<=2.16.0-dev0,>=2.14.2 in c:\\users\\studi\\anaconda3\\lib\\site-packages (from pylint) (2.14.2)\n",
      "Requirement already satisfied: isort<6,>=4.2.5 in c:\\users\\studi\\anaconda3\\lib\\site-packages (from pylint) (5.13.2)\n",
      "Requirement already satisfied: mccabe<0.8,>=0.6 in c:\\users\\studi\\anaconda3\\lib\\site-packages (from pylint) (0.7.0)\n",
      "Requirement already satisfied: tomlkit>=0.10.1 in c:\\users\\studi\\anaconda3\\lib\\site-packages (from pylint) (0.11.1)\n",
      "Requirement already satisfied: dill>=0.3.6 in c:\\users\\studi\\anaconda3\\lib\\site-packages (from pylint) (0.3.8)\n",
      "Requirement already satisfied: colorama>=0.4.5 in c:\\users\\studi\\anaconda3\\lib\\site-packages (from pylint) (0.4.6)\n",
      "Requirement already satisfied: lazy-object-proxy>=1.4.0 in c:\\users\\studi\\anaconda3\\lib\\site-packages (from astroid<=2.16.0-dev0,>=2.14.2->pylint) (1.10.0)\n",
      "Requirement already satisfied: wrapt<2,>=1.14 in c:\\users\\studi\\anaconda3\\lib\\site-packages (from astroid<=2.16.0-dev0,>=2.14.2->pylint) (1.14.1)\n"
     ]
    }
   ],
   "source": [
    "! pip install pylint"
   ]
  },
  {
   "cell_type": "code",
   "execution_count": 4,
   "id": "3422f532-0677-4d9f-bd01-53370e438e32",
   "metadata": {},
   "outputs": [
    {
     "name": "stdout",
     "output_type": "stream",
     "text": [
      "Overwriting simple1.py\n"
     ]
    }
   ],
   "source": [
    "%%writefile simple1.py\n",
    "a = 1\n",
    "b = 2\n",
    "print(a)\n",
    "print(b)"
   ]
  },
  {
   "cell_type": "code",
   "execution_count": 5,
   "id": "7d28076b-f6d5-49b7-827d-808c88a5ff9c",
   "metadata": {},
   "outputs": [
    {
     "name": "stdout",
     "output_type": "stream",
     "text": [
      "************* Module simple1\n",
      "simple1.py:1:0: C0114: Missing module docstring (missing-module-docstring)\n",
      "simple1.py:1:0: C0103: Constant name \"a\" doesn't conform to UPPER_CASE naming style (invalid-name)\n",
      "simple1.py:2:0: C0103: Constant name \"b\" doesn't conform to UPPER_CASE naming style (invalid-name)\n",
      "\n",
      "------------------------------------------------------------------\n",
      "Your code has been rated at 2.50/10 (previous run: 2.50/10, +0.00)\n",
      "\n"
     ]
    }
   ],
   "source": [
    "! pylint simple1.py"
   ]
  },
  {
   "cell_type": "markdown",
   "id": "16a57d4c-0add-4706-a595-f61a102856a8",
   "metadata": {
    "jp-MarkdownHeadingCollapsed": true
   },
   "source": [
    "## **Unittest**"
   ]
  },
  {
   "cell_type": "markdown",
   "id": "c216e68d-8942-480d-b258-67d1ce0843c5",
   "metadata": {},
   "source": [
    "### **Main Script**"
   ]
  },
  {
   "cell_type": "code",
   "execution_count": 8,
   "id": "1fb8a992-8006-4945-b78b-96a9e9814d9d",
   "metadata": {},
   "outputs": [
    {
     "name": "stdout",
     "output_type": "stream",
     "text": [
      "Writing cap.py\n"
     ]
    }
   ],
   "source": [
    "%%writefile cap.py\n",
    "def cap_text(text):\n",
    "    return text.title()"
   ]
  },
  {
   "cell_type": "markdown",
   "id": "f828127f-ee6a-402a-9340-393a24aa1009",
   "metadata": {},
   "source": [
    "### **Test Script**"
   ]
  },
  {
   "cell_type": "code",
   "execution_count": 10,
   "id": "959abbec-3548-41f3-be45-7296166933e3",
   "metadata": {},
   "outputs": [
    {
     "name": "stdout",
     "output_type": "stream",
     "text": [
      "Writing test_cap.py\n"
     ]
    }
   ],
   "source": [
    "%%writefile test_cap.py\n",
    "import unittest\n",
    "import cap\n",
    "\n",
    "class TestCap(unittest.TestCase):\n",
    "    \n",
    "    def test_one_word(self):\n",
    "        text = 'python'\n",
    "        result = cap.cap_text(text)\n",
    "        self.assertEqual(result, 'Python')\n",
    "        \n",
    "    def test_multiple_words(self):\n",
    "        text = 'monty python'\n",
    "        result = cap.cap_text(text)\n",
    "        self.assertEqual(result, 'Monty Python')\n",
    "        \n",
    "if __name__ == '__main__':\n",
    "    unittest.main()"
   ]
  },
  {
   "cell_type": "code",
   "execution_count": 11,
   "id": "d6cb23e3-5a80-4842-ac27-c1b5b1d5a2ae",
   "metadata": {},
   "outputs": [
    {
     "name": "stderr",
     "output_type": "stream",
     "text": [
      "..\n",
      "----------------------------------------------------------------------\n",
      "Ran 2 tests in 0.000s\n",
      "\n",
      "OK\n"
     ]
    }
   ],
   "source": [
    "! python test_cap.py"
   ]
  }
 ],
 "metadata": {
  "kernelspec": {
   "display_name": "Python 3 (ipykernel)",
   "language": "python",
   "name": "python3"
  },
  "language_info": {
   "codemirror_mode": {
    "name": "ipython",
    "version": 3
   },
   "file_extension": ".py",
   "mimetype": "text/x-python",
   "name": "python",
   "nbconvert_exporter": "python",
   "pygments_lexer": "ipython3",
   "version": "3.12.4"
  }
 },
 "nbformat": 4,
 "nbformat_minor": 5
}
