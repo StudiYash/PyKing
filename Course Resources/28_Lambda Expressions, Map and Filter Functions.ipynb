{
 "cells": [
  {
   "cell_type": "markdown",
   "id": "0abe72c7-ede4-4609-a38d-5dad1f8fd21c",
   "metadata": {},
   "source": [
    "# **Lambda Expressions, Map and Filter Functions**"
   ]
  },
  {
   "cell_type": "markdown",
   "id": "d6d2f310-46fe-4919-89ee-2bbafcd1c792",
   "metadata": {
    "jp-MarkdownHeadingCollapsed": true
   },
   "source": [
    "## **The map() Function**"
   ]
  },
  {
   "cell_type": "markdown",
   "id": "8b9685c2-c9f8-4d3c-b264-0d2916e07ce8",
   "metadata": {
    "jp-MarkdownHeadingCollapsed": true
   },
   "source": [
    "### **Example No.1**"
   ]
  },
  {
   "cell_type": "code",
   "execution_count": 4,
   "id": "5c83c9e0-9f6e-471a-aad4-320e89febe88",
   "metadata": {},
   "outputs": [
    {
     "name": "stdout",
     "output_type": "stream",
     "text": [
      "1\n",
      "4\n",
      "9\n",
      "16\n",
      "25\n"
     ]
    }
   ],
   "source": [
    "def square(num):\n",
    "    return num**2\n",
    "\n",
    "my_nums = [1,2,3,4,5]\n",
    "\n",
    "for item in map(square, my_nums):\n",
    "    print(item)"
   ]
  },
  {
   "cell_type": "markdown",
   "id": "87bfafa4-69e3-4381-8930-defb92b6693b",
   "metadata": {
    "jp-MarkdownHeadingCollapsed": true
   },
   "source": [
    "### **Example No.2**"
   ]
  },
  {
   "cell_type": "code",
   "execution_count": 6,
   "id": "1e71db80-6f1e-40aa-b56e-2c33b166699c",
   "metadata": {},
   "outputs": [
    {
     "data": {
      "text/plain": [
       "['EVEN', 'E', 'S']"
      ]
     },
     "execution_count": 6,
     "metadata": {},
     "output_type": "execute_result"
    }
   ],
   "source": [
    "def splicer(mystring):\n",
    "    if len(mystring) % 2 == 0:\n",
    "        return 'EVEN'\n",
    "    else:\n",
    "        return mystring[0]\n",
    "\n",
    "names = ['Andy', 'Eve', 'Sally']\n",
    "\n",
    "list(map(splicer, names))"
   ]
  },
  {
   "cell_type": "markdown",
   "id": "ce54acd7-e68d-48c8-afb4-7209411879bd",
   "metadata": {
    "jp-MarkdownHeadingCollapsed": true
   },
   "source": [
    "## **The filter() Function**"
   ]
  },
  {
   "cell_type": "markdown",
   "id": "51c7379f-9ff6-4d64-8de7-53fd4698fe3c",
   "metadata": {
    "jp-MarkdownHeadingCollapsed": true
   },
   "source": [
    "### **Example No.1**"
   ]
  },
  {
   "cell_type": "code",
   "execution_count": 9,
   "id": "3f9e6681-d2f2-4b29-af2e-883da6129d55",
   "metadata": {},
   "outputs": [
    {
     "data": {
      "text/plain": [
       "[2, 4, 6]"
      ]
     },
     "execution_count": 9,
     "metadata": {},
     "output_type": "execute_result"
    }
   ],
   "source": [
    "def check_even(num):\n",
    "    return num % 2 == 0\n",
    "\n",
    "num = [1,2,3,4,5,6]\n",
    "\n",
    "list(filter(check_even, num))"
   ]
  },
  {
   "cell_type": "markdown",
   "id": "2695c124-b30b-4058-b767-b600f51d53f4",
   "metadata": {
    "jp-MarkdownHeadingCollapsed": true
   },
   "source": [
    "## **The lambda Expression**"
   ]
  },
  {
   "cell_type": "markdown",
   "id": "bcc074b1-8a2a-40bd-b23f-ed99f0cf612f",
   "metadata": {
    "jp-MarkdownHeadingCollapsed": true
   },
   "source": [
    "### **Only lambda Expression**"
   ]
  },
  {
   "cell_type": "code",
   "execution_count": 12,
   "id": "8c086d82-03d2-4713-bf5e-79894b8b58d6",
   "metadata": {},
   "outputs": [
    {
     "data": {
      "text/plain": [
       "4"
      ]
     },
     "execution_count": 12,
     "metadata": {},
     "output_type": "execute_result"
    }
   ],
   "source": [
    "square = lambda num : num ** 2\n",
    "square(2)"
   ]
  },
  {
   "cell_type": "markdown",
   "id": "10323837-bd8d-47ac-93f2-0fe465a1e25b",
   "metadata": {
    "jp-MarkdownHeadingCollapsed": true
   },
   "source": [
    "### **Lambda Expression with map() Function**"
   ]
  },
  {
   "cell_type": "markdown",
   "id": "e10efa0f-1726-42c3-87bd-ca8fed0ecfa7",
   "metadata": {
    "jp-MarkdownHeadingCollapsed": true
   },
   "source": [
    "#### **Example No.1**"
   ]
  },
  {
   "cell_type": "code",
   "execution_count": 15,
   "id": "fadc0465-2ed8-45e1-adf5-2ea3fbe07d7b",
   "metadata": {},
   "outputs": [
    {
     "data": {
      "text/plain": [
       "[1, 4, 9, 16, 25, 36]"
      ]
     },
     "execution_count": 15,
     "metadata": {},
     "output_type": "execute_result"
    }
   ],
   "source": [
    "mynums = [1,2,3,4,5,6]\n",
    "list(map(lambda num : num ** 2, mynums))"
   ]
  },
  {
   "cell_type": "markdown",
   "id": "aeba2c94-a34d-412a-b5cb-c760b588fcfe",
   "metadata": {
    "jp-MarkdownHeadingCollapsed": true
   },
   "source": [
    "#### **Example No.2**"
   ]
  },
  {
   "cell_type": "code",
   "execution_count": 17,
   "id": "00534c4f-e384-4a78-9017-94a2fdc036ab",
   "metadata": {},
   "outputs": [
    {
     "data": {
      "text/plain": [
       "['ydnA', 'ydnarB', 'ydnaS']"
      ]
     },
     "execution_count": 17,
     "metadata": {},
     "output_type": "execute_result"
    }
   ],
   "source": [
    "names = ['Andy', 'Brandy', 'Sandy']\n",
    "list(map(lambda names : names[::-1], names))"
   ]
  },
  {
   "cell_type": "markdown",
   "id": "19c9a999-e4d5-411d-be5e-8c9b95206ca6",
   "metadata": {
    "jp-MarkdownHeadingCollapsed": true
   },
   "source": [
    "### **Lambda Expression with filter() Function**"
   ]
  },
  {
   "cell_type": "code",
   "execution_count": 19,
   "id": "9c6e629e-540a-4763-96c0-792dbd2c425a",
   "metadata": {},
   "outputs": [
    {
     "data": {
      "text/plain": [
       "[2, 4, 6]"
      ]
     },
     "execution_count": 19,
     "metadata": {},
     "output_type": "execute_result"
    }
   ],
   "source": [
    "mynums = [1,2,3,4,5,6]\n",
    "list(filter(lambda num : num % 2 == 0, mynums))"
   ]
  }
 ],
 "metadata": {
  "kernelspec": {
   "display_name": "Python 3 (ipykernel)",
   "language": "python",
   "name": "python3"
  },
  "language_info": {
   "codemirror_mode": {
    "name": "ipython",
    "version": 3
   },
   "file_extension": ".py",
   "mimetype": "text/x-python",
   "name": "python",
   "nbconvert_exporter": "python",
   "pygments_lexer": "ipython3",
   "version": "3.12.4"
  }
 },
 "nbformat": 4,
 "nbformat_minor": 5
}
