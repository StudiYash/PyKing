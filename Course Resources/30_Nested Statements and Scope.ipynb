{
 "cells": [
  {
   "cell_type": "markdown",
   "id": "61da7583-4692-44dc-9a16-e041c082103c",
   "metadata": {},
   "source": [
    "# **Nested Statements and Scope**"
   ]
  },
  {
   "cell_type": "markdown",
   "id": "c9f86ac2-edaf-4531-b91d-5fe8701e1aa8",
   "metadata": {
    "jp-MarkdownHeadingCollapsed": true
   },
   "source": [
    "## **LEGB Order**"
   ]
  },
  {
   "cell_type": "code",
   "execution_count": 3,
   "id": "3031e12b-72a2-4308-944b-8a563bae2d80",
   "metadata": {},
   "outputs": [
    {
     "name": "stdout",
     "output_type": "stream",
     "text": [
      "I am in inner function!\n",
      "I am in outer function!\n",
      "I am global!\n"
     ]
    }
   ],
   "source": [
    "# Global Scope\n",
    "x = 'I am global!'\n",
    "\n",
    "def outer():\n",
    "    # Enclosing Scope (nonlocal)\n",
    "    x = 'I am in outer function!'\n",
    "\n",
    "    def inner():\n",
    "        # Local Scope\n",
    "        x = 'I am in inner function!'\n",
    "        print(x)  # This will print the local x from the inner function\n",
    "\n",
    "    inner()\n",
    "    print(x)  # This will print the enclosing x from the outer function\n",
    "\n",
    "outer()\n",
    "print(x)  # This will print the global x"
   ]
  },
  {
   "cell_type": "markdown",
   "id": "5afa406f-b3b5-4f99-bb28-aedf9354529d",
   "metadata": {
    "jp-MarkdownHeadingCollapsed": true
   },
   "source": [
    "## **The global Keyword**"
   ]
  },
  {
   "cell_type": "code",
   "execution_count": 5,
   "id": "adea27dd-d671-42e0-b0ae-fa85c1c1053a",
   "metadata": {},
   "outputs": [
    {
     "name": "stdout",
     "output_type": "stream",
     "text": [
      "Count before executing the function: 0\n",
      "Count inside the function: 1\n",
      "Count after executing the function: 1\n"
     ]
    }
   ],
   "source": [
    "# Global Variable\n",
    "count = 0\n",
    "print(f'Count before executing the function: {count}')\n",
    "\n",
    "def increment():\n",
    "    global count # Declare that we are using the global variable count\n",
    "    count += 1   # Modify the global variable\n",
    "    print(f\"Count inside the function: {count}\")\n",
    "\n",
    "increment()\n",
    "print(f'Count after executing the function: {count}')"
   ]
  },
  {
   "cell_type": "markdown",
   "id": "e53372b9-a774-4672-bdfd-775d8652131b",
   "metadata": {
    "jp-MarkdownHeadingCollapsed": true
   },
   "source": [
    "## **The nonlocal Keyword**"
   ]
  },
  {
   "cell_type": "code",
   "execution_count": 7,
   "id": "0f03dbd1-b425-4649-9f90-94f9c2fae4d3",
   "metadata": {},
   "outputs": [
    {
     "name": "stdout",
     "output_type": "stream",
     "text": [
      "Num inside outer function before modification: 10\n",
      "Num inside inner function: 11\n",
      "Num inside outer function after modification: 11\n"
     ]
    }
   ],
   "source": [
    "def outer():\n",
    "    num = 10\n",
    "    print(f\"Num inside outer function before modification: {num}\")\n",
    "\n",
    "    def inner():\n",
    "        nonlocal num   # Declare that we are using the enclosing scope's num\n",
    "        num += 1       # Modify the enclosing variable\n",
    "        print(f\"Num inside inner function: {num}\")\n",
    "    \n",
    "    inner()\n",
    "    print(f'Num inside outer function after modification: {num}')\n",
    "\n",
    "outer()"
   ]
  },
  {
   "cell_type": "markdown",
   "id": "afc7006f-5b83-4160-90a7-fa0fdd003d12",
   "metadata": {
    "jp-MarkdownHeadingCollapsed": true
   },
   "source": [
    "## **Built-in Scope**"
   ]
  },
  {
   "cell_type": "code",
   "execution_count": 9,
   "id": "b5c83b5b-4d24-4d2d-b79d-618b8588cbe2",
   "metadata": {},
   "outputs": [
    {
     "name": "stdout",
     "output_type": "stream",
     "text": [
      "The length of my list before the function is 5\n",
      "I am not the len function anymore!\n",
      "The length of my list after the function is 5\n"
     ]
    }
   ],
   "source": [
    "# Using the built-in len() function\n",
    "my_list = [1, 2, 3, 4, 5]\n",
    "print(f\"The length of my list before the function is {len(my_list)}\")  # This uses the built-in len function\n",
    "\n",
    "# You can override built-in functions locally\n",
    "def shadowing_example():\n",
    "    len = 'I am not the len function anymore!'\n",
    "    print(len)\n",
    "\n",
    "shadowing_example()\n",
    "\n",
    "# Back to the global scope, len is still the built-in function\n",
    "print(f\"The length of my list after the function is {len(my_list)}\")  # This uses the built-in len function"
   ]
  }
 ],
 "metadata": {
  "kernelspec": {
   "display_name": "Python 3 (ipykernel)",
   "language": "python",
   "name": "python3"
  },
  "language_info": {
   "codemirror_mode": {
    "name": "ipython",
    "version": 3
   },
   "file_extension": ".py",
   "mimetype": "text/x-python",
   "name": "python",
   "nbconvert_exporter": "python",
   "pygments_lexer": "ipython3",
   "version": "3.12.4"
  }
 },
 "nbformat": 4,
 "nbformat_minor": 5
}
