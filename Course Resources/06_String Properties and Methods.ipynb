{
 "cells": [
  {
   "cell_type": "markdown",
   "id": "eaac77df",
   "metadata": {},
   "source": [
    "# String Properties and Methods"
   ]
  },
  {
   "cell_type": "markdown",
   "id": "18352445",
   "metadata": {
    "jp-MarkdownHeadingCollapsed": true
   },
   "source": [
    "## String Concatenation"
   ]
  },
  {
   "cell_type": "code",
   "execution_count": 3,
   "id": "3d073fa1",
   "metadata": {},
   "outputs": [
    {
     "name": "stdout",
     "output_type": "stream",
     "text": [
      "Yash\n"
     ]
    }
   ],
   "source": [
    "name = \"Yash\"\n",
    "print(name)"
   ]
  },
  {
   "cell_type": "code",
   "execution_count": 4,
   "id": "f4840f33",
   "metadata": {},
   "outputs": [
    {
     "name": "stdout",
     "output_type": "stream",
     "text": [
      "ash\n"
     ]
    }
   ],
   "source": [
    "new_name = name[1:]\n",
    "print(new_name)"
   ]
  },
  {
   "cell_type": "code",
   "execution_count": 5,
   "id": "32f9929e",
   "metadata": {},
   "outputs": [
    {
     "name": "stdout",
     "output_type": "stream",
     "text": [
      "Hash\n"
     ]
    }
   ],
   "source": [
    "name_2 = \"H\" + new_name    #This step is called as Concatenation.\n",
    "print(name_2)"
   ]
  },
  {
   "cell_type": "code",
   "execution_count": 6,
   "id": "69f49130",
   "metadata": {},
   "outputs": [
    {
     "name": "stdout",
     "output_type": "stream",
     "text": [
      "is becoming intelligent\n"
     ]
    }
   ],
   "source": [
    "name = \"Yash is \"\n",
    "new_name = name[5:] + \"becoming intelligent\"\n",
    "print(new_name)"
   ]
  },
  {
   "cell_type": "markdown",
   "id": "1411ea74",
   "metadata": {
    "jp-MarkdownHeadingCollapsed": true
   },
   "source": [
    "## String Multipliability"
   ]
  },
  {
   "cell_type": "code",
   "execution_count": 8,
   "id": "b4d7804f",
   "metadata": {},
   "outputs": [
    {
     "name": "stdout",
     "output_type": "stream",
     "text": [
      "Hash\n"
     ]
    }
   ],
   "source": [
    "print(name_2)"
   ]
  },
  {
   "cell_type": "code",
   "execution_count": 9,
   "id": "a3500b79",
   "metadata": {},
   "outputs": [
    {
     "data": {
      "text/plain": [
       "'HashHash'"
      ]
     },
     "execution_count": 9,
     "metadata": {},
     "output_type": "execute_result"
    }
   ],
   "source": [
    "name_3 = name_2 * 2\n",
    "name_3"
   ]
  },
  {
   "cell_type": "markdown",
   "id": "de612272",
   "metadata": {
    "jp-MarkdownHeadingCollapsed": true
   },
   "source": [
    "### Both Concatenation and Multiplication process on strings can be done multiple times. Concatenation and Multiplication done multiple times is shown below."
   ]
  },
  {
   "cell_type": "code",
   "execution_count": 11,
   "id": "c1776aa5",
   "metadata": {},
   "outputs": [
    {
     "name": "stdout",
     "output_type": "stream",
     "text": [
      "His becoming intelligentis becoming intelligent\n"
     ]
    }
   ],
   "source": [
    "name_2 = \"H\" + new_name + new_name\n",
    "print(name_2)"
   ]
  },
  {
   "cell_type": "code",
   "execution_count": 12,
   "id": "2e2f2b4c",
   "metadata": {},
   "outputs": [
    {
     "name": "stdout",
     "output_type": "stream",
     "text": [
      "His becoming intelligentis becoming intelligentHis becoming intelligentis becoming intelligentHis becoming intelligentis becoming intelligentHis becoming intelligentis becoming intelligentHis becoming intelligentis becoming intelligentHis becoming intelligentis becoming intelligentHis becoming intelligentis becoming intelligentHis becoming intelligentis becoming intelligentHis becoming intelligentis becoming intelligentHis becoming intelligentis becoming intelligentHis becoming intelligentis becoming intelligentHis becoming intelligentis becoming intelligent\n"
     ]
    }
   ],
   "source": [
    "name_3 = name_2 * 3 * 4\n",
    "print(name_3)"
   ]
  },
  {
   "cell_type": "markdown",
   "id": "0b963faa",
   "metadata": {
    "jp-MarkdownHeadingCollapsed": true
   },
   "source": [
    "## .upper() Method"
   ]
  },
  {
   "cell_type": "code",
   "execution_count": 14,
   "id": "3508daf0",
   "metadata": {},
   "outputs": [],
   "source": [
    "name_4 = \"hello\""
   ]
  },
  {
   "cell_type": "code",
   "execution_count": 15,
   "id": "d39feef7",
   "metadata": {},
   "outputs": [
    {
     "name": "stdout",
     "output_type": "stream",
     "text": [
      "HELLO\n"
     ]
    }
   ],
   "source": [
    "name_4\n",
    "print (name_4.upper())"
   ]
  },
  {
   "cell_type": "code",
   "execution_count": 16,
   "id": "43545381",
   "metadata": {},
   "outputs": [
    {
     "name": "stdout",
     "output_type": "stream",
     "text": [
      "HELLO\n"
     ]
    }
   ],
   "source": [
    "name_5 = name_4.upper()\n",
    "print(name_5)"
   ]
  },
  {
   "cell_type": "markdown",
   "id": "4303b5f0-94e5-49a2-8490-56892b1d4172",
   "metadata": {
    "jp-MarkdownHeadingCollapsed": true
   },
   "source": [
    "## .lower() Method"
   ]
  },
  {
   "cell_type": "code",
   "execution_count": 18,
   "id": "e334a471",
   "metadata": {},
   "outputs": [
    {
     "name": "stdout",
     "output_type": "stream",
     "text": [
      "hello\n"
     ]
    }
   ],
   "source": [
    "name_6 = name_5.lower()\n",
    "print(name_6)"
   ]
  },
  {
   "cell_type": "markdown",
   "id": "6dc6b022",
   "metadata": {
    "jp-MarkdownHeadingCollapsed": true
   },
   "source": [
    "## .split() Method"
   ]
  },
  {
   "cell_type": "code",
   "execution_count": 20,
   "id": "946d3207",
   "metadata": {},
   "outputs": [
    {
     "name": "stdout",
     "output_type": "stream",
     "text": [
      "Yash is a stupid boy\n"
     ]
    }
   ],
   "source": [
    "name_7 = \"Yash is a stupid boy\"\n",
    "print(name_7)"
   ]
  },
  {
   "cell_type": "code",
   "execution_count": 21,
   "id": "86924f41",
   "metadata": {},
   "outputs": [
    {
     "name": "stdout",
     "output_type": "stream",
     "text": [
      "['Yash', 'is', 'a', 'stupid', 'boy']\n"
     ]
    }
   ],
   "source": [
    "list_1 = name_7.split()\n",
    "print(list_1)"
   ]
  },
  {
   "cell_type": "markdown",
   "id": "fdeb00b7",
   "metadata": {},
   "source": [
    "### The split method, as demonstrated below, can also be used to remove a specific letter from the list."
   ]
  },
  {
   "cell_type": "code",
   "execution_count": 23,
   "id": "d44c2440",
   "metadata": {},
   "outputs": [
    {
     "name": "stdout",
     "output_type": "stream",
     "text": [
      "['Ya', 'h i', ' a ', 'tupid boy']\n"
     ]
    }
   ],
   "source": [
    "list_1 = name_7.split('s')\n",
    "print(list_1) #WHILE EXECUTING THIS COMMAND REMEMBER THAT THE LETTER TO BE ELIMINATED MUST BE IN SAME CAPITALISATION AS IT IS IN THE SENTENCE."
   ]
  }
 ],
 "metadata": {
  "kernelspec": {
   "display_name": "Python 3 (ipykernel)",
   "language": "python",
   "name": "python3"
  },
  "language_info": {
   "codemirror_mode": {
    "name": "ipython",
    "version": 3
   },
   "file_extension": ".py",
   "mimetype": "text/x-python",
   "name": "python",
   "nbconvert_exporter": "python",
   "pygments_lexer": "ipython3",
   "version": "3.12.4"
  }
 },
 "nbformat": 4,
 "nbformat_minor": 5
}
