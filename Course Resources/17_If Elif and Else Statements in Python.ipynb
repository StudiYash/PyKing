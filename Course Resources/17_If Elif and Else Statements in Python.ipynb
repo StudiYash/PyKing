{
 "cells": [
  {
   "cell_type": "markdown",
   "id": "a1aca690",
   "metadata": {},
   "source": [
    "# **If Elif and Else Statements in Python**"
   ]
  },
  {
   "cell_type": "markdown",
   "id": "95f075a2",
   "metadata": {
    "jp-MarkdownHeadingCollapsed": true
   },
   "source": [
    "## **If Statement**"
   ]
  },
  {
   "cell_type": "code",
   "execution_count": 1,
   "id": "0ec0a90d",
   "metadata": {},
   "outputs": [
    {
     "name": "stdout",
     "output_type": "stream",
     "text": [
      "Give me Food\n"
     ]
    }
   ],
   "source": [
    "hungry = True\n",
    "if hungry:\n",
    "    print(\"Give me Food\")"
   ]
  },
  {
   "cell_type": "markdown",
   "id": "dfe699ae",
   "metadata": {
    "jp-MarkdownHeadingCollapsed": true
   },
   "source": [
    "## **If Else Statement**"
   ]
  },
  {
   "cell_type": "code",
   "execution_count": 2,
   "id": "a56244e2",
   "metadata": {},
   "outputs": [
    {
     "name": "stdout",
     "output_type": "stream",
     "text": [
      "Dont give me Food\n"
     ]
    }
   ],
   "source": [
    "hungry = False\n",
    "if hungry:\n",
    "    print(\"Give me Food\")\n",
    "else:\n",
    "    print(\"Dont give me Food\")"
   ]
  },
  {
   "cell_type": "markdown",
   "id": "9670f2de",
   "metadata": {
    "jp-MarkdownHeadingCollapsed": true
   },
   "source": [
    "## **If Elif Statement**"
   ]
  },
  {
   "cell_type": "code",
   "execution_count": 3,
   "id": "a03a5966",
   "metadata": {},
   "outputs": [
    {
     "name": "stdout",
     "output_type": "stream",
     "text": [
      "Dont give me Food\n"
     ]
    }
   ],
   "source": [
    "hungry = False\n",
    "not_hungry = True\n",
    "if hungry:\n",
    "    print(\"Give me Food\")\n",
    "elif not_hungry:\n",
    "    print(\"Dont give me Food\")"
   ]
  },
  {
   "cell_type": "markdown",
   "id": "1fe6cd9c",
   "metadata": {
    "jp-MarkdownHeadingCollapsed": true
   },
   "source": [
    "## **If Elif and Else Statement**"
   ]
  },
  {
   "cell_type": "code",
   "execution_count": 4,
   "id": "7f9cbd04",
   "metadata": {},
   "outputs": [
    {
     "name": "stdout",
     "output_type": "stream",
     "text": [
      "we were never in danger\n"
     ]
    }
   ],
   "source": [
    "starts = False\n",
    "ends = False\n",
    "\n",
    "if starts:\n",
    "    print(\"we are in danger\")\n",
    "elif ends:\n",
    "    print(\"we are out of danger\")\n",
    "else:\n",
    "    print(\"we were never in danger\")"
   ]
  },
  {
   "cell_type": "code",
   "execution_count": 5,
   "id": "f9f90770",
   "metadata": {},
   "outputs": [
    {
     "name": "stdout",
     "output_type": "stream",
     "text": [
      "He is fat!\n"
     ]
    }
   ],
   "source": [
    "name = \"Yash\"\n",
    "\n",
    "if name == \"Jingle\":\n",
    "    print(\"She is preety!\")\n",
    "elif name == \"James\":\n",
    "    print(\"He is handsome!\")\n",
    "elif name == \"Henry\":\n",
    "    print(\"He is clever!\")\n",
    "elif name == \"Yash\":\n",
    "    print(\"He is fat!\")\n",
    "else:\n",
    "    print(\"There is no one!\")"
   ]
  }
 ],
 "metadata": {
  "kernelspec": {
   "display_name": "Python 3 (ipykernel)",
   "language": "python",
   "name": "python3"
  },
  "language_info": {
   "codemirror_mode": {
    "name": "ipython",
    "version": 3
   },
   "file_extension": ".py",
   "mimetype": "text/x-python",
   "name": "python",
   "nbconvert_exporter": "python",
   "pygments_lexer": "ipython3",
   "version": "3.12.4"
  }
 },
 "nbformat": 4,
 "nbformat_minor": 5
}
