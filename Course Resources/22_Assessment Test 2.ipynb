{
 "cells": [
  {
   "cell_type": "markdown",
   "id": "48e4c899-526e-4be7-b927-6e0d42792e57",
   "metadata": {},
   "source": [
    "# **Assessment Test 2**"
   ]
  },
  {
   "cell_type": "markdown",
   "id": "6ea91055-c4c0-40bc-80b4-6fa0d43bf395",
   "metadata": {
    "jp-MarkdownHeadingCollapsed": true
   },
   "source": [
    "## **Question No.1**"
   ]
  },
  {
   "cell_type": "markdown",
   "id": "55365c79-ee7d-4a24-a07b-a86c41b2432b",
   "metadata": {
    "jp-MarkdownHeadingCollapsed": true
   },
   "source": [
    "### **Print only the words that start with s in this sentence**\n",
    "**Use <code>for</code>, .split(), and <code>if</code> to create a Statement that will print out words that start with 's':**"
   ]
  },
  {
   "cell_type": "code",
   "execution_count": 4,
   "id": "98e70cc6-f7ed-4a3e-9f6d-fe1e7179bc75",
   "metadata": {},
   "outputs": [],
   "source": [
    "st = 'The silent sea shimmered softly as the swift sailboat sailed smoothly under the starry sky'\n",
    "# Type your code here"
   ]
  },
  {
   "cell_type": "markdown",
   "id": "6ece325b-0df1-40b1-a071-60c2171bf7fc",
   "metadata": {
    "jp-MarkdownHeadingCollapsed": true
   },
   "source": [
    "## **Question No.2**"
   ]
  },
  {
   "cell_type": "markdown",
   "id": "c752cf7a-0569-4d67-8cb7-920ec5d74ad3",
   "metadata": {
    "jp-MarkdownHeadingCollapsed": true
   },
   "source": [
    "### **Use range() to print all the even numbers from 0 to 10.**"
   ]
  },
  {
   "cell_type": "code",
   "execution_count": 7,
   "id": "338f158b-01bb-4224-94f4-c71ec88e8ef6",
   "metadata": {},
   "outputs": [],
   "source": [
    "# Type your code here"
   ]
  },
  {
   "cell_type": "markdown",
   "id": "d576b2bd-8421-467d-9636-5a8a54d85594",
   "metadata": {
    "jp-MarkdownHeadingCollapsed": true
   },
   "source": [
    "## **Question No.3**"
   ]
  },
  {
   "cell_type": "markdown",
   "id": "34da2f6d-e1e4-4c58-8ad2-d7de5391200b",
   "metadata": {},
   "source": [
    "**Use a List Comprehension to create a list of all numbers between 1 and 50 that are divisible by 3.**"
   ]
  },
  {
   "cell_type": "code",
   "execution_count": 10,
   "id": "841ee404-4f39-4fdb-a26b-54effededf29",
   "metadata": {},
   "outputs": [],
   "source": [
    "# Type your code here"
   ]
  },
  {
   "cell_type": "markdown",
   "id": "cd801d31-44bb-4037-9e05-83cbf6c818b2",
   "metadata": {
    "jp-MarkdownHeadingCollapsed": true
   },
   "source": [
    "## **Question No.4**"
   ]
  },
  {
   "cell_type": "markdown",
   "id": "ad4bc420-1bf2-4c40-9ccc-7a6e7151bd5c",
   "metadata": {},
   "source": [
    "**Go through the string below and if the length of a word is even print \"even!\"**"
   ]
  },
  {
   "cell_type": "code",
   "execution_count": 13,
   "id": "1989f945-0eb9-4b9c-9f85-20a63fbb8d06",
   "metadata": {},
   "outputs": [],
   "source": [
    "st = 'The silent sea shimmered softly as the swift sailboat sailed smoothly under the starry sky'\n",
    "# Type your code here"
   ]
  },
  {
   "cell_type": "markdown",
   "id": "cf632918-3465-401e-b253-d12bec7afd50",
   "metadata": {
    "jp-MarkdownHeadingCollapsed": true
   },
   "source": [
    "## **Question No.5**"
   ]
  },
  {
   "cell_type": "markdown",
   "id": "8ceeac8a-835c-485e-868e-1746682aa61b",
   "metadata": {},
   "source": [
    "**Write a program that prints the integers from 1 to 100. But for multiples of three print \"Fizz\" instead of the number, and for the multiples of five print \"Buzz\". For numbers which are multiples of both three and five print \"FizzBuzz\".**"
   ]
  },
  {
   "cell_type": "code",
   "execution_count": 16,
   "id": "161855ed-e15e-46a0-9607-58406c0c26c7",
   "metadata": {},
   "outputs": [],
   "source": [
    "# Type your code here"
   ]
  },
  {
   "cell_type": "markdown",
   "id": "be75beb1-2588-4bb7-a49c-842f6c71ba62",
   "metadata": {
    "jp-MarkdownHeadingCollapsed": true
   },
   "source": [
    "## **Question No.6**"
   ]
  },
  {
   "cell_type": "markdown",
   "id": "a64bd312-fb1f-4a76-85fc-cf1ebdcb9335",
   "metadata": {},
   "source": [
    "**Use List Comprehension to create a list of the first letters of every word in the string below:**"
   ]
  },
  {
   "cell_type": "code",
   "execution_count": 19,
   "id": "5cbb3aa4-14db-41e1-8aec-dbccab629ba5",
   "metadata": {},
   "outputs": [],
   "source": [
    "st = 'The silent sea shimmered softly as the swift sailboat sailed smoothly under the starry sky'\n",
    "# Type your code here"
   ]
  }
 ],
 "metadata": {
  "kernelspec": {
   "display_name": "Python 3 (ipykernel)",
   "language": "python",
   "name": "python3"
  },
  "language_info": {
   "codemirror_mode": {
    "name": "ipython",
    "version": 3
   },
   "file_extension": ".py",
   "mimetype": "text/x-python",
   "name": "python",
   "nbconvert_exporter": "python",
   "pygments_lexer": "ipython3",
   "version": "3.12.4"
  }
 },
 "nbformat": 4,
 "nbformat_minor": 5
}
