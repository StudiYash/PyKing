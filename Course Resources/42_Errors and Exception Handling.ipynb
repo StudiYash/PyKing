{
 "cells": [
  {
   "cell_type": "markdown",
   "id": "c2a630fe-cb54-412f-820f-b9fc91ac511e",
   "metadata": {},
   "source": [
    "# **Errors and Exception Handling**"
   ]
  },
  {
   "cell_type": "markdown",
   "id": "e681a151-a831-4e39-a530-c6064445a5f2",
   "metadata": {
    "jp-MarkdownHeadingCollapsed": true
   },
   "source": [
    "## **Combining try and except Block**"
   ]
  },
  {
   "cell_type": "code",
   "execution_count": 3,
   "id": "6fd43454-3716-4ec5-a086-51554dc45ac2",
   "metadata": {},
   "outputs": [
    {
     "name": "stdout",
     "output_type": "stream",
     "text": [
      "Hey it looks like you are trying to add a integer with a string\n"
     ]
    }
   ],
   "source": [
    "try :\n",
    "    result = 10 + '10'\n",
    "except :\n",
    "    print(\"Hey it looks like you are trying to add a integer with a string\")"
   ]
  },
  {
   "cell_type": "markdown",
   "id": "5c021c47-3862-41d1-9813-7565835f0853",
   "metadata": {
    "jp-MarkdownHeadingCollapsed": true
   },
   "source": [
    "## **Combining try, except and else Block**"
   ]
  },
  {
   "cell_type": "code",
   "execution_count": 5,
   "id": "2ca12c35-964e-4c4d-9075-e5015e773880",
   "metadata": {},
   "outputs": [
    {
     "name": "stdout",
     "output_type": "stream",
     "text": [
      "The result is :- 20\n"
     ]
    }
   ],
   "source": [
    "try :\n",
    "    result = 10 + 10\n",
    "except :\n",
    "    print(\"Hey it looks like you are trying to add a integer with a string\")\n",
    "else :\n",
    "    print(f'The result is :- {result}')"
   ]
  },
  {
   "cell_type": "markdown",
   "id": "30826f16-8ca5-4023-8697-e788eb7751ec",
   "metadata": {
    "jp-MarkdownHeadingCollapsed": true
   },
   "source": [
    "## **Combining try, except and finally Block with various examples of exceptions**"
   ]
  },
  {
   "cell_type": "code",
   "execution_count": 7,
   "id": "af308226-a30b-43ab-8ae7-4b5da1894418",
   "metadata": {},
   "outputs": [
    {
     "name": "stdout",
     "output_type": "stream",
     "text": [
      "The result is :- 110\n",
      "I am Inevitable\n"
     ]
    }
   ],
   "source": [
    "try:\n",
    "    num1 = 10\n",
    "    result = num1 + 100\n",
    "    print(f'The result is :- {result}')\n",
    "except TypeError:\n",
    "    print(\"Hey it looks like you are trying to add a integer with a string\")\n",
    "except ValueError:\n",
    "    print(\"Hey it looks like you have not given the input as an integer\")\n",
    "finally:\n",
    "    print(\"I am Inevitable\")"
   ]
  },
  {
   "cell_type": "markdown",
   "id": "9a6caca0-a486-48a6-a36d-1686f2a5487a",
   "metadata": {
    "jp-MarkdownHeadingCollapsed": true
   },
   "source": [
    "## **Combining try, except, else and finally Block with a While Loop inside a Function**"
   ]
  },
  {
   "cell_type": "code",
   "execution_count": 9,
   "id": "7972f3ae-bad9-4523-b4de-6a70cd8147e2",
   "metadata": {},
   "outputs": [],
   "source": [
    "def ask_for_int():\n",
    "    while True:\n",
    "        try:\n",
    "            result = int(input(\"Please provide number : \"))\n",
    "        except:\n",
    "            print(\"Whoops! That is not a number\")\n",
    "        else:\n",
    "            print(\"Yes thankyou\")\n",
    "            break\n",
    "        finally:\n",
    "            print(\"End of try/except/finally \\n\")"
   ]
  },
  {
   "cell_type": "code",
   "execution_count": 10,
   "id": "ebb16e05-ffc5-4350-b211-b04296adb4dc",
   "metadata": {},
   "outputs": [
    {
     "name": "stdin",
     "output_type": "stream",
     "text": [
      "Please provide number :  word\n"
     ]
    },
    {
     "name": "stdout",
     "output_type": "stream",
     "text": [
      "Whoops! That is not a number\n",
      "End of try/except/finally \n",
      "\n"
     ]
    },
    {
     "name": "stdin",
     "output_type": "stream",
     "text": [
      "Please provide number :  ##\n"
     ]
    },
    {
     "name": "stdout",
     "output_type": "stream",
     "text": [
      "Whoops! That is not a number\n",
      "End of try/except/finally \n",
      "\n"
     ]
    },
    {
     "name": "stdin",
     "output_type": "stream",
     "text": [
      "Please provide number :  77\n"
     ]
    },
    {
     "name": "stdout",
     "output_type": "stream",
     "text": [
      "Yes thankyou\n",
      "End of try/except/finally \n",
      "\n"
     ]
    }
   ],
   "source": [
    "ask_for_int()"
   ]
  }
 ],
 "metadata": {
  "kernelspec": {
   "display_name": "Python 3 (ipykernel)",
   "language": "python",
   "name": "python3"
  },
  "language_info": {
   "codemirror_mode": {
    "name": "ipython",
    "version": 3
   },
   "file_extension": ".py",
   "mimetype": "text/x-python",
   "name": "python",
   "nbconvert_exporter": "python",
   "pygments_lexer": "ipython3",
   "version": "3.12.4"
  }
 },
 "nbformat": 4,
 "nbformat_minor": 5
}
