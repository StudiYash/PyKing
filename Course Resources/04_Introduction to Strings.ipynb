{
 "cells": [
  {
   "cell_type": "markdown",
   "id": "0c655cc5-284b-492e-9b86-5223f4c80ba5",
   "metadata": {},
   "source": [
    "# **Introduction to Strings**"
   ]
  },
  {
   "cell_type": "markdown",
   "id": "2f0bea72-f509-4660-b112-15fffbd057cd",
   "metadata": {
    "jp-MarkdownHeadingCollapsed": true
   },
   "source": [
    "## **String Examples**"
   ]
  },
  {
   "cell_type": "code",
   "execution_count": 3,
   "id": "6bc0bc56",
   "metadata": {},
   "outputs": [
    {
     "data": {
      "text/plain": [
       "'hello'"
      ]
     },
     "execution_count": 3,
     "metadata": {},
     "output_type": "execute_result"
    }
   ],
   "source": [
    "'hello'"
   ]
  },
  {
   "cell_type": "code",
   "execution_count": 4,
   "id": "960aebd2",
   "metadata": {},
   "outputs": [
    {
     "data": {
      "text/plain": [
       "'World'"
      ]
     },
     "execution_count": 4,
     "metadata": {},
     "output_type": "execute_result"
    }
   ],
   "source": [
    "\"World\""
   ]
  },
  {
   "cell_type": "code",
   "execution_count": 5,
   "id": "9b995421",
   "metadata": {},
   "outputs": [
    {
     "data": {
      "text/plain": [
       "'I am a very mad boy'"
      ]
     },
     "execution_count": 5,
     "metadata": {},
     "output_type": "execute_result"
    }
   ],
   "source": [
    "'I am a very mad boy'"
   ]
  },
  {
   "cell_type": "code",
   "execution_count": 6,
   "id": "67d6c427",
   "metadata": {},
   "outputs": [
    {
     "data": {
      "text/plain": [
       "'I am an idiot'"
      ]
     },
     "execution_count": 6,
     "metadata": {},
     "output_type": "execute_result"
    }
   ],
   "source": [
    "\"I am an idiot\""
   ]
  },
  {
   "cell_type": "markdown",
   "id": "de66ff19",
   "metadata": {
    "jp-MarkdownHeadingCollapsed": true
   },
   "source": [
    "## **Printing the Strings**"
   ]
  },
  {
   "cell_type": "code",
   "execution_count": 8,
   "id": "a32d8996",
   "metadata": {},
   "outputs": [
    {
     "name": "stdout",
     "output_type": "stream",
     "text": [
      "Idiot\n"
     ]
    }
   ],
   "source": [
    "print('Idiot')"
   ]
  },
  {
   "cell_type": "code",
   "execution_count": 9,
   "id": "cbd029df",
   "metadata": {},
   "outputs": [
    {
     "name": "stdout",
     "output_type": "stream",
     "text": [
      "mad\n"
     ]
    }
   ],
   "source": [
    "print(\"mad\")"
   ]
  },
  {
   "cell_type": "markdown",
   "id": "8f7468a7",
   "metadata": {
    "jp-MarkdownHeadingCollapsed": true
   },
   "source": [
    "## **The \\n ( also called as escape sequence or newline character )**"
   ]
  },
  {
   "cell_type": "code",
   "execution_count": 11,
   "id": "76b05dfe",
   "metadata": {},
   "outputs": [
    {
     "name": "stdout",
     "output_type": "stream",
     "text": [
      "Idiot\n",
      "Mad\n"
     ]
    }
   ],
   "source": [
    "print(\"Idiot\\nMad\")"
   ]
  },
  {
   "cell_type": "markdown",
   "id": "fe2b3309",
   "metadata": {
    "jp-MarkdownHeadingCollapsed": true
   },
   "source": [
    "## **The \\t ( which is called as tab escape sequence or tab character )**"
   ]
  },
  {
   "cell_type": "code",
   "execution_count": 13,
   "id": "3d5d20de",
   "metadata": {},
   "outputs": [
    {
     "name": "stdout",
     "output_type": "stream",
     "text": [
      "Idiot\tMad\n"
     ]
    }
   ],
   "source": [
    "print(\"Idiot\\tMad\")"
   ]
  },
  {
   "cell_type": "markdown",
   "id": "7f1b7101",
   "metadata": {
    "jp-MarkdownHeadingCollapsed": true
   },
   "source": [
    "## **The len() Function**"
   ]
  },
  {
   "cell_type": "code",
   "execution_count": 15,
   "id": "07dad76a",
   "metadata": {},
   "outputs": [
    {
     "data": {
      "text/plain": [
       "13"
      ]
     },
     "execution_count": 15,
     "metadata": {},
     "output_type": "execute_result"
    }
   ],
   "source": [
    "len(\"Idiot and Mad\") #While calculating the length, the space is also counted as a charachter."
   ]
  },
  {
   "cell_type": "code",
   "execution_count": 16,
   "id": "b9c1b770",
   "metadata": {},
   "outputs": [
    {
     "data": {
      "text/plain": [
       "10"
      ]
     },
     "execution_count": 16,
     "metadata": {},
     "output_type": "execute_result"
    }
   ],
   "source": [
    "len(\"Idiot \\nMad\")"
   ]
  }
 ],
 "metadata": {
  "kernelspec": {
   "display_name": "Python 3 (ipykernel)",
   "language": "python",
   "name": "python3"
  },
  "language_info": {
   "codemirror_mode": {
    "name": "ipython",
    "version": 3
   },
   "file_extension": ".py",
   "mimetype": "text/x-python",
   "name": "python",
   "nbconvert_exporter": "python",
   "pygments_lexer": "ipython3",
   "version": "3.12.4"
  }
 },
 "nbformat": 4,
 "nbformat_minor": 5
}
