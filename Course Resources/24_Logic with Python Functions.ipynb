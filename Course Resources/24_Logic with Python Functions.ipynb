{
 "cells": [
  {
   "cell_type": "markdown",
   "id": "16d87514-bee3-4d9a-ba9b-d842dc5b4134",
   "metadata": {},
   "source": [
    "# **Logic with Python Functions**"
   ]
  },
  {
   "cell_type": "markdown",
   "id": "446fcb7f-70d6-45e7-b005-4a038ee07a30",
   "metadata": {
    "jp-MarkdownHeadingCollapsed": true
   },
   "source": [
    "## **Even Odd Checker Example 1**"
   ]
  },
  {
   "cell_type": "markdown",
   "id": "4f41284f-14cc-4fb8-b19f-6af9ec63a952",
   "metadata": {},
   "source": [
    "**Even Odd Checker without return keyword**"
   ]
  },
  {
   "cell_type": "code",
   "execution_count": 4,
   "id": "f7d275c3-b16e-49b7-8bb3-269a07636547",
   "metadata": {},
   "outputs": [],
   "source": [
    "def check_even():\n",
    "    num1 = int(input(\"Enter the number to check if its even or not : \"))\n",
    "    num2 = 2\n",
    "\n",
    "    if num1 % num2 == 0:\n",
    "        print(f\"The number provided which is {num1} is Even\")\n",
    "    else:\n",
    "        print(f\"The number provided which is {num1} is Odd\")"
   ]
  },
  {
   "cell_type": "code",
   "execution_count": 5,
   "id": "37f35a0a-7dab-465e-9101-fa36d2ed97aa",
   "metadata": {},
   "outputs": [
    {
     "name": "stdin",
     "output_type": "stream",
     "text": [
      "Enter the number to check if its even or not :  50\n"
     ]
    },
    {
     "name": "stdout",
     "output_type": "stream",
     "text": [
      "The number provided which is 50 is Even\n"
     ]
    }
   ],
   "source": [
    "check_even()"
   ]
  },
  {
   "cell_type": "markdown",
   "id": "fd0d8d5c-b5a4-48b2-be1b-f4ed45706d0f",
   "metadata": {
    "jp-MarkdownHeadingCollapsed": true
   },
   "source": [
    "## **Even Odd Checker Example 2**"
   ]
  },
  {
   "cell_type": "markdown",
   "id": "2f0d5105-2177-4458-8680-64470f06d4b8",
   "metadata": {},
   "source": [
    "**Even Odd Checker with return keyword**"
   ]
  },
  {
   "cell_type": "code",
   "execution_count": 8,
   "id": "833808ae-4f74-44cd-a62a-2feee906a632",
   "metadata": {},
   "outputs": [],
   "source": [
    "def list_check_even(num_list):\n",
    "    for num in num_list:\n",
    "        if num % 2 == 0:\n",
    "            return True\n",
    "        else:\n",
    "            pass\n",
    "    return False"
   ]
  },
  {
   "cell_type": "code",
   "execution_count": 9,
   "id": "e9fe1cea-b42c-4c79-90ed-00a3c98d7872",
   "metadata": {},
   "outputs": [
    {
     "name": "stdout",
     "output_type": "stream",
     "text": [
      "True\n",
      "False\n"
     ]
    }
   ],
   "source": [
    "print(list_check_even([2,3,4,5,6]))\n",
    "print(list_check_even([3,5,7,9]))"
   ]
  },
  {
   "cell_type": "markdown",
   "id": "3ade08f5-3d5a-4173-8fc7-62256d0e69c8",
   "metadata": {
    "jp-MarkdownHeadingCollapsed": true
   },
   "source": [
    "## **Even Odd Checker Example 3**"
   ]
  },
  {
   "cell_type": "markdown",
   "id": "c7c0f42f-60e1-47fa-a570-8c873b7c6d08",
   "metadata": {},
   "source": [
    "**Even Odd Checker printing entire list**"
   ]
  },
  {
   "cell_type": "code",
   "execution_count": 12,
   "id": "bb39d7ed-8699-44f4-bc91-f1535ea1c875",
   "metadata": {},
   "outputs": [],
   "source": [
    "def list_check_even(num_list):\n",
    "    even_numbers = []\n",
    "    for num in num_list:\n",
    "        if num % 2 == 0:\n",
    "            even_numbers.append(num)\n",
    "        else:\n",
    "            pass\n",
    "    return even_numbers"
   ]
  },
  {
   "cell_type": "code",
   "execution_count": 13,
   "id": "758b5a8f-1ac1-41d5-8c53-87809922e794",
   "metadata": {},
   "outputs": [
    {
     "data": {
      "text/plain": [
       "[2, 4, 6, 8, 10]"
      ]
     },
     "execution_count": 13,
     "metadata": {},
     "output_type": "execute_result"
    }
   ],
   "source": [
    "list_check_even([1,2,3,4,5,6,7,8,9,10])"
   ]
  }
 ],
 "metadata": {
  "kernelspec": {
   "display_name": "Python 3 (ipykernel)",
   "language": "python",
   "name": "python3"
  },
  "language_info": {
   "codemirror_mode": {
    "name": "ipython",
    "version": 3
   },
   "file_extension": ".py",
   "mimetype": "text/x-python",
   "name": "python",
   "nbconvert_exporter": "python",
   "pygments_lexer": "ipython3",
   "version": "3.12.4"
  }
 },
 "nbformat": 4,
 "nbformat_minor": 5
}
