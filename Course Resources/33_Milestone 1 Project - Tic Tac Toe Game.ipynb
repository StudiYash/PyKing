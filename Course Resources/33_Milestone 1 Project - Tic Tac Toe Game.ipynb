{
 "cells": [
  {
   "cell_type": "markdown",
   "id": "0b4ae3fc-b6d8-4249-b772-f0c62c529ce0",
   "metadata": {},
   "source": [
    "# **Milestone 1 Project - Tic Tac Toe Game**"
   ]
  },
  {
   "cell_type": "markdown",
   "id": "9ef34360-244d-4f6c-ac64-24d81e96bf06",
   "metadata": {
    "jp-MarkdownHeadingCollapsed": true
   },
   "source": [
    "## **Create a Board**"
   ]
  },
  {
   "cell_type": "code",
   "execution_count": 3,
   "id": "226742ae-1642-483d-8aad-e5d5e45f565a",
   "metadata": {},
   "outputs": [
    {
     "name": "stdout",
     "output_type": "stream",
     "text": [
      "     |     |\n",
      "  X  |  O  |  X\n",
      "     |     |\n",
      "-----------------\n",
      "     |     |\n",
      "  O  |  X  |  O\n",
      "     |     |\n",
      "-----------------\n",
      "     |     |\n",
      "  X  |  O  |  X\n",
      "     |     |\n"
     ]
    }
   ],
   "source": [
    "from IPython.display import clear_output\n",
    "\n",
    "def display_board(board):\n",
    "    clear_output()\n",
    "    print('     |     |')\n",
    "    print('  ' + board[1] + '  |  ' + board[2] + '  |  ' + board[3])\n",
    "    print('     |     |')\n",
    "    print('-----------------')\n",
    "    print('     |     |')\n",
    "    print('  ' + board[4] + '  |  ' + board[5] + '  |  ' + board[6])\n",
    "    print('     |     |')\n",
    "    print('-----------------')\n",
    "    print('     |     |')\n",
    "    print('  ' + board[7] + '  |  ' + board[8] + '  |  ' + board[9])\n",
    "    print('     |     |')\n",
    "\n",
    "test_board = ['#','X','O','X','O','X','O','X','O','X']\n",
    "display_board(test_board)"
   ]
  },
  {
   "cell_type": "markdown",
   "id": "211fd0e9-cab6-44d4-8d40-f89a88a15d3d",
   "metadata": {
    "jp-MarkdownHeadingCollapsed": true
   },
   "source": [
    "## **Address Player Input**"
   ]
  },
  {
   "cell_type": "code",
   "execution_count": 5,
   "id": "9721adf9-b494-4c31-bdc1-4c26b7f8a013",
   "metadata": {},
   "outputs": [
    {
     "name": "stdin",
     "output_type": "stream",
     "text": [
      "Player1 -- Choose X or O:  X\n"
     ]
    },
    {
     "name": "stdout",
     "output_type": "stream",
     "text": [
      "O\n"
     ]
    }
   ],
   "source": [
    "def player_input():\n",
    "    marker = ''\n",
    "\n",
    "    while marker != 'X' and marker != 'O':\n",
    "        marker = input('Player1 -- Choose X or O: ').upper()\n",
    "\n",
    "    if marker == 'X':\n",
    "        return ('X','O')\n",
    "    else:\n",
    "        return ('O','X')\n",
    "\n",
    "player1_marker , player2_marker = player_input()\n",
    "\n",
    "print(player2_marker)"
   ]
  },
  {
   "cell_type": "markdown",
   "id": "a3c9cf36-35fe-41e8-b7ef-bc0028aa2bba",
   "metadata": {
    "jp-MarkdownHeadingCollapsed": true
   },
   "source": [
    "## **Assigning the Input on the Board**"
   ]
  },
  {
   "cell_type": "code",
   "execution_count": 7,
   "id": "cdfca0d4-f51b-4dd1-8dfa-33eddb5f89b7",
   "metadata": {},
   "outputs": [
    {
     "name": "stdout",
     "output_type": "stream",
     "text": [
      "     |     |\n",
      "  X  |  O  |  X\n",
      "     |     |\n",
      "-----------------\n",
      "     |     |\n",
      "  O  |  X  |  O\n",
      "     |     |\n",
      "-----------------\n",
      "     |     |\n",
      "  X  |  $  |  X\n",
      "     |     |\n"
     ]
    }
   ],
   "source": [
    "def place_marker(board, marker, position):\n",
    "    board[position] = marker\n",
    "\n",
    "place_marker(test_board, '$', 8)\n",
    "display_board(test_board)"
   ]
  },
  {
   "cell_type": "markdown",
   "id": "c65a2036-ade2-4e66-936f-8f42eca4170e",
   "metadata": {
    "jp-MarkdownHeadingCollapsed": true
   },
   "source": [
    "## **Checking the Winner**"
   ]
  },
  {
   "cell_type": "code",
   "execution_count": 9,
   "id": "57ad1af9-89a2-42fc-916d-2719b692111b",
   "metadata": {},
   "outputs": [
    {
     "data": {
      "text/plain": [
       "True"
      ]
     },
     "execution_count": 9,
     "metadata": {},
     "output_type": "execute_result"
    }
   ],
   "source": [
    "def win_check(board,mark):\n",
    "    \n",
    "    return ((board[7] == mark and board[8] == mark and board[9] == mark) or # across the top\n",
    "    (board[4] == mark and board[5] == mark and board[6] == mark) or # across the middle\n",
    "    (board[1] == mark and board[2] == mark and board[3] == mark) or # across the bottom\n",
    "    (board[7] == mark and board[4] == mark and board[1] == mark) or # down the middle\n",
    "    (board[8] == mark and board[5] == mark and board[2] == mark) or # down the middle\n",
    "    (board[9] == mark and board[6] == mark and board[3] == mark) or # down the right side\n",
    "    (board[7] == mark and board[5] == mark and board[3] == mark) or # diagonal\n",
    "    (board[9] == mark and board[5] == mark and board[1] == mark)) # diagonal\n",
    "\n",
    "win_check(test_board,'X')"
   ]
  },
  {
   "cell_type": "markdown",
   "id": "c87ea97b-3ca6-4d4a-bfc9-bcf89ea79935",
   "metadata": {
    "jp-MarkdownHeadingCollapsed": true
   },
   "source": [
    "## **Random First Player**"
   ]
  },
  {
   "cell_type": "code",
   "execution_count": 11,
   "id": "1ddaad23-5577-4aee-9e76-c48b1d7dd631",
   "metadata": {},
   "outputs": [],
   "source": [
    "import random\n",
    "\n",
    "def choose_first():\n",
    "    if random.randint(0, 1) == 0:\n",
    "        return 'Player 2'\n",
    "    else:\n",
    "        return 'Player 1'"
   ]
  },
  {
   "cell_type": "markdown",
   "id": "b9aa1835-0518-43e4-9bf5-e4880db4e651",
   "metadata": {
    "jp-MarkdownHeadingCollapsed": true
   },
   "source": [
    "## **Available Space Check**"
   ]
  },
  {
   "cell_type": "code",
   "execution_count": 13,
   "id": "5178ad5b-6ba8-406b-822b-644dbcefc2ca",
   "metadata": {},
   "outputs": [],
   "source": [
    "def space_check(board, position):\n",
    "    \n",
    "    return board[position] == ' '"
   ]
  },
  {
   "cell_type": "markdown",
   "id": "097d97d7-7983-4ec2-b33c-c5da6d79ee45",
   "metadata": {
    "jp-MarkdownHeadingCollapsed": true
   },
   "source": [
    "## **Board Full Check**"
   ]
  },
  {
   "cell_type": "code",
   "execution_count": 15,
   "id": "7a942b08-925b-4216-a7c2-1e7526c73d00",
   "metadata": {},
   "outputs": [],
   "source": [
    "def full_board_check(board):\n",
    "    for i in range(1,10):\n",
    "        if space_check(board, i):\n",
    "            return False\n",
    "    return True"
   ]
  },
  {
   "cell_type": "markdown",
   "id": "e144392d-4477-4c96-87c5-999d33072f7d",
   "metadata": {
    "jp-MarkdownHeadingCollapsed": true
   },
   "source": [
    "## **Player Position Check**"
   ]
  },
  {
   "cell_type": "code",
   "execution_count": 17,
   "id": "e0e2c360-288c-4f3e-a261-27c5768839a9",
   "metadata": {},
   "outputs": [],
   "source": [
    "def player_choice(board):\n",
    "    position = 0\n",
    "    \n",
    "    while position not in [1,2,3,4,5,6,7,8,9] or not space_check(board, position):\n",
    "        position = int(input('Choose your next position: (1-9) '))\n",
    "        \n",
    "    return position"
   ]
  },
  {
   "cell_type": "markdown",
   "id": "9ee380e1-691f-4024-b1ba-ae52208d207e",
   "metadata": {
    "jp-MarkdownHeadingCollapsed": true
   },
   "source": [
    "## **Replay Decision Check**"
   ]
  },
  {
   "cell_type": "code",
   "execution_count": 19,
   "id": "ee343fa4-8073-4330-9913-dc9b6698c612",
   "metadata": {},
   "outputs": [],
   "source": [
    "def replay():\n",
    "    \n",
    "    return input('Do you want to play again? Enter Yes or No: ').lower().startswith('y')"
   ]
  },
  {
   "cell_type": "markdown",
   "id": "6a404db5-6ebb-4ec3-84e9-77a9c6660c16",
   "metadata": {
    "jp-MarkdownHeadingCollapsed": true
   },
   "source": [
    "## **Game Loop Implementation**"
   ]
  },
  {
   "cell_type": "code",
   "execution_count": 21,
   "id": "9f44f43a-40b7-4ae4-8804-a23d3e8ccc65",
   "metadata": {},
   "outputs": [
    {
     "name": "stdout",
     "output_type": "stream",
     "text": [
      "     |     |\n",
      "  X  |  X  |  O\n",
      "     |     |\n",
      "-----------------\n",
      "     |     |\n",
      "     |  O  |  O\n",
      "     |     |\n",
      "-----------------\n",
      "     |     |\n",
      "  X  |     |  O\n",
      "     |     |\n",
      "Congratulations! You have won the game!\n"
     ]
    },
    {
     "name": "stdin",
     "output_type": "stream",
     "text": [
      "Do you want to play again? Enter Yes or No:  No\n"
     ]
    }
   ],
   "source": [
    "print('Welcome to Tic Tac Toe!')\n",
    "\n",
    "while True:\n",
    "    # Reset the board\n",
    "    theBoard = [' '] * 10\n",
    "    player1_marker, player2_marker = player_input()\n",
    "    turn = choose_first()\n",
    "    print(turn + ' will go first.')\n",
    "    \n",
    "    play_game = input('Are you ready to play? Enter Yes or No.')\n",
    "    \n",
    "    if play_game.lower()[0] == 'y':\n",
    "        game_on = True\n",
    "    else:\n",
    "        game_on = False\n",
    "\n",
    "    while game_on:\n",
    "        if turn == 'Player 1':\n",
    "            # Player1's turn.\n",
    "            \n",
    "            display_board(theBoard)\n",
    "            position = player_choice(theBoard)\n",
    "            place_marker(theBoard, player1_marker, position)\n",
    "\n",
    "            if win_check(theBoard, player1_marker):\n",
    "                display_board(theBoard)\n",
    "                print('Congratulations! You have won the game!')\n",
    "                game_on = False\n",
    "            else:\n",
    "                if full_board_check(theBoard):\n",
    "                    display_board(theBoard)\n",
    "                    print('The game is a draw!')\n",
    "                    break\n",
    "                else:\n",
    "                    turn = 'Player 2'\n",
    "\n",
    "        else:\n",
    "            # Player2's turn.\n",
    "            \n",
    "            display_board(theBoard)\n",
    "            position = player_choice(theBoard)\n",
    "            place_marker(theBoard, player2_marker, position)\n",
    "\n",
    "            if win_check(theBoard, player2_marker):\n",
    "                display_board(theBoard)\n",
    "                print('Player 2 has won!')\n",
    "                game_on = False\n",
    "            else:\n",
    "                if full_board_check(theBoard):\n",
    "                    display_board(theBoard)\n",
    "                    print('The game is a draw!')\n",
    "                    break\n",
    "                else:\n",
    "                    turn = 'Player 1'\n",
    "\n",
    "    if not replay():\n",
    "        break"
   ]
  }
 ],
 "metadata": {
  "kernelspec": {
   "display_name": "Python 3 (ipykernel)",
   "language": "python",
   "name": "python3"
  },
  "language_info": {
   "codemirror_mode": {
    "name": "ipython",
    "version": 3
   },
   "file_extension": ".py",
   "mimetype": "text/x-python",
   "name": "python",
   "nbconvert_exporter": "python",
   "pygments_lexer": "ipython3",
   "version": "3.12.4"
  }
 },
 "nbformat": 4,
 "nbformat_minor": 5
}
