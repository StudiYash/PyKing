{
 "cells": [
  {
   "cell_type": "markdown",
   "id": "46550acc",
   "metadata": {},
   "source": [
    "# **For Loops in Python**"
   ]
  },
  {
   "cell_type": "markdown",
   "id": "f5febd49",
   "metadata": {
    "jp-MarkdownHeadingCollapsed": true
   },
   "source": [
    "## **For Loop Syntax**"
   ]
  },
  {
   "cell_type": "code",
   "execution_count": 3,
   "id": "ad84445f",
   "metadata": {},
   "outputs": [
    {
     "name": "stdout",
     "output_type": "stream",
     "text": [
      "1\n",
      "2\n",
      "3\n"
     ]
    }
   ],
   "source": [
    "list_1 = [1,2,3]\n",
    "for num in list_1:\n",
    "    print(num)"
   ]
  },
  {
   "cell_type": "code",
   "execution_count": 4,
   "id": "3d1f3603",
   "metadata": {},
   "outputs": [
    {
     "name": "stdout",
     "output_type": "stream",
     "text": [
      "1\n",
      "2\n",
      "3\n",
      "4\n",
      "5\n"
     ]
    }
   ],
   "source": [
    "list_2 = [1,2,3,4,5]\n",
    "for yash in list_2:\n",
    "    print(yash)"
   ]
  },
  {
   "cell_type": "markdown",
   "id": "a96cc52a-9b5e-49ad-a2b3-3c4cac03dae3",
   "metadata": {
    "jp-MarkdownHeadingCollapsed": true
   },
   "source": [
    "## **For Loop Variation**"
   ]
  },
  {
   "cell_type": "code",
   "execution_count": 6,
   "id": "499f067c",
   "metadata": {},
   "outputs": [
    {
     "name": "stdout",
     "output_type": "stream",
     "text": [
      "Yash\n",
      "Yash\n",
      "Yash\n",
      "Yash\n"
     ]
    }
   ],
   "source": [
    "list_3 = [1,2,3,4]\n",
    "for doraemon in list_3:\n",
    "    print(\"Yash\")"
   ]
  },
  {
   "cell_type": "markdown",
   "id": "8ff6e588",
   "metadata": {
    "jp-MarkdownHeadingCollapsed": true
   },
   "source": [
    "## **Combination of For Loop and If Statement**"
   ]
  },
  {
   "cell_type": "code",
   "execution_count": 8,
   "id": "22fe8966",
   "metadata": {},
   "outputs": [
    {
     "name": "stdout",
     "output_type": "stream",
     "text": [
      "2\n",
      "4\n",
      "6\n",
      "8\n",
      "10\n"
     ]
    }
   ],
   "source": [
    "list_4 = [1,2,3,4,5,6,7,8,9,10]\n",
    "for num in list_4:\n",
    "    if num%2 == 0:\n",
    "        print(num)"
   ]
  },
  {
   "cell_type": "markdown",
   "id": "16cdb491-6320-4f4e-a33b-d158d2026357",
   "metadata": {
    "jp-MarkdownHeadingCollapsed": true
   },
   "source": [
    "## **Combination of For Loop and If, Else Statement**"
   ]
  },
  {
   "cell_type": "code",
   "execution_count": 10,
   "id": "666a6cb0",
   "metadata": {},
   "outputs": [
    {
     "name": "stdout",
     "output_type": "stream",
     "text": [
      "Odd Numner: 1\n",
      "Even Number: 2\n",
      "Odd Numner: 3\n",
      "Even Number: 4\n",
      "Odd Numner: 5\n",
      "Even Number: 6\n",
      "Odd Numner: 7\n",
      "Even Number: 8\n",
      "Odd Numner: 9\n",
      "Even Number: 10\n"
     ]
    }
   ],
   "source": [
    "list_4 = [1,2,3,4,5,6,7,8,9,10]\n",
    "for num in list_4:\n",
    "    if num%2 == 0:\n",
    "        print(f'Even Number: {num}')\n",
    "    else:\n",
    "        print(f'Odd Numner: {num}')"
   ]
  },
  {
   "cell_type": "markdown",
   "id": "a3d67765",
   "metadata": {
    "jp-MarkdownHeadingCollapsed": true
   },
   "source": [
    "## **Importance of Indentation in For Loop**"
   ]
  },
  {
   "cell_type": "code",
   "execution_count": 12,
   "id": "5e93008e",
   "metadata": {},
   "outputs": [
    {
     "name": "stdout",
     "output_type": "stream",
     "text": [
      "Sum at every stage is : \n",
      "1\n",
      "3\n",
      "6\n",
      "10\n",
      "15\n",
      "21\n",
      "\n",
      "Final Sum is : 21\n"
     ]
    }
   ],
   "source": [
    "list_5 = [1,2,3,4,5,6]\n",
    "sum_list_5 = 0\n",
    "print(\"Sum at every stage is : \")\n",
    "for num in list_5:\n",
    "    sum_list_5 = sum_list_5 + num\n",
    "    # Now if we type the statement of print inside the for loop then all the sums at every step will get printed.\n",
    "    # However if we type the statement of print outside the for loop then the last ans will get printed only.\n",
    "    print(sum_list_5)\n",
    "print() # These are blank print statements. They just add spaces.  \n",
    "print(f'Final Sum is : {sum_list_5}')\n",
    "\n",
    "# This shows the importance of indentation."
   ]
  },
  {
   "cell_type": "markdown",
   "id": "f0aeac32-66dc-4378-bfdf-222b530f5e9c",
   "metadata": {
    "jp-MarkdownHeadingCollapsed": true
   },
   "source": [
    "## **For Loop on Strings**"
   ]
  },
  {
   "cell_type": "markdown",
   "id": "e933974d-bde0-4b43-a645-12e0d3c8ed88",
   "metadata": {
    "jp-MarkdownHeadingCollapsed": true
   },
   "source": [
    "### **For Loop on String assigned to a Variable**"
   ]
  },
  {
   "cell_type": "code",
   "execution_count": 15,
   "id": "cb5275d5",
   "metadata": {},
   "outputs": [
    {
     "name": "stdout",
     "output_type": "stream",
     "text": [
      "H\n",
      "e\n",
      "l\n",
      "l\n",
      "o\n",
      " \n",
      "W\n",
      "o\n",
      "r\n",
      "l\n",
      "d\n"
     ]
    }
   ],
   "source": [
    "string_1 = \"Hello World\"\n",
    "for letters in string_1:\n",
    "    print(letters)"
   ]
  },
  {
   "cell_type": "markdown",
   "id": "17dfe2ed-f980-4dcd-a7bd-e67b8755f69d",
   "metadata": {
    "jp-MarkdownHeadingCollapsed": true
   },
   "source": [
    "### **For Loop on String without assigning to a Variable**"
   ]
  },
  {
   "cell_type": "code",
   "execution_count": 17,
   "id": "18d54eff",
   "metadata": {},
   "outputs": [
    {
     "name": "stdout",
     "output_type": "stream",
     "text": [
      "H\n",
      "e\n",
      "l\n",
      "l\n",
      "o\n",
      " \n",
      "W\n",
      "o\n",
      "r\n",
      "l\n",
      "d\n"
     ]
    }
   ],
   "source": [
    "for letter in \"Hello World\":\n",
    "    print(letter)"
   ]
  },
  {
   "cell_type": "markdown",
   "id": "9d85ee98",
   "metadata": {},
   "source": [
    "## **For Loop on Tuples**"
   ]
  },
  {
   "cell_type": "markdown",
   "id": "ddd7533e-793a-400b-86d0-4e31dddaf757",
   "metadata": {
    "jp-MarkdownHeadingCollapsed": true
   },
   "source": [
    "### **For Loop directly on a Tuple**"
   ]
  },
  {
   "cell_type": "code",
   "execution_count": 20,
   "id": "663a2a89",
   "metadata": {},
   "outputs": [
    {
     "name": "stdout",
     "output_type": "stream",
     "text": [
      "1\n",
      "2\n",
      "3\n"
     ]
    }
   ],
   "source": [
    "tup_1 = (1,2,3)\n",
    "for num in tup_1:\n",
    "    print(num)"
   ]
  },
  {
   "cell_type": "markdown",
   "id": "16cfceb5-b878-4766-bd85-7997de56db96",
   "metadata": {
    "jp-MarkdownHeadingCollapsed": true
   },
   "source": [
    "### **Tuple Unpacking**"
   ]
  },
  {
   "cell_type": "code",
   "execution_count": 22,
   "id": "1bf39500",
   "metadata": {},
   "outputs": [
    {
     "name": "stdout",
     "output_type": "stream",
     "text": [
      "(1, 2)\n",
      "(3, 4)\n",
      "(5, 6)\n",
      "(7, 8)\n"
     ]
    }
   ],
   "source": [
    "list_6 = [(1,2),(3,4),(5,6),(7,8)] # These are tuples inside the list.\n",
    "for item in list_6:\n",
    "    print(item) # Here it will print all the tuple pairs as if they are single entities."
   ]
  },
  {
   "cell_type": "code",
   "execution_count": 23,
   "id": "b6fef85a",
   "metadata": {},
   "outputs": [
    {
     "name": "stdout",
     "output_type": "stream",
     "text": [
      "1\n",
      "2\n",
      "3\n",
      "4\n",
      "5\n",
      "6\n"
     ]
    }
   ],
   "source": [
    "list_6 = [(1,2),(3,4),(5,6)]\n",
    "for a,b in list_6:\n",
    "    print(a)\n",
    "    print(b)"
   ]
  },
  {
   "cell_type": "markdown",
   "id": "09636bd5",
   "metadata": {},
   "source": [
    "## **For Loop on Dictionaries**"
   ]
  },
  {
   "cell_type": "markdown",
   "id": "c4787731",
   "metadata": {
    "jp-MarkdownHeadingCollapsed": true
   },
   "source": [
    "### **For Loop directly on a Dictionary**"
   ]
  },
  {
   "cell_type": "code",
   "execution_count": 26,
   "id": "490e0586",
   "metadata": {},
   "outputs": [
    {
     "name": "stdout",
     "output_type": "stream",
     "text": [
      "k1\n",
      "k2\n",
      "k3\n"
     ]
    }
   ],
   "source": [
    "dict_1 = {'k1':'a','k2':'b','k3':'c'}\n",
    "for elements in dict_1:\n",
    "    print(elements)"
   ]
  },
  {
   "cell_type": "markdown",
   "id": "3a9f96f2",
   "metadata": {
    "jp-MarkdownHeadingCollapsed": true
   },
   "source": [
    "### **For Loop to print only the Keys of Dictionary**"
   ]
  },
  {
   "cell_type": "code",
   "execution_count": 28,
   "id": "4f4bdca2",
   "metadata": {},
   "outputs": [
    {
     "name": "stdout",
     "output_type": "stream",
     "text": [
      "k1\n",
      "k2\n",
      "k3\n"
     ]
    }
   ],
   "source": [
    "dict_1 = {'k1':'a','k2':'b','k3':'c'}\n",
    "for elements in dict_1.keys():\n",
    "    print(elements)"
   ]
  },
  {
   "cell_type": "markdown",
   "id": "2f5687c2-c8c7-4a14-86be-dc8afdca8d16",
   "metadata": {
    "jp-MarkdownHeadingCollapsed": true
   },
   "source": [
    "### **For Loop to print only the Values of Dictionary**"
   ]
  },
  {
   "cell_type": "code",
   "execution_count": 30,
   "id": "0baa4502-504c-4c9a-bbf7-3b8a55bee37e",
   "metadata": {},
   "outputs": [
    {
     "name": "stdout",
     "output_type": "stream",
     "text": [
      "a\n",
      "b\n",
      "c\n"
     ]
    }
   ],
   "source": [
    "dict_1 = {'k1':'a','k2':'b','k3':'c'}\n",
    "for elements in dict_1.values():\n",
    "    print(elements)"
   ]
  },
  {
   "cell_type": "markdown",
   "id": "040c0156-7e6a-4906-bda3-01395c5a00bb",
   "metadata": {
    "jp-MarkdownHeadingCollapsed": true
   },
   "source": [
    "### **For Loop to print only the Items of Dictionary**"
   ]
  },
  {
   "cell_type": "code",
   "execution_count": 32,
   "id": "a8bb5a69-6057-44f6-8e7b-d047c4a52070",
   "metadata": {},
   "outputs": [
    {
     "name": "stdout",
     "output_type": "stream",
     "text": [
      "('k1', 'a')\n",
      "('k2', 'b')\n",
      "('k3', 'c')\n"
     ]
    }
   ],
   "source": [
    "dict_1 = {'k1':'a','k2':'b','k3':'c'}\n",
    "for elements in dict_1.items():\n",
    "    print(elements)"
   ]
  },
  {
   "cell_type": "markdown",
   "id": "a43397e0",
   "metadata": {
    "jp-MarkdownHeadingCollapsed": true
   },
   "source": [
    "### **Dictionary Unpacking**"
   ]
  },
  {
   "cell_type": "code",
   "execution_count": 34,
   "id": "231db35a",
   "metadata": {},
   "outputs": [
    {
     "name": "stdout",
     "output_type": "stream",
     "text": [
      "k1\n",
      "a\n",
      "k2\n",
      "b\n",
      "k3\n",
      "c\n"
     ]
    }
   ],
   "source": [
    "dict_1 = {'k1':'a','k2':'b','k3':'c'}\n",
    "for keys,values in dict_1.items():\n",
    "    print(keys)\n",
    "    print(values)"
   ]
  }
 ],
 "metadata": {
  "kernelspec": {
   "display_name": "Python 3 (ipykernel)",
   "language": "python",
   "name": "python3"
  },
  "language_info": {
   "codemirror_mode": {
    "name": "ipython",
    "version": 3
   },
   "file_extension": ".py",
   "mimetype": "text/x-python",
   "name": "python",
   "nbconvert_exporter": "python",
   "pygments_lexer": "ipython3",
   "version": "3.12.4"
  }
 },
 "nbformat": 4,
 "nbformat_minor": 5
}
