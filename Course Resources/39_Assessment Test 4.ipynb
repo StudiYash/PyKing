{
 "cells": [
  {
   "cell_type": "markdown",
   "id": "0f2b101b-5160-44e0-b817-6e90e7c50230",
   "metadata": {},
   "source": [
    "# **Assessment Test 4**"
   ]
  },
  {
   "cell_type": "markdown",
   "id": "4fa59e43-fe42-4425-9341-7457fffc00f0",
   "metadata": {},
   "source": [
    "## **Object Oriented Programming Challenge**"
   ]
  },
  {
   "cell_type": "markdown",
   "id": "3f6f7654-1bdf-4bb8-b99a-eab9c5e3bd31",
   "metadata": {},
   "source": [
    "**For this challenge, create a bank account class that has two attributes:**\n",
    "\n",
    "    owner\n",
    "    balance\n",
    "\n",
    "**and two methods:**\n",
    "\n",
    "    deposit\n",
    "    withdraw\n",
    "\n",
    "**As an added requirement, withdrawals may not exceed the available balance.**\n",
    "\n",
    "**Instantiate your class, make several deposits and withdrawals, and test to make sure the account can't be overdrawn.**"
   ]
  },
  {
   "cell_type": "code",
   "execution_count": null,
   "id": "fa6b9246-b7c0-4e43-8036-3b893f363af6",
   "metadata": {},
   "outputs": [],
   "source": [
    "class Account:\n",
    "    pass"
   ]
  },
  {
   "cell_type": "code",
   "execution_count": null,
   "id": "6896ffcd-5a5b-4262-a778-c9fed4b3cba7",
   "metadata": {},
   "outputs": [],
   "source": [
    "# 1. Instantiate the class\n",
    "acct1 = Account('Jose',100)"
   ]
  },
  {
   "cell_type": "code",
   "execution_count": null,
   "id": "0c0d4918-19c6-45b9-b377-07acd2702e33",
   "metadata": {},
   "outputs": [],
   "source": [
    "# 2. Print the object\n",
    "print(acct1)"
   ]
  },
  {
   "cell_type": "code",
   "execution_count": null,
   "id": "c718e89b-4929-41ba-a0e7-3727b8f7c9b9",
   "metadata": {},
   "outputs": [],
   "source": [
    "# 3. Show the account owner attribute\n",
    "acct1.owner"
   ]
  },
  {
   "cell_type": "code",
   "execution_count": null,
   "id": "0e2edda0-9f81-4902-ab2e-0caf4c9afbf8",
   "metadata": {},
   "outputs": [],
   "source": [
    "# 4. Show the account balance attribute\n",
    "acct1.balance"
   ]
  },
  {
   "cell_type": "code",
   "execution_count": null,
   "id": "2788fcd3-f462-4420-b874-d70f7194336d",
   "metadata": {},
   "outputs": [],
   "source": [
    "# 5. Make a series of deposits and withdrawals\n",
    "acct1.deposit(50)"
   ]
  },
  {
   "cell_type": "code",
   "execution_count": null,
   "id": "c801aa9c-f10c-49ea-8c8e-86736ac9bbf1",
   "metadata": {},
   "outputs": [],
   "source": [
    "acct1.withdraw(75)"
   ]
  },
  {
   "cell_type": "code",
   "execution_count": null,
   "id": "445d2e5a-46d8-4910-a11a-3282da3adfa4",
   "metadata": {},
   "outputs": [],
   "source": [
    "# 6. Make a withdrawal that exceeds the available balance\n",
    "acct1.withdraw(500)"
   ]
  }
 ],
 "metadata": {
  "kernelspec": {
   "display_name": "Python 3 (ipykernel)",
   "language": "python",
   "name": "python3"
  },
  "language_info": {
   "codemirror_mode": {
    "name": "ipython",
    "version": 3
   },
   "file_extension": ".py",
   "mimetype": "text/x-python",
   "name": "python",
   "nbconvert_exporter": "python",
   "pygments_lexer": "ipython3",
   "version": "3.12.4"
  }
 },
 "nbformat": 4,
 "nbformat_minor": 5
}
