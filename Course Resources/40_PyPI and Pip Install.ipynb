{
 "cells": [
  {
   "cell_type": "markdown",
   "id": "8488dd42-62ff-4b6d-b042-54b5f3f5f93b",
   "metadata": {},
   "source": [
    "# **PyPI and Pip Install**"
   ]
  },
  {
   "cell_type": "markdown",
   "id": "f08e12d9-4216-4e32-830c-8cf70ad214e3",
   "metadata": {},
   "source": [
    "## **Installing Colorama Library**"
   ]
  },
  {
   "cell_type": "code",
   "execution_count": 3,
   "id": "44fc9d94-1b32-4430-96bf-26f8db68963b",
   "metadata": {},
   "outputs": [
    {
     "name": "stdout",
     "output_type": "stream",
     "text": [
      "Requirement already satisfied: colorama in c:\\users\\studi\\anaconda3\\lib\\site-packages (0.4.6)\n",
      "Note: you may need to restart the kernel to use updated packages.\n"
     ]
    }
   ],
   "source": [
    "pip install colorama"
   ]
  },
  {
   "cell_type": "code",
   "execution_count": 4,
   "id": "956e9d5e-932c-47d1-8550-cc83ab927557",
   "metadata": {},
   "outputs": [],
   "source": [
    "from colorama import Fore"
   ]
  },
  {
   "cell_type": "code",
   "execution_count": 5,
   "id": "141a006d-5568-4d60-88d9-89f21efe8e21",
   "metadata": {},
   "outputs": [
    {
     "name": "stdout",
     "output_type": "stream",
     "text": [
      "\u001b[31mThis text is in red color\n"
     ]
    }
   ],
   "source": [
    "print(Fore.RED + \"This text is in red color\")"
   ]
  },
  {
   "cell_type": "code",
   "execution_count": 6,
   "id": "2bf18a42-2b31-4c32-ae22-fe384da41f28",
   "metadata": {},
   "outputs": [
    {
     "name": "stdout",
     "output_type": "stream",
     "text": [
      "\u001b[32mThis text is in red color\n"
     ]
    }
   ],
   "source": [
    "print(Fore.GREEN + \"This text is in red color\")"
   ]
  }
 ],
 "metadata": {
  "kernelspec": {
   "display_name": "Python 3 (ipykernel)",
   "language": "python",
   "name": "python3"
  },
  "language_info": {
   "codemirror_mode": {
    "name": "ipython",
    "version": 3
   },
   "file_extension": ".py",
   "mimetype": "text/x-python",
   "name": "python",
   "nbconvert_exporter": "python",
   "pygments_lexer": "ipython3",
   "version": "3.12.4"
  }
 },
 "nbformat": 4,
 "nbformat_minor": 5
}
