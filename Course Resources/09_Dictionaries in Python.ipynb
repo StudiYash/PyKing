{
 "cells": [
  {
   "cell_type": "markdown",
   "id": "b1879ff7",
   "metadata": {},
   "source": [
    "# **Dictionaries in Python**"
   ]
  },
  {
   "cell_type": "markdown",
   "id": "82f393d1-14f6-46bc-ac26-6eb63c013cb4",
   "metadata": {
    "jp-MarkdownHeadingCollapsed": true
   },
   "source": [
    "## **Creating a Dictionary**"
   ]
  },
  {
   "cell_type": "code",
   "execution_count": 3,
   "id": "7da9c2d1",
   "metadata": {},
   "outputs": [
    {
     "name": "stdout",
     "output_type": "stream",
     "text": [
      "{'key1': 'value1', 'key2': 'value2'}\n"
     ]
    }
   ],
   "source": [
    "my_dict = {'key1' : 'value1', 'key2' : 'value2'}\n",
    "print(my_dict)"
   ]
  },
  {
   "cell_type": "code",
   "execution_count": 4,
   "id": "1d64f28f-5b8d-415f-b2fd-a34fcaec79b7",
   "metadata": {},
   "outputs": [
    {
     "name": "stdout",
     "output_type": "stream",
     "text": [
      "{'apple': '20 rs', 'orange': '15 rs', 'banana': '18 rs'}\n"
     ]
    }
   ],
   "source": [
    "store_prices = {'apple' : '20 rs' , 'orange' : '15 rs' , 'banana' : '18 rs'}\n",
    "print(store_prices)"
   ]
  },
  {
   "cell_type": "markdown",
   "id": "eb1dfadd",
   "metadata": {
    "jp-MarkdownHeadingCollapsed": true
   },
   "source": [
    "## **Finding a specific value in the dictionary**"
   ]
  },
  {
   "cell_type": "code",
   "execution_count": 6,
   "id": "9baf664f",
   "metadata": {},
   "outputs": [
    {
     "name": "stdout",
     "output_type": "stream",
     "text": [
      "value1\n",
      "15 rs\n"
     ]
    }
   ],
   "source": [
    "print(my_dict['key1'])\n",
    "\n",
    "print(store_prices['orange'])"
   ]
  },
  {
   "cell_type": "markdown",
   "id": "d231a291",
   "metadata": {
    "jp-MarkdownHeadingCollapsed": true
   },
   "source": [
    "## **Dictionaries holding Lists and other Dictioanaries inside them**"
   ]
  },
  {
   "cell_type": "code",
   "execution_count": 8,
   "id": "6122c2dd",
   "metadata": {},
   "outputs": [
    {
     "name": "stdout",
     "output_type": "stream",
     "text": [
      "{'k1': 1000, 'k2': [1, 2, 3, 4, 5], 'k3': {'inside_k1': 2000}}\n"
     ]
    }
   ],
   "source": [
    "dictionary = {'k1':1000 , 'k2':[1,2,3,4,5] , 'k3':{'inside_k1':2000}}\n",
    "print(dictionary)"
   ]
  },
  {
   "cell_type": "markdown",
   "id": "98db2733-7411-4477-bfff-7ed94ddbfdcd",
   "metadata": {
    "jp-MarkdownHeadingCollapsed": true
   },
   "source": [
    "## **Traversing inside a Dictionary**"
   ]
  },
  {
   "cell_type": "code",
   "execution_count": 10,
   "id": "a5ed5442",
   "metadata": {},
   "outputs": [
    {
     "data": {
      "text/plain": [
       "[1, 2, 3, 4, 5]"
      ]
     },
     "execution_count": 10,
     "metadata": {},
     "output_type": "execute_result"
    }
   ],
   "source": [
    "dictionary['k2']"
   ]
  },
  {
   "cell_type": "code",
   "execution_count": 11,
   "id": "5ed1493a",
   "metadata": {},
   "outputs": [
    {
     "data": {
      "text/plain": [
       "2"
      ]
     },
     "execution_count": 11,
     "metadata": {},
     "output_type": "execute_result"
    }
   ],
   "source": [
    "dictionary['k2'][1]"
   ]
  },
  {
   "cell_type": "code",
   "execution_count": 12,
   "id": "e7d14f8d",
   "metadata": {},
   "outputs": [
    {
     "data": {
      "text/plain": [
       "{'inside_k1': 2000}"
      ]
     },
     "execution_count": 12,
     "metadata": {},
     "output_type": "execute_result"
    }
   ],
   "source": [
    "dictionary['k3']"
   ]
  },
  {
   "cell_type": "code",
   "execution_count": 13,
   "id": "0242c560",
   "metadata": {},
   "outputs": [
    {
     "data": {
      "text/plain": [
       "2000"
      ]
     },
     "execution_count": 13,
     "metadata": {},
     "output_type": "execute_result"
    }
   ],
   "source": [
    "dictionary['k3']['inside_k1']"
   ]
  },
  {
   "cell_type": "markdown",
   "id": "d34accde",
   "metadata": {
    "jp-MarkdownHeadingCollapsed": true
   },
   "source": [
    "## **Adding new Keys in an already existing Dictionary**"
   ]
  },
  {
   "cell_type": "code",
   "execution_count": 15,
   "id": "cb3306b4",
   "metadata": {},
   "outputs": [
    {
     "name": "stdout",
     "output_type": "stream",
     "text": [
      "{'k1': 1, 'k2': 2}\n"
     ]
    }
   ],
   "source": [
    "d = {'k1':1 , 'k2':2}\n",
    "print(d)"
   ]
  },
  {
   "cell_type": "code",
   "execution_count": 16,
   "id": "a9ca4952",
   "metadata": {},
   "outputs": [
    {
     "name": "stdout",
     "output_type": "stream",
     "text": [
      "{'k1': 1, 'k2': 2, 'k3': 3}\n"
     ]
    }
   ],
   "source": [
    "d['k3'] = 3\n",
    "print(d)"
   ]
  },
  {
   "cell_type": "markdown",
   "id": "297ac3c4",
   "metadata": {
    "jp-MarkdownHeadingCollapsed": true
   },
   "source": [
    "## **Looking at all Keys inside a Dictionary**"
   ]
  },
  {
   "cell_type": "code",
   "execution_count": 18,
   "id": "b583eb33",
   "metadata": {},
   "outputs": [],
   "source": [
    "a = {'apple' : '20 rs' , 'orange' : '15 rs' , 'banana' : '18 rs'}"
   ]
  },
  {
   "cell_type": "code",
   "execution_count": 19,
   "id": "5ffc2a50",
   "metadata": {},
   "outputs": [
    {
     "data": {
      "text/plain": [
       "dict_keys(['apple', 'orange', 'banana'])"
      ]
     },
     "execution_count": 19,
     "metadata": {},
     "output_type": "execute_result"
    }
   ],
   "source": [
    "a.keys()"
   ]
  },
  {
   "cell_type": "markdown",
   "id": "1c32da3b-c8d0-4ac0-922c-3aaa81e26392",
   "metadata": {
    "jp-MarkdownHeadingCollapsed": true
   },
   "source": [
    "## **Looking at all Values inside a Dictionary**"
   ]
  },
  {
   "cell_type": "code",
   "execution_count": 21,
   "id": "40facffb",
   "metadata": {},
   "outputs": [
    {
     "data": {
      "text/plain": [
       "dict_values(['20 rs', '15 rs', '18 rs'])"
      ]
     },
     "execution_count": 21,
     "metadata": {},
     "output_type": "execute_result"
    }
   ],
   "source": [
    "a.values()"
   ]
  },
  {
   "cell_type": "markdown",
   "id": "db57a175-0ea1-446f-8127-62b9d3ca853f",
   "metadata": {
    "jp-MarkdownHeadingCollapsed": true
   },
   "source": [
    "## **Looking at all Items inside a Dictionary**"
   ]
  },
  {
   "cell_type": "code",
   "execution_count": 23,
   "id": "92905f32",
   "metadata": {},
   "outputs": [
    {
     "data": {
      "text/plain": [
       "dict_items([('apple', '20 rs'), ('orange', '15 rs'), ('banana', '18 rs')])"
      ]
     },
     "execution_count": 23,
     "metadata": {},
     "output_type": "execute_result"
    }
   ],
   "source": [
    "a.items()"
   ]
  },
  {
   "cell_type": "markdown",
   "id": "fb17ff9e",
   "metadata": {
    "jp-MarkdownHeadingCollapsed": true
   },
   "source": [
    "## **Using the dict Constructor**"
   ]
  },
  {
   "cell_type": "code",
   "execution_count": 25,
   "id": "cc738b25",
   "metadata": {},
   "outputs": [
    {
     "name": "stdout",
     "output_type": "stream",
     "text": [
      "{1: 'first', 2: 'Second', 3: 'Third'}\n"
     ]
    }
   ],
   "source": [
    "dict_1 = dict([(1,\"first\"),(2,\"Second\"),(3,\"Third\")])\n",
    "print(dict_1)"
   ]
  },
  {
   "cell_type": "markdown",
   "id": "76ca89ca-c482-4c85-aecf-748cecbdd2f4",
   "metadata": {
    "jp-MarkdownHeadingCollapsed": true
   },
   "source": [
    "## **The examples of Complex traversing on dictionaries**"
   ]
  },
  {
   "cell_type": "code",
   "execution_count": 27,
   "id": "0845d748-1a66-4e81-9393-957dcdf2b9b1",
   "metadata": {},
   "outputs": [
    {
     "name": "stdout",
     "output_type": "stream",
     "text": [
      "B\n",
      "CD\n",
      "DEF\n"
     ]
    }
   ],
   "source": [
    "d = {'k1':['a','b','c'] , 'k2':{'m_1':['ab','cd','ef']} , 'k3':{'m_2':{'o_1':['abc','def','ghi']}}}\n",
    "\n",
    "print((d['k1'][1]).upper())\n",
    "print((d['k2']['m_1'][1]).upper())\n",
    "print((d['k3']['m_2']['o_1'][1]).upper())"
   ]
  }
 ],
 "metadata": {
  "kernelspec": {
   "display_name": "Python 3 (ipykernel)",
   "language": "python",
   "name": "python3"
  },
  "language_info": {
   "codemirror_mode": {
    "name": "ipython",
    "version": 3
   },
   "file_extension": ".py",
   "mimetype": "text/x-python",
   "name": "python",
   "nbconvert_exporter": "python",
   "pygments_lexer": "ipython3",
   "version": "3.12.4"
  }
 },
 "nbformat": 4,
 "nbformat_minor": 5
}
