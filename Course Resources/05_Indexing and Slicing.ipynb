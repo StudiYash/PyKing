{
 "cells": [
  {
   "cell_type": "markdown",
   "id": "c35c9b50-d98a-4eb6-9c7c-50485975f602",
   "metadata": {},
   "source": [
    "# Indexing and Slicing"
   ]
  },
  {
   "cell_type": "markdown",
   "id": "68241c58-9a4d-487a-a87e-5ae048f8baf2",
   "metadata": {
    "jp-MarkdownHeadingCollapsed": true
   },
   "source": [
    "## Indexing"
   ]
  },
  {
   "cell_type": "markdown",
   "id": "9674c33a-2cb2-43a8-aa06-964500bd7a92",
   "metadata": {
    "jp-MarkdownHeadingCollapsed": true
   },
   "source": [
    "### Normal Indexing"
   ]
  },
  {
   "cell_type": "code",
   "execution_count": 5,
   "id": "762a69f8",
   "metadata": {},
   "outputs": [
    {
     "name": "stdout",
     "output_type": "stream",
     "text": [
      "Yash Shukla\n"
     ]
    }
   ],
   "source": [
    "myname = \"Yash Shukla\"\n",
    "print(myname)"
   ]
  },
  {
   "cell_type": "code",
   "execution_count": 6,
   "id": "d31b0225",
   "metadata": {},
   "outputs": [
    {
     "data": {
      "text/plain": [
       "'h'"
      ]
     },
     "execution_count": 6,
     "metadata": {},
     "output_type": "execute_result"
    }
   ],
   "source": [
    "myname[3]"
   ]
  },
  {
   "cell_type": "code",
   "execution_count": 7,
   "id": "57ecf807",
   "metadata": {},
   "outputs": [
    {
     "data": {
      "text/plain": [
       "'u'"
      ]
     },
     "execution_count": 7,
     "metadata": {},
     "output_type": "execute_result"
    }
   ],
   "source": [
    "myname[7]"
   ]
  },
  {
   "cell_type": "code",
   "execution_count": 8,
   "id": "8fd72ecb",
   "metadata": {},
   "outputs": [
    {
     "name": "stdout",
     "output_type": "stream",
     "text": [
      "u\n"
     ]
    }
   ],
   "source": [
    "print(myname[7])"
   ]
  },
  {
   "cell_type": "markdown",
   "id": "84a22cd7",
   "metadata": {
    "jp-MarkdownHeadingCollapsed": true
   },
   "source": [
    "### Negative Indexing"
   ]
  },
  {
   "cell_type": "code",
   "execution_count": 10,
   "id": "10ceadf3",
   "metadata": {},
   "outputs": [
    {
     "data": {
      "text/plain": [
       "'u'"
      ]
     },
     "execution_count": 10,
     "metadata": {},
     "output_type": "execute_result"
    }
   ],
   "source": [
    "myname[-4]"
   ]
  },
  {
   "cell_type": "code",
   "execution_count": 11,
   "id": "e140a614",
   "metadata": {},
   "outputs": [
    {
     "data": {
      "text/plain": [
       "'S'"
      ]
     },
     "execution_count": 11,
     "metadata": {},
     "output_type": "execute_result"
    }
   ],
   "source": [
    "myname[-6]"
   ]
  },
  {
   "cell_type": "code",
   "execution_count": 12,
   "id": "9e0a45d0",
   "metadata": {},
   "outputs": [
    {
     "name": "stdout",
     "output_type": "stream",
     "text": [
      "S\n"
     ]
    }
   ],
   "source": [
    "print(myname[-6])"
   ]
  },
  {
   "cell_type": "markdown",
   "id": "3f39893e",
   "metadata": {
    "jp-MarkdownHeadingCollapsed": true
   },
   "source": [
    "## Slicing"
   ]
  },
  {
   "cell_type": "markdown",
   "id": "0cfbd252-0078-4ed8-8b8e-65a1534f00c5",
   "metadata": {
    "jp-MarkdownHeadingCollapsed": true
   },
   "source": [
    "### Explaining Slicing without Step Size Parameter"
   ]
  },
  {
   "cell_type": "code",
   "execution_count": 15,
   "id": "083af809",
   "metadata": {},
   "outputs": [],
   "source": [
    "myalpha = \"abcdefghijkl\""
   ]
  },
  {
   "cell_type": "code",
   "execution_count": 16,
   "id": "929d9085",
   "metadata": {},
   "outputs": [
    {
     "data": {
      "text/plain": [
       "'defghijkl'"
      ]
     },
     "execution_count": 16,
     "metadata": {},
     "output_type": "execute_result"
    }
   ],
   "source": [
    "myalpha[3:] # In slicing for getting the output from one charachter of the string to the end of the string this type of syntax is used."
   ]
  },
  {
   "cell_type": "code",
   "execution_count": 17,
   "id": "e6838e7e",
   "metadata": {},
   "outputs": [
    {
     "data": {
      "text/plain": [
       "'abcdefgh'"
      ]
     },
     "execution_count": 17,
     "metadata": {},
     "output_type": "execute_result"
    }
   ],
   "source": [
    "myalpha[:8] # In slicing for getting the output till a specific index this type of syntax is used."
   ]
  },
  {
   "cell_type": "code",
   "execution_count": 18,
   "id": "52640322",
   "metadata": {},
   "outputs": [
    {
     "data": {
      "text/plain": [
       "'defg'"
      ]
     },
     "execution_count": 18,
     "metadata": {},
     "output_type": "execute_result"
    }
   ],
   "source": [
    "myalpha[3:7] # This syntax is used to print the subsection of any string"
   ]
  },
  {
   "cell_type": "code",
   "execution_count": 19,
   "id": "24f03a86",
   "metadata": {},
   "outputs": [
    {
     "name": "stdout",
     "output_type": "stream",
     "text": [
      "abcdefghijkl\n"
     ]
    }
   ],
   "source": [
    "print(myalpha) # For printing all the way to the beginning till the end of the string these two syntaxes can be used."
   ]
  },
  {
   "cell_type": "code",
   "execution_count": 20,
   "id": "143409a6",
   "metadata": {},
   "outputs": [
    {
     "name": "stdout",
     "output_type": "stream",
     "text": [
      "abcdefghijkl\n"
     ]
    }
   ],
   "source": [
    "print(myalpha[::]) # The :: denotes that ALL CHARACHTERS from start to the end should get printed"
   ]
  },
  {
   "cell_type": "markdown",
   "id": "47827702",
   "metadata": {
    "jp-MarkdownHeadingCollapsed": true
   },
   "source": [
    "### Explaining Step Size parameter"
   ]
  },
  {
   "cell_type": "code",
   "execution_count": 22,
   "id": "27cfd9ae",
   "metadata": {},
   "outputs": [
    {
     "data": {
      "text/plain": [
       "'abcdefghijkl'"
      ]
     },
     "execution_count": 22,
     "metadata": {},
     "output_type": "execute_result"
    }
   ],
   "source": [
    "myalpha"
   ]
  },
  {
   "cell_type": "code",
   "execution_count": 23,
   "id": "71e451e3",
   "metadata": {},
   "outputs": [
    {
     "data": {
      "text/plain": [
       "'dfh'"
      ]
     },
     "execution_count": 23,
     "metadata": {},
     "output_type": "execute_result"
    }
   ],
   "source": [
    "myalpha[3:8:2]  # Here the last 2 is the step size. According to the step size the letters are dropped in the string."
   ]
  },
  {
   "cell_type": "markdown",
   "id": "37e16e18",
   "metadata": {
    "jp-MarkdownHeadingCollapsed": true
   },
   "source": [
    "### Python trick to write all charachters in the string in the reverse order"
   ]
  },
  {
   "cell_type": "code",
   "execution_count": 25,
   "id": "d6907f46",
   "metadata": {},
   "outputs": [
    {
     "data": {
      "text/plain": [
       "'lkjihgfedcba'"
      ]
     },
     "execution_count": 25,
     "metadata": {},
     "output_type": "execute_result"
    }
   ],
   "source": [
    "myalpha[::-1]  # here as step size is -1, every charachter gets printed backward."
   ]
  },
  {
   "cell_type": "markdown",
   "id": "81e5dd4c",
   "metadata": {
    "jp-MarkdownHeadingCollapsed": true
   },
   "source": [
    "### Negative indexing can be used in this way for slicing"
   ]
  },
  {
   "cell_type": "code",
   "execution_count": 27,
   "id": "8a44e307",
   "metadata": {},
   "outputs": [
    {
     "data": {
      "text/plain": [
       "'hij'"
      ]
     },
     "execution_count": 27,
     "metadata": {},
     "output_type": "execute_result"
    }
   ],
   "source": [
    "myalpha[-5:-2] #In negative indexing, indexing starts from the first indicated number's next number and ends till the next number."
   ]
  },
  {
   "cell_type": "markdown",
   "id": "b878b04f",
   "metadata": {
    "jp-MarkdownHeadingCollapsed": true
   },
   "source": [
    "## Indexing Notes from Nptel Course Python for Data Science"
   ]
  },
  {
   "cell_type": "code",
   "execution_count": 29,
   "id": "682c39f8",
   "metadata": {},
   "outputs": [
    {
     "ename": "SyntaxError",
     "evalue": "invalid syntax (3697240854.py, line 58)",
     "output_type": "error",
     "traceback": [
      "\u001b[1;36m  Cell \u001b[1;32mIn[29], line 58\u001b[1;36m\u001b[0m\n\u001b[1;33m    INDEXING IS NOT POSSIBLE IN SETS. IT GIVES AN ERROR AS THE SETS ARE NOT THE ORDERED IN ANY MANNER.\u001b[0m\n\u001b[1;37m             ^\u001b[0m\n\u001b[1;31mSyntaxError\u001b[0m\u001b[1;31m:\u001b[0m invalid syntax\n"
     ]
    }
   ],
   "source": [
    "# String : Indexing\n",
    "\n",
    "str1 = \"learning python\"\n",
    "\n",
    "str1.index(\"l\")                #Finding Index of a specific letter\n",
    "\n",
    "str1.index(\"pyth\")             #Finding starting index of a particular substring from the given string\n",
    "\n",
    "str1[4]                        #Finding the letter at the given string with positive indexing\n",
    "\n",
    "str1[-3]                       #Finding the letter at the given string with negative indexing\n",
    "\n",
    "\n",
    "\n",
    "\n",
    "# List : Indexing\n",
    "\n",
    "lst1 = [1,2,'a',\"yash\",5]\n",
    "\n",
    "lst1.index(2)           #Getting index of a specific element in list\n",
    "\n",
    "lst1[2]                 #Getting the element situated at a specific location\n",
    "\n",
    "\n",
    "\n",
    "\n",
    "# Array : Indexing\n",
    "\n",
    "from array import *       #importing array module\n",
    "\n",
    "arr1 = array('i',[1,2,3,4])\n",
    "\n",
    "for x in arr1:\n",
    "\n",
    "    print(x)\n",
    "\n",
    "arr1.index(3)             #Getting index of a specific element in array\n",
    "\n",
    "arr1[2]                   #Getting the element situated at a specific location\n",
    "\n",
    "\n",
    "\n",
    "\n",
    "\n",
    "# Tuple : Indexing\n",
    "\n",
    "tup1 = (1,2,3,'yash','sam',6,9)\n",
    "\n",
    "tup1.index('yash')   #Getting index of a specific element in tuple\n",
    "\n",
    "tup1[5]              #Getting the element situated at a specific location\n",
    "\n",
    "\n",
    "\n",
    "\n",
    "\n",
    "# Set : Indexing\n",
    "INDEXING IS NOT POSSIBLE IN SETS. IT GIVES AN ERROR AS THE SETS ARE NOT THE ORDERED IN ANY MANNER.\n",
    "\n",
    "\n",
    "\n",
    "\n",
    "#Dictionary : Indexing\n",
    "\n",
    "dict1 = {1:\"Yash\", 2:\"Amar\", 3:\"Soham\", 4:\"Tanmay\", \"friends\":\"idiot\"}\n",
    "\n",
    "#Dictionaries are unordered too but their \n",
    "#elements can be indexed with the help of the key values as dictionaries are key value pairs\n",
    "\n",
    "dict1.index(1)      #.index() method does not work on the dictionaries\n",
    "\n",
    "dict1[3]           #Getting the element situated at a specific key value pair\n",
    "\n",
    "dict1[\"friends\"]   #Getting the element situated at a specific key value pair\n",
    "\n",
    "\n",
    "\n",
    "\n",
    "\n",
    "# Range : Indexing\n",
    "\n",
    "ran1 = range(1,14,4)\n",
    "\n",
    "for x in ran1:\n",
    "\n",
    "    print(x)\n",
    "\n",
    "ran1.index(1)     #Getting index of a specific element in range\n",
    "\n",
    "ran1[3]           #Getting the element situated at a specific location"
   ]
  }
 ],
 "metadata": {
  "kernelspec": {
   "display_name": "Python 3 (ipykernel)",
   "language": "python",
   "name": "python3"
  },
  "language_info": {
   "codemirror_mode": {
    "name": "ipython",
    "version": 3
   },
   "file_extension": ".py",
   "mimetype": "text/x-python",
   "name": "python",
   "nbconvert_exporter": "python",
   "pygments_lexer": "ipython3",
   "version": "3.12.4"
  }
 },
 "nbformat": 4,
 "nbformat_minor": 5
}
