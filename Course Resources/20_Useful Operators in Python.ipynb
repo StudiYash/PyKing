{
 "cells": [
  {
   "cell_type": "markdown",
   "id": "40c55bc2",
   "metadata": {},
   "source": [
    "# **Useful Operators in Python**"
   ]
  },
  {
   "cell_type": "markdown",
   "id": "97796268-f319-490e-b579-14f9f3cbc106",
   "metadata": {
    "jp-MarkdownHeadingCollapsed": true
   },
   "source": [
    "## **The range Function**"
   ]
  },
  {
   "cell_type": "markdown",
   "id": "7075488b-9832-488d-ada9-5e97c25d240d",
   "metadata": {
    "jp-MarkdownHeadingCollapsed": true
   },
   "source": [
    "### **The range Function all 3 parameters**"
   ]
  },
  {
   "cell_type": "code",
   "execution_count": 4,
   "id": "d94692ab",
   "metadata": {},
   "outputs": [
    {
     "name": "stdout",
     "output_type": "stream",
     "text": [
      "0\n",
      "2\n",
      "4\n",
      "6\n",
      "8\n",
      "10\n"
     ]
    }
   ],
   "source": [
    "for num in range(0,11,2):\n",
    "    print(num)"
   ]
  },
  {
   "cell_type": "markdown",
   "id": "72ede11e-4c3d-4d40-89a2-4a1c7f4387ff",
   "metadata": {
    "jp-MarkdownHeadingCollapsed": true
   },
   "source": [
    "### **The range Function with a single parameter**"
   ]
  },
  {
   "cell_type": "code",
   "execution_count": 6,
   "id": "4b03de4c",
   "metadata": {},
   "outputs": [
    {
     "name": "stdout",
     "output_type": "stream",
     "text": [
      "0\n",
      "1\n",
      "2\n",
      "3\n",
      "4\n"
     ]
    }
   ],
   "source": [
    "for num in range(5):\n",
    "    print(num)"
   ]
  },
  {
   "cell_type": "markdown",
   "id": "7afc63e0",
   "metadata": {
    "jp-MarkdownHeadingCollapsed": true
   },
   "source": [
    "### **The range keyword as a Constructor**"
   ]
  },
  {
   "cell_type": "code",
   "execution_count": 8,
   "id": "8321c672",
   "metadata": {},
   "outputs": [
    {
     "data": {
      "text/plain": [
       "range(0, 11, 2)"
      ]
     },
     "execution_count": 8,
     "metadata": {},
     "output_type": "execute_result"
    }
   ],
   "source": [
    "range(0,11,2)"
   ]
  },
  {
   "cell_type": "markdown",
   "id": "c6f66560",
   "metadata": {
    "jp-MarkdownHeadingCollapsed": true
   },
   "source": [
    "### **The range Constructor inside a List Constructor**"
   ]
  },
  {
   "cell_type": "code",
   "execution_count": 10,
   "id": "391d8e47",
   "metadata": {},
   "outputs": [
    {
     "data": {
      "text/plain": [
       "[0, 2, 4, 6, 8, 10]"
      ]
     },
     "execution_count": 10,
     "metadata": {},
     "output_type": "execute_result"
    }
   ],
   "source": [
    "list(range(0,11,2))"
   ]
  },
  {
   "cell_type": "markdown",
   "id": "06992f9e-f730-4c43-ad31-dd324e845895",
   "metadata": {
    "jp-MarkdownHeadingCollapsed": true
   },
   "source": [
    "## **The enumerate Function**"
   ]
  },
  {
   "cell_type": "markdown",
   "id": "276f76d7-7d84-4c07-ba29-42450ad7ee88",
   "metadata": {
    "jp-MarkdownHeadingCollapsed": true
   },
   "source": [
    "### **The enumerate Function with 1 parameter**"
   ]
  },
  {
   "cell_type": "code",
   "execution_count": 13,
   "id": "87aa155c-c4a2-42bb-a392-7a8f6f73151b",
   "metadata": {},
   "outputs": [
    {
     "name": "stdout",
     "output_type": "stream",
     "text": [
      "(0, 'H')\n",
      "(1, 'e')\n",
      "(2, 'l')\n",
      "(3, 'l')\n",
      "(4, 'o')\n"
     ]
    }
   ],
   "source": [
    "string = \"Hello\"\n",
    "for item in enumerate(string):\n",
    "    print(item)"
   ]
  },
  {
   "cell_type": "markdown",
   "id": "9517771c-5f11-477b-add6-b97827d23816",
   "metadata": {
    "jp-MarkdownHeadingCollapsed": true
   },
   "source": [
    "### **The enumerate Function with 2 parameters**"
   ]
  },
  {
   "cell_type": "code",
   "execution_count": 15,
   "id": "0e6f0606-8322-4112-baab-c2c7382822a7",
   "metadata": {},
   "outputs": [
    {
     "name": "stdout",
     "output_type": "stream",
     "text": [
      "2 a\n",
      "3 b\n",
      "4 c\n",
      "5 d\n",
      "6 e\n"
     ]
    }
   ],
   "source": [
    "listy1 = ['a','b','c','d','e']\n",
    "for value, item in enumerate(listy1,start=2):\n",
    "    print(value,item)"
   ]
  },
  {
   "cell_type": "markdown",
   "id": "181b9592-6954-47d9-a0a4-257dc9040bd2",
   "metadata": {
    "jp-MarkdownHeadingCollapsed": true
   },
   "source": [
    "## **The zip Function**"
   ]
  },
  {
   "cell_type": "markdown",
   "id": "f5584b73-91c6-426b-a8db-04b1b1234f05",
   "metadata": {
    "jp-MarkdownHeadingCollapsed": true
   },
   "source": [
    "### **The zip Function on even length datatypes**"
   ]
  },
  {
   "cell_type": "code",
   "execution_count": 18,
   "id": "6a3c8ebd-a9ab-479f-b3c1-139b8d5809e7",
   "metadata": {},
   "outputs": [
    {
     "name": "stdout",
     "output_type": "stream",
     "text": [
      "(1, 'd', (0, 'apple'))\n",
      "(2, 'b', (1, 'banana'))\n",
      "(3, 'a', (2, 'guava'))\n",
      "(4, 'c', (3, 'pear'))\n"
     ]
    }
   ],
   "source": [
    "list1 = [1,2,3,4]\n",
    "set1 = {'a','b','c','d'}\n",
    "dict1 = {0 : 'apple', 1 : 'banana', 2 : 'guava', 3 : 'pear'}\n",
    "\n",
    "for item in zip(list1, set1, dict1.items()):\n",
    "    print(item)"
   ]
  },
  {
   "cell_type": "markdown",
   "id": "f167f4d2-7ca7-43de-8fb6-5b802a862be0",
   "metadata": {
    "jp-MarkdownHeadingCollapsed": true
   },
   "source": [
    "### **The zip Function on un-even length datatypes**"
   ]
  },
  {
   "cell_type": "code",
   "execution_count": 20,
   "id": "25e0b2c1-4f5e-4822-adb4-0f0a35ee84f4",
   "metadata": {},
   "outputs": [
    {
     "name": "stdout",
     "output_type": "stream",
     "text": [
      "(1, 'e', (0, 'apple'))\n",
      "(2, 'b', (1, 'banana'))\n",
      "(3, 'a', (2, 'guava'))\n"
     ]
    }
   ],
   "source": [
    "list1 = [1,2,3,4]\n",
    "set1 = {'a','b','c','d','e'}\n",
    "dict1 = {0 : 'apple', 1 : 'banana', 2 : 'guava'}\n",
    "\n",
    "for item in zip(list1, set1, dict1.items()):\n",
    "    print(item)"
   ]
  },
  {
   "cell_type": "markdown",
   "id": "b5b23603-1685-4dab-975c-07274fdaad0f",
   "metadata": {
    "jp-MarkdownHeadingCollapsed": true
   },
   "source": [
    "## **The in Keyword**"
   ]
  },
  {
   "cell_type": "code",
   "execution_count": 22,
   "id": "b4f992bf-ef11-4f9f-a580-ad952cde21fc",
   "metadata": {},
   "outputs": [
    {
     "data": {
      "text/plain": [
       "True"
      ]
     },
     "execution_count": 22,
     "metadata": {},
     "output_type": "execute_result"
    }
   ],
   "source": [
    "list1 = [1,2,3,4,5,6,7,8,9]\n",
    "4 in list1"
   ]
  },
  {
   "cell_type": "code",
   "execution_count": 23,
   "id": "d5e83024-a4aa-4878-b7a0-0afb880082c3",
   "metadata": {},
   "outputs": [
    {
     "data": {
      "text/plain": [
       "False"
      ]
     },
     "execution_count": 23,
     "metadata": {},
     "output_type": "execute_result"
    }
   ],
   "source": [
    "'z' in 'amba'"
   ]
  },
  {
   "cell_type": "code",
   "execution_count": 24,
   "id": "7dd6636b-6215-4c2d-ad5b-fba90ab0aeb3",
   "metadata": {},
   "outputs": [
    {
     "data": {
      "text/plain": [
       "True"
      ]
     },
     "execution_count": 24,
     "metadata": {},
     "output_type": "execute_result"
    }
   ],
   "source": [
    "list2 = ['a','b','c','d',[2,3,4,5]]\n",
    "list3 = [2,3,4,5]\n",
    "\n",
    "list3 in list2"
   ]
  },
  {
   "cell_type": "markdown",
   "id": "e7e25c5d-f97e-4b04-b797-b44ad18da9c6",
   "metadata": {
    "jp-MarkdownHeadingCollapsed": true
   },
   "source": [
    "## **The not in Keyword**"
   ]
  },
  {
   "cell_type": "code",
   "execution_count": 26,
   "id": "43c7e7bb-951f-494f-999e-842ddf3c5c88",
   "metadata": {},
   "outputs": [
    {
     "data": {
      "text/plain": [
       "False"
      ]
     },
     "execution_count": 26,
     "metadata": {},
     "output_type": "execute_result"
    }
   ],
   "source": [
    "list1 = [1,2,3,4,5,6,7,8,9]\n",
    "4 not in list1"
   ]
  },
  {
   "cell_type": "code",
   "execution_count": 27,
   "id": "b769d395-c547-4a47-9e44-853fa18bdaca",
   "metadata": {},
   "outputs": [
    {
     "data": {
      "text/plain": [
       "True"
      ]
     },
     "execution_count": 27,
     "metadata": {},
     "output_type": "execute_result"
    }
   ],
   "source": [
    "'z' not in 'amba'"
   ]
  },
  {
   "cell_type": "code",
   "execution_count": 28,
   "id": "b5e3d778-ad81-4383-a01d-0e82c00b6e76",
   "metadata": {},
   "outputs": [
    {
     "data": {
      "text/plain": [
       "False"
      ]
     },
     "execution_count": 28,
     "metadata": {},
     "output_type": "execute_result"
    }
   ],
   "source": [
    "list2 = ['a','b','c','d',[2,3,4,5]]\n",
    "list3 = [2,3,4,5]\n",
    "\n",
    "list3 not in list2"
   ]
  },
  {
   "cell_type": "markdown",
   "id": "44db1c44-6ca4-4ee7-9be8-53aaf512bc96",
   "metadata": {
    "jp-MarkdownHeadingCollapsed": true
   },
   "source": [
    "## **The min Function and The max Function**"
   ]
  },
  {
   "cell_type": "markdown",
   "id": "65f90972-dd53-4df3-b2c9-2656861424af",
   "metadata": {
    "jp-MarkdownHeadingCollapsed": true
   },
   "source": [
    "### **The min Function**"
   ]
  },
  {
   "cell_type": "code",
   "execution_count": 31,
   "id": "929ce0da-418e-40f1-8bca-cc67839791a4",
   "metadata": {},
   "outputs": [
    {
     "data": {
      "text/plain": [
       "1"
      ]
     },
     "execution_count": 31,
     "metadata": {},
     "output_type": "execute_result"
    }
   ],
   "source": [
    "list4 = [1,2,3,4,5,6,7,8,9]\n",
    "min(list4)"
   ]
  },
  {
   "cell_type": "markdown",
   "id": "37f621b5-a490-420f-8ff3-6c6758d17f98",
   "metadata": {
    "jp-MarkdownHeadingCollapsed": true
   },
   "source": [
    "### **The max Function**"
   ]
  },
  {
   "cell_type": "code",
   "execution_count": 33,
   "id": "afbe155d-a5e1-42ff-9a75-c73b0672dd96",
   "metadata": {},
   "outputs": [
    {
     "data": {
      "text/plain": [
       "9"
      ]
     },
     "execution_count": 33,
     "metadata": {},
     "output_type": "execute_result"
    }
   ],
   "source": [
    "list4 = [1,2,3,4,5,6,7,8,9]\n",
    "max(list4)"
   ]
  },
  {
   "cell_type": "markdown",
   "id": "171917e9-5831-49d6-baa8-075d2cd98879",
   "metadata": {
    "jp-MarkdownHeadingCollapsed": true
   },
   "source": [
    "## **The random Library**"
   ]
  },
  {
   "cell_type": "markdown",
   "id": "55af4316-f1c4-419f-85ec-c6f1413c128e",
   "metadata": {
    "jp-MarkdownHeadingCollapsed": true
   },
   "source": [
    "### **The shuffle Function inside random Library**"
   ]
  },
  {
   "cell_type": "code",
   "execution_count": 36,
   "id": "44acceba-5094-4f62-9380-79514b0b8a09",
   "metadata": {},
   "outputs": [
    {
     "name": "stdout",
     "output_type": "stream",
     "text": [
      "[5, 2, 4, 3, 8, 7, 6, 9, 1]\n"
     ]
    }
   ],
   "source": [
    "from random import shuffle\n",
    "list5 = [1,2,3,4,5,6,7,8,9]\n",
    "shuffle(list5)\n",
    "\n",
    "print(list5)"
   ]
  },
  {
   "cell_type": "markdown",
   "id": "d050437e-2d70-4563-a254-1e381e6a9299",
   "metadata": {},
   "source": [
    "### **The randint Function inside random Library**"
   ]
  },
  {
   "cell_type": "code",
   "execution_count": 38,
   "id": "705d0ea4-34e5-4c2f-b4a9-58f04d34353c",
   "metadata": {},
   "outputs": [
    {
     "data": {
      "text/plain": [
       "87"
      ]
     },
     "execution_count": 38,
     "metadata": {},
     "output_type": "execute_result"
    }
   ],
   "source": [
    "from random import randint\n",
    "randint(0,100)"
   ]
  },
  {
   "cell_type": "markdown",
   "id": "47e9e2e1-5d6c-41de-af21-70da0afdf277",
   "metadata": {
    "jp-MarkdownHeadingCollapsed": true
   },
   "source": [
    "## **The input Function**"
   ]
  },
  {
   "cell_type": "code",
   "execution_count": 40,
   "id": "dfb68cbb-f879-4816-a211-bacc256af079",
   "metadata": {},
   "outputs": [
    {
     "name": "stdin",
     "output_type": "stream",
     "text": [
      "Enter your name :  Mango\n"
     ]
    },
    {
     "name": "stdout",
     "output_type": "stream",
     "text": [
      "Mango\n"
     ]
    },
    {
     "data": {
      "text/plain": [
       "str"
      ]
     },
     "execution_count": 40,
     "metadata": {},
     "output_type": "execute_result"
    }
   ],
   "source": [
    "name = input(\"Enter your name : \")\n",
    "print(name)\n",
    "type(name)"
   ]
  },
  {
   "cell_type": "code",
   "execution_count": 41,
   "id": "d173c69a-3f1b-4080-aa57-b4c3445bb9d6",
   "metadata": {},
   "outputs": [
    {
     "name": "stdin",
     "output_type": "stream",
     "text": [
      "Enter your ID :  2000\n"
     ]
    },
    {
     "name": "stdout",
     "output_type": "stream",
     "text": [
      "2000\n"
     ]
    },
    {
     "data": {
      "text/plain": [
       "int"
      ]
     },
     "execution_count": 41,
     "metadata": {},
     "output_type": "execute_result"
    }
   ],
   "source": [
    "ID = int(input(\"Enter your ID : \"))\n",
    "print(ID)\n",
    "type(ID)"
   ]
  }
 ],
 "metadata": {
  "kernelspec": {
   "display_name": "Python 3 (ipykernel)",
   "language": "python",
   "name": "python3"
  },
  "language_info": {
   "codemirror_mode": {
    "name": "ipython",
    "version": 3
   },
   "file_extension": ".py",
   "mimetype": "text/x-python",
   "name": "python",
   "nbconvert_exporter": "python",
   "pygments_lexer": "ipython3",
   "version": "3.12.4"
  }
 },
 "nbformat": 4,
 "nbformat_minor": 5
}
