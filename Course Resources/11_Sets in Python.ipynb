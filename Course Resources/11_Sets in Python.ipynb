{
 "cells": [
  {
   "cell_type": "markdown",
   "id": "a69050fa",
   "metadata": {},
   "source": [
    "# Sets in Python"
   ]
  },
  {
   "cell_type": "markdown",
   "id": "e7beedd1-313f-47ac-9ff8-c810138e28e3",
   "metadata": {
    "jp-MarkdownHeadingCollapsed": true
   },
   "source": [
    "## Creating a Set"
   ]
  },
  {
   "cell_type": "code",
   "execution_count": 3,
   "id": "62734647",
   "metadata": {},
   "outputs": [
    {
     "name": "stdout",
     "output_type": "stream",
     "text": [
      "set()\n"
     ]
    }
   ],
   "source": [
    "my_set1 = set()\n",
    "print(my_set1)        #This is a null set."
   ]
  },
  {
   "cell_type": "code",
   "execution_count": 4,
   "id": "3a3d4345",
   "metadata": {},
   "outputs": [
    {
     "name": "stdout",
     "output_type": "stream",
     "text": [
      "{'a'}\n"
     ]
    }
   ],
   "source": [
    "my_set2 = set('a')\n",
    "print(my_set2)"
   ]
  },
  {
   "cell_type": "markdown",
   "id": "26f0f5c4",
   "metadata": {
    "jp-MarkdownHeadingCollapsed": true
   },
   "source": [
    "## The .add() Method on Set"
   ]
  },
  {
   "cell_type": "code",
   "execution_count": 6,
   "id": "9ce14d92",
   "metadata": {},
   "outputs": [
    {
     "name": "stdout",
     "output_type": "stream",
     "text": [
      "{1, 'a'}\n"
     ]
    }
   ],
   "source": [
    "my_set2.add(1)\n",
    "print(my_set2)"
   ]
  },
  {
   "cell_type": "markdown",
   "id": "a3f0f416",
   "metadata": {
    "jp-MarkdownHeadingCollapsed": true
   },
   "source": [
    "## The .remove() Method on Set"
   ]
  },
  {
   "cell_type": "code",
   "execution_count": 8,
   "id": "31bdf80f",
   "metadata": {},
   "outputs": [
    {
     "name": "stdout",
     "output_type": "stream",
     "text": [
      "{'a'}\n"
     ]
    }
   ],
   "source": [
    "my_set2.remove(1)\n",
    "print(my_set2)"
   ]
  },
  {
   "cell_type": "markdown",
   "id": "d3a5c6d7",
   "metadata": {},
   "source": [
    "## The set() Constructor"
   ]
  },
  {
   "cell_type": "markdown",
   "id": "04cb2e68-90b4-4abc-8a76-9c0a704af237",
   "metadata": {
    "jp-MarkdownHeadingCollapsed": true
   },
   "source": [
    "### The set() Constructor on a List"
   ]
  },
  {
   "cell_type": "code",
   "execution_count": 11,
   "id": "a77f3059",
   "metadata": {},
   "outputs": [
    {
     "name": "stdout",
     "output_type": "stream",
     "text": [
      "{1, 2, 3, 4, 'a'}\n"
     ]
    }
   ],
   "source": [
    "my_list = ['a','a','a',1,1,2,3,4,3,2,3,2]\n",
    "my_list = set(my_list)\n",
    "print(my_list)"
   ]
  },
  {
   "cell_type": "markdown",
   "id": "a1dc02db-06a7-4d31-af41-df75599d1cc6",
   "metadata": {
    "jp-MarkdownHeadingCollapsed": true
   },
   "source": [
    "### The set() Constructor on a Tuple"
   ]
  },
  {
   "cell_type": "code",
   "execution_count": 13,
   "id": "98499c98",
   "metadata": {},
   "outputs": [
    {
     "name": "stdout",
     "output_type": "stream",
     "text": [
      "{1, 2, 3, 8, 'a'}\n"
     ]
    }
   ],
   "source": [
    "my_tuple = (1,2,3,1,8,2,'a',8,3)\n",
    "my_tuple = set(my_tuple)\n",
    "print(my_tuple)"
   ]
  },
  {
   "cell_type": "markdown",
   "id": "050ad116-5af8-4380-a009-f3f9bb33701b",
   "metadata": {
    "jp-MarkdownHeadingCollapsed": true
   },
   "source": [
    "### The set() Constructor on a Dictionary"
   ]
  },
  {
   "cell_type": "code",
   "execution_count": 15,
   "id": "5f459dc3-8e68-4739-8659-f5ea5654a71f",
   "metadata": {},
   "outputs": [
    {
     "name": "stdout",
     "output_type": "stream",
     "text": [
      "{'c', 'a', 'b'}\n",
      "{1, 2, 3}\n",
      "{('c', 3), ('a', 1), ('b', 2)}\n"
     ]
    }
   ],
   "source": [
    "my_dict = {'a':1, 'b':2, 'c':3}\n",
    "\n",
    "# By Default set() Operator will act in this way over a dictionary.\n",
    "my_set = set(my_dict)\n",
    "print(my_set)\n",
    "\n",
    "# To print only the Values of the dictionary.\n",
    "my_set = set(my_dict.values())\n",
    "print(my_set)\n",
    "\n",
    "# To print the items of the dictionary into a set.\n",
    "my_set = set(my_dict.items())\n",
    "print(my_set)"
   ]
  },
  {
   "cell_type": "markdown",
   "id": "712e626f-99c5-4126-8417-a912e58a1dde",
   "metadata": {
    "jp-MarkdownHeadingCollapsed": true
   },
   "source": [
    "## The Set cannot be the part of the Set"
   ]
  },
  {
   "cell_type": "code",
   "execution_count": 17,
   "id": "86c74771-1c1b-4930-907c-005c461bc275",
   "metadata": {},
   "outputs": [
    {
     "ename": "TypeError",
     "evalue": "unhashable type: 'set'",
     "output_type": "error",
     "traceback": [
      "\u001b[1;31m---------------------------------------------------------------------------\u001b[0m",
      "\u001b[1;31mTypeError\u001b[0m                                 Traceback (most recent call last)",
      "Cell \u001b[1;32mIn[17], line 1\u001b[0m\n\u001b[1;32m----> 1\u001b[0m set2 \u001b[38;5;241m=\u001b[39m {\u001b[38;5;124m\"\u001b[39m\u001b[38;5;124mHello\u001b[39m\u001b[38;5;124m\"\u001b[39m, {\u001b[38;5;124m\"\u001b[39m\u001b[38;5;124mWorld\u001b[39m\u001b[38;5;124m\"\u001b[39m}}\n",
      "\u001b[1;31mTypeError\u001b[0m: unhashable type: 'set'"
     ]
    }
   ],
   "source": [
    "set2 = {\"Hello\", {\"World\"}}"
   ]
  },
  {
   "cell_type": "markdown",
   "id": "1f7381f6-991b-4d57-a116-ce6dc161a927",
   "metadata": {
    "jp-MarkdownHeadingCollapsed": true
   },
   "source": [
    "## We cannot start a Set by just Adding an Integer"
   ]
  },
  {
   "cell_type": "code",
   "execution_count": 20,
   "id": "1ead33a9-b711-4f97-9393-5bb8f686e4b6",
   "metadata": {},
   "outputs": [
    {
     "ename": "TypeError",
     "evalue": "'int' object is not iterable",
     "output_type": "error",
     "traceback": [
      "\u001b[1;31m---------------------------------------------------------------------------\u001b[0m",
      "\u001b[1;31mTypeError\u001b[0m                                 Traceback (most recent call last)",
      "Cell \u001b[1;32mIn[20], line 1\u001b[0m\n\u001b[1;32m----> 1\u001b[0m my_set4 \u001b[38;5;241m=\u001b[39m \u001b[38;5;28mset\u001b[39m(\u001b[38;5;241m2\u001b[39m)\n",
      "\u001b[1;31mTypeError\u001b[0m: 'int' object is not iterable"
     ]
    }
   ],
   "source": [
    "my_set4 = set(2)      #This is the error caused as I am starting to add an integer at start in the set."
   ]
  },
  {
   "cell_type": "markdown",
   "id": "0f4b5aee",
   "metadata": {
    "jp-MarkdownHeadingCollapsed": true
   },
   "source": [
    "## Lists can not be a part of the Set"
   ]
  },
  {
   "cell_type": "code",
   "execution_count": 23,
   "id": "44e4fbb7",
   "metadata": {},
   "outputs": [
    {
     "ename": "TypeError",
     "evalue": "unhashable type: 'list'",
     "output_type": "error",
     "traceback": [
      "\u001b[1;31m---------------------------------------------------------------------------\u001b[0m",
      "\u001b[1;31mTypeError\u001b[0m                                 Traceback (most recent call last)",
      "Cell \u001b[1;32mIn[23], line 1\u001b[0m\n\u001b[1;32m----> 1\u001b[0m my_set_2 \u001b[38;5;241m=\u001b[39m {\u001b[38;5;124m\"\u001b[39m\u001b[38;5;124mHello\u001b[39m\u001b[38;5;124m\"\u001b[39m, [\u001b[38;5;241m1\u001b[39m,\u001b[38;5;241m2\u001b[39m,\u001b[38;5;241m3\u001b[39m,\u001b[38;5;241m4\u001b[39m]}\n\u001b[0;32m      2\u001b[0m \u001b[38;5;28mprint\u001b[39m(my_set_2)\n",
      "\u001b[1;31mTypeError\u001b[0m: unhashable type: 'list'"
     ]
    }
   ],
   "source": [
    "my_set_2 = {\"Hello\", [1,2,3,4]}\n",
    "print(my_set_2)"
   ]
  }
 ],
 "metadata": {
  "kernelspec": {
   "display_name": "Python 3 (ipykernel)",
   "language": "python",
   "name": "python3"
  },
  "language_info": {
   "codemirror_mode": {
    "name": "ipython",
    "version": 3
   },
   "file_extension": ".py",
   "mimetype": "text/x-python",
   "name": "python",
   "nbconvert_exporter": "python",
   "pygments_lexer": "ipython3",
   "version": "3.12.4"
  }
 },
 "nbformat": 4,
 "nbformat_minor": 5
}
