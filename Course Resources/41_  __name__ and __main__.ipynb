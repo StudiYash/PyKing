{
 "cells": [
  {
   "cell_type": "markdown",
   "id": "7c5ad346-fd5d-4005-91de-b486c5eeb6de",
   "metadata": {},
   "source": [
    "# **Name and Main**"
   ]
  },
  {
   "cell_type": "markdown",
   "id": "7306241b-0679-4fe9-a270-b99751f78fcc",
   "metadata": {},
   "source": [
    "**If that code is being imported into another module, the various function and class definitions will be imported, but the main() code won't get run. As a basic example, consider the following two scripts:**"
   ]
  },
  {
   "cell_type": "markdown",
   "id": "7e097879-4a59-416f-9f87-ce9602651808",
   "metadata": {},
   "source": [
    "```python\n",
    "    # file one.py\n",
    "    def func():\n",
    "        print(\"func() in one.py\")\n",
    "\n",
    "    print(\"top-level in one.py\")\n",
    "\n",
    "    if __name__ == \"__main__\":\n",
    "        print(\"one.py is being run directly\")\n",
    "    else:\n",
    "        print(\"one.py is being imported into another module\")\n",
    "    </code>\n",
    "```"
   ]
  },
  {
   "cell_type": "markdown",
   "id": "4da60f6d-7f33-4f4e-a4c0-46ece4b1b3f0",
   "metadata": {},
   "source": [
    "**and then:**"
   ]
  },
  {
   "cell_type": "markdown",
   "id": "7a1ca12b-f5d6-4b1d-a8a5-56563a36fc3b",
   "metadata": {},
   "source": [
    "```python\n",
    "    # file two.py\n",
    "    import one\n",
    "\n",
    "    print(\"top-level in two.py\")\n",
    "    one.func()\n",
    "\n",
    "    if __name__ == \"__main__\":\n",
    "        print(\"two.py is being run directly\")\n",
    "    else:\n",
    "        print(\"two.py is being imported into another module\")\n",
    "```"
   ]
  },
  {
   "cell_type": "markdown",
   "id": "196c60a0-5977-4494-aa62-014420a07bb2",
   "metadata": {},
   "source": [
    "**Now, if you invoke the interpreter as**\n",
    "\n",
    "<code> python one.py </code>\n",
    "    \n",
    "**The output will be**\n",
    "\n",
    "\n",
    "    *top-level in one.py*\n",
    "    *one.py is being run directly*\n",
    "\n",
    "**If you run two.py instead:**\n",
    "\n",
    "<code> python two.py </code>\n",
    "    \n",
    "**You get**\n",
    "    \n",
    "    *top-level in one.py*\n",
    "    *one.py is being imported into another module*\n",
    "    *top-level in two.py*\n",
    "    *func() in one.py*\n",
    "    *two.py is being run directly*\n",
    "  \n",
    "**Thus, when module one gets loaded, its __name__ equals \"one\" instead of __main__.**"
   ]
  }
 ],
 "metadata": {
  "kernelspec": {
   "display_name": "Python 3 (ipykernel)",
   "language": "python",
   "name": "python3"
  },
  "language_info": {
   "codemirror_mode": {
    "name": "ipython",
    "version": 3
   },
   "file_extension": ".py",
   "mimetype": "text/x-python",
   "name": "python",
   "nbconvert_exporter": "python",
   "pygments_lexer": "ipython3",
   "version": "3.12.4"
  }
 },
 "nbformat": 4,
 "nbformat_minor": 5
}
