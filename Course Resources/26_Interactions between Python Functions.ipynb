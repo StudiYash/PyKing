{
 "cells": [
  {
   "cell_type": "markdown",
   "id": "23b2ec4e-210f-4477-a788-481e174d01c8",
   "metadata": {},
   "source": [
    "# **Interactions between Python Functions**"
   ]
  },
  {
   "cell_type": "markdown",
   "id": "8434f1b2-b30f-434a-9ac1-3709094198f0",
   "metadata": {},
   "source": [
    "## **Creating Three Cup Monte Game**"
   ]
  },
  {
   "cell_type": "markdown",
   "id": "c935d21b-eec6-4314-bda0-5b18074f151e",
   "metadata": {},
   "source": [
    "### **Creating Shuffle Function**"
   ]
  },
  {
   "cell_type": "code",
   "execution_count": 4,
   "id": "5cdfe380-bc11-41a3-b864-66bb0fc8b476",
   "metadata": {},
   "outputs": [],
   "source": [
    "from random import shuffle\n",
    "def shuffle_list(mylist):\n",
    "    shuffle(mylist)\n",
    "    return mylist"
   ]
  },
  {
   "cell_type": "markdown",
   "id": "0bc83e68-765d-4049-b753-dd2a9beef70a",
   "metadata": {},
   "source": [
    "### **Creating Player Guess Function**"
   ]
  },
  {
   "cell_type": "code",
   "execution_count": 6,
   "id": "325796e4-d76a-423e-ae7c-4a29d7bb5d95",
   "metadata": {},
   "outputs": [],
   "source": [
    "def player_guess():\n",
    "    guess = ''\n",
    "    while guess not in ['0','1','2']:\n",
    "        guess = input(\"Pick a number from 0,1,2. Your Guess :- \")\n",
    "    return int(guess)"
   ]
  },
  {
   "cell_type": "markdown",
   "id": "69e609db-b1b4-42ce-b03f-fa5b12e1e392",
   "metadata": {},
   "source": [
    "### **Creating Check Guess Function**"
   ]
  },
  {
   "cell_type": "code",
   "execution_count": 8,
   "id": "04fab42f-cb17-4d3a-b7ad-df25fd6c369b",
   "metadata": {},
   "outputs": [],
   "source": [
    "def check_guess(my_list, guess):\n",
    "    if my_list[guess] == 'O':\n",
    "        print(\"Correct!\")\n",
    "    else:\n",
    "        print(\"Wrong Guess\")\n",
    "        print(my_list)"
   ]
  },
  {
   "cell_type": "markdown",
   "id": "cc423553-762f-4918-9434-b418506271da",
   "metadata": {},
   "source": [
    "### **All 3 Functions Interacting with each other**"
   ]
  },
  {
   "cell_type": "code",
   "execution_count": 10,
   "id": "c781eb81-621c-42d2-b530-b469a61ec3b1",
   "metadata": {},
   "outputs": [
    {
     "name": "stdin",
     "output_type": "stream",
     "text": [
      "Pick a number from 0,1,2. Your Guess :-  1\n"
     ]
    },
    {
     "name": "stdout",
     "output_type": "stream",
     "text": [
      "Correct!\n"
     ]
    }
   ],
   "source": [
    "#INITIAL LIST\n",
    "my_list = [' ','O',' ']\n",
    "\n",
    "#SHUFFLE LIST\n",
    "mixedup_list = shuffle_list(my_list)\n",
    "\n",
    "# USER GUESS\n",
    "guess = player_guess()\n",
    "\n",
    "# CHECK GUESS\n",
    "check_guess(mixedup_list, guess)"
   ]
  }
 ],
 "metadata": {
  "kernelspec": {
   "display_name": "Python 3 (ipykernel)",
   "language": "python",
   "name": "python3"
  },
  "language_info": {
   "codemirror_mode": {
    "name": "ipython",
    "version": 3
   },
   "file_extension": ".py",
   "mimetype": "text/x-python",
   "name": "python",
   "nbconvert_exporter": "python",
   "pygments_lexer": "ipython3",
   "version": "3.12.4"
  }
 },
 "nbformat": 4,
 "nbformat_minor": 5
}
