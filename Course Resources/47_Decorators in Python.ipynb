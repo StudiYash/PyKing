{
 "cells": [
  {
   "cell_type": "markdown",
   "id": "ac932875-4c76-4c68-a24f-53c1c4a449b3",
   "metadata": {},
   "source": [
    "# **Decorators in Python**"
   ]
  },
  {
   "cell_type": "markdown",
   "id": "d550aa06-3b53-4f5c-9d64-9a73fdcc2e5d",
   "metadata": {},
   "source": [
    "## **Functions within Functions**"
   ]
  },
  {
   "cell_type": "code",
   "execution_count": 3,
   "id": "c1dd673f-ed9f-473d-a519-345530f5bab4",
   "metadata": {},
   "outputs": [
    {
     "name": "stdout",
     "output_type": "stream",
     "text": [
      "The hello() function can be executed.\n",
      "\t This is inside the greet() function.\n",
      "\t This is inside the welcome() function.\n",
      "Now we are back inside the hello() function\n"
     ]
    }
   ],
   "source": [
    "def hello(name = 'Panda'):\n",
    "    print('The hello() function can be executed.')\n",
    "\n",
    "    def greet():\n",
    "        return '\\t This is inside the greet() function.'\n",
    "\n",
    "    def welcome():\n",
    "        return '\\t This is inside the welcome() function.'\n",
    "\n",
    "    print(greet())\n",
    "    print(welcome())\n",
    "    print(\"Now we are back inside the hello() function\")\n",
    "\n",
    "\n",
    "hello('StudiYash')"
   ]
  },
  {
   "cell_type": "markdown",
   "id": "3703b051-61ba-4386-9d78-a1346e2df657",
   "metadata": {},
   "source": [
    "## **Functions Returning a Function**"
   ]
  },
  {
   "cell_type": "code",
   "execution_count": 5,
   "id": "4e95d72c-a5c3-436f-9a27-19dd198ec8b3",
   "metadata": {},
   "outputs": [],
   "source": [
    "def hello(name = 'Panda'):\n",
    "    def greet():\n",
    "        return \"\\t This is inside the greet() function.\"\n",
    "\n",
    "    def welcome():\n",
    "        return \"\\t This is inside the welcome() function.\"\n",
    "\n",
    "    if name == 'StudiYash':\n",
    "        return greet()\n",
    "    else:\n",
    "        return welcome()"
   ]
  },
  {
   "cell_type": "code",
   "execution_count": 6,
   "id": "8ae3ddfe-cfa7-489a-95fd-0fef1f8068d7",
   "metadata": {},
   "outputs": [
    {
     "name": "stdout",
     "output_type": "stream",
     "text": [
      "\t This is inside the welcome() function.\n"
     ]
    }
   ],
   "source": [
    "x = hello\n",
    "print(x())"
   ]
  },
  {
   "cell_type": "code",
   "execution_count": 7,
   "id": "99828628-6f10-4771-89b8-fd8cdcc91f63",
   "metadata": {},
   "outputs": [
    {
     "data": {
      "text/plain": [
       "'\\t This is inside the greet() function.'"
      ]
     },
     "execution_count": 7,
     "metadata": {},
     "output_type": "execute_result"
    }
   ],
   "source": [
    "x(\"StudiYash\")"
   ]
  },
  {
   "cell_type": "markdown",
   "id": "6be9f98b-963c-41e0-abec-185522f15aaf",
   "metadata": {},
   "source": [
    "## **Functions passed as Arguments to Functions**"
   ]
  },
  {
   "cell_type": "code",
   "execution_count": 9,
   "id": "0d17a0fc-1fe7-467c-9f13-0215167d6628",
   "metadata": {},
   "outputs": [],
   "source": [
    "def hello():\n",
    "    return 'Hello StudiYash !'\n",
    "\n",
    "def other(func):\n",
    "    print('Other code would go here')\n",
    "    print(func())"
   ]
  },
  {
   "cell_type": "code",
   "execution_count": 10,
   "id": "8d7485d6-90db-486e-a2c7-356dd8ab5815",
   "metadata": {},
   "outputs": [
    {
     "name": "stdout",
     "output_type": "stream",
     "text": [
      "Other code would go here\n",
      "Hello StudiYash !\n"
     ]
    }
   ],
   "source": [
    "other(hello)"
   ]
  },
  {
   "cell_type": "markdown",
   "id": "4a99c299-5a53-49a9-8d9f-f625a2bebbcd",
   "metadata": {},
   "source": [
    "## **Creating a Decorator**"
   ]
  },
  {
   "cell_type": "code",
   "execution_count": 12,
   "id": "64b01491-658c-4e9a-bee3-9ce9d76c1d68",
   "metadata": {},
   "outputs": [],
   "source": [
    "def new_decorator(func):\n",
    "\n",
    "    def wrap_func():\n",
    "        print(\"Code would be here, before executing the func\")\n",
    "\n",
    "        func()\n",
    "\n",
    "        print(\"Code here will execute after the func()\")\n",
    "\n",
    "    return wrap_func\n",
    "\n",
    "def func_needs_decorator():\n",
    "    print(\"This function is in a need of a decorator\")"
   ]
  },
  {
   "cell_type": "code",
   "execution_count": 13,
   "id": "c61f311d-e4b9-4562-a8cc-b80853280327",
   "metadata": {},
   "outputs": [
    {
     "name": "stdout",
     "output_type": "stream",
     "text": [
      "This function is in a need of a decorator\n",
      "\n",
      "Reassigning func_needs_decorator\n",
      "\n",
      "Code would be here, before executing the func\n",
      "This function is in a need of a decorator\n",
      "Code here will execute after the func()\n"
     ]
    }
   ],
   "source": [
    "func_needs_decorator()\n",
    "print()\n",
    "print(\"Reassigning func_needs_decorator\")\n",
    "print()\n",
    "\n",
    "# Reassign func_needs_decorator\n",
    "func_needs_decorator = new_decorator(func_needs_decorator)\n",
    "\n",
    "func_needs_decorator()"
   ]
  },
  {
   "cell_type": "code",
   "execution_count": 14,
   "id": "abc6bfe9-b7a5-49a6-bdee-488d7cba3a1b",
   "metadata": {},
   "outputs": [
    {
     "name": "stdout",
     "output_type": "stream",
     "text": [
      "Code would be here, before executing the func\n",
      "This function is in need of a Decorator\n",
      "Code here will execute after the func()\n"
     ]
    }
   ],
   "source": [
    "@new_decorator\n",
    "def func_needs_decorator():\n",
    "    print(\"This function is in need of a Decorator\")\n",
    "\n",
    "func_needs_decorator()"
   ]
  }
 ],
 "metadata": {
  "kernelspec": {
   "display_name": "Python 3 (ipykernel)",
   "language": "python",
   "name": "python3"
  },
  "language_info": {
   "codemirror_mode": {
    "name": "ipython",
    "version": 3
   },
   "file_extension": ".py",
   "mimetype": "text/x-python",
   "name": "python",
   "nbconvert_exporter": "python",
   "pygments_lexer": "ipython3",
   "version": "3.12.4"
  }
 },
 "nbformat": 4,
 "nbformat_minor": 5
}
