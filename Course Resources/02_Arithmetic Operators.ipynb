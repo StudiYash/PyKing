{
 "cells": [
  {
   "cell_type": "markdown",
   "id": "6922c62d-22bb-4649-97f3-bf908af36a9c",
   "metadata": {},
   "source": [
    "# Arithmetic Operators"
   ]
  },
  {
   "cell_type": "markdown",
   "id": "0fc5de11-2a05-4aa1-b7a8-ecc29560a3bb",
   "metadata": {
    "jp-MarkdownHeadingCollapsed": true
   },
   "source": [
    "## Basic Mathematical Operators"
   ]
  },
  {
   "cell_type": "code",
   "execution_count": 1,
   "id": "6b5ffa0c",
   "metadata": {},
   "outputs": [
    {
     "data": {
      "text/plain": [
       "100"
      ]
     },
     "execution_count": 1,
     "metadata": {},
     "output_type": "execute_result"
    }
   ],
   "source": [
    "90 + 10 #Addition Operator"
   ]
  },
  {
   "cell_type": "code",
   "execution_count": 2,
   "id": "3712838f",
   "metadata": {},
   "outputs": [
    {
     "data": {
      "text/plain": [
       "100"
      ]
     },
     "execution_count": 2,
     "metadata": {},
     "output_type": "execute_result"
    }
   ],
   "source": [
    "110 - 10 #Subtraction Operator"
   ]
  },
  {
   "cell_type": "code",
   "execution_count": 3,
   "id": "c55832ad",
   "metadata": {},
   "outputs": [
    {
     "data": {
      "text/plain": [
       "100"
      ]
     },
     "execution_count": 3,
     "metadata": {},
     "output_type": "execute_result"
    }
   ],
   "source": [
    "10 * 10 #Multiplication Operator"
   ]
  },
  {
   "cell_type": "code",
   "execution_count": 4,
   "id": "df0b2d8c",
   "metadata": {},
   "outputs": [
    {
     "data": {
      "text/plain": [
       "100.0"
      ]
     },
     "execution_count": 4,
     "metadata": {},
     "output_type": "execute_result"
    }
   ],
   "source": [
    "1000 / 10 #Division Operator"
   ]
  },
  {
   "cell_type": "code",
   "execution_count": 5,
   "id": "e3824bf5",
   "metadata": {},
   "outputs": [
    {
     "data": {
      "text/plain": [
       "100"
      ]
     },
     "execution_count": 5,
     "metadata": {},
     "output_type": "execute_result"
    }
   ],
   "source": [
    "10 ** 2 #Power"
   ]
  },
  {
   "cell_type": "code",
   "execution_count": 6,
   "id": "b9e856f4",
   "metadata": {},
   "outputs": [
    {
     "data": {
      "text/plain": [
       "1"
      ]
     },
     "execution_count": 6,
     "metadata": {},
     "output_type": "execute_result"
    }
   ],
   "source": [
    "10 % 3 #Modulus Operator   (It is used to get the remainder out of the ongoing division)"
   ]
  },
  {
   "cell_type": "markdown",
   "id": "eb6a546e",
   "metadata": {},
   "source": [
    "## Combining Mathematical Operators"
   ]
  },
  {
   "cell_type": "markdown",
   "id": "4192e45e-f6ab-4034-9e28-454dbd7188e0",
   "metadata": {
    "jp-MarkdownHeadingCollapsed": true
   },
   "source": [
    "### Now let us see that how python executes a complex code."
   ]
  },
  {
   "cell_type": "code",
   "execution_count": 8,
   "id": "4ccc332f",
   "metadata": {},
   "outputs": [
    {
     "data": {
      "text/plain": [
       "9.0"
      ]
     },
     "execution_count": 8,
     "metadata": {},
     "output_type": "execute_result"
    }
   ],
   "source": [
    "10 + 2 - 9 / 3"
   ]
  },
  {
   "cell_type": "markdown",
   "id": "f240c140",
   "metadata": {},
   "source": [
    "### We can also use brackets in this case."
   ]
  },
  {
   "cell_type": "code",
   "execution_count": 10,
   "id": "9f1d6bd6",
   "metadata": {},
   "outputs": [
    {
     "data": {
      "text/plain": [
       "9.0"
      ]
     },
     "execution_count": 10,
     "metadata": {},
     "output_type": "execute_result"
    }
   ],
   "source": [
    "(10 + 2) - (9 / 3)"
   ]
  }
 ],
 "metadata": {
  "kernelspec": {
   "display_name": "Python 3 (ipykernel)",
   "language": "python",
   "name": "python3"
  },
  "language_info": {
   "codemirror_mode": {
    "name": "ipython",
    "version": 3
   },
   "file_extension": ".py",
   "mimetype": "text/x-python",
   "name": "python",
   "nbconvert_exporter": "python",
   "pygments_lexer": "ipython3",
   "version": "3.12.4"
  }
 },
 "nbformat": 4,
 "nbformat_minor": 5
}
