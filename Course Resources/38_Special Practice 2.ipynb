{
 "cells": [
  {
   "cell_type": "markdown",
   "id": "e49ca669-2a7d-4d1e-ab3b-0bb74d2ce236",
   "metadata": {},
   "source": [
    "# **SPECIAL PRACTICE 2**"
   ]
  },
  {
   "cell_type": "markdown",
   "id": "c48847cc-4444-452f-9a34-788fd1deef6f",
   "metadata": {},
   "source": [
    "**This Notebook is based on concepts found in following notebooks:-**\n",
    "\n",
    "    1. 34_OOP - Attributes and Class Keyword\n",
    "    2. 35_OOP - Class Object Attributes and Methods\n",
    "    3. 36_OOP - Inheritance and Polymorphism\n",
    "    4. 37_OOP - Special (Magic or Dunder) Methods"
   ]
  },
  {
   "cell_type": "markdown",
   "id": "b46a634f-a1fd-4d44-86c5-693ce018bb8f",
   "metadata": {
    "jp-MarkdownHeadingCollapsed": true
   },
   "source": [
    "## **Question No.1**"
   ]
  },
  {
   "cell_type": "markdown",
   "id": "e11f8159-7b52-402e-9984-47e8f6a28d7f",
   "metadata": {},
   "source": [
    "**Fill in the Line class methods to accept coordinates as a pair of tuples and return the slope and distance of the line.**"
   ]
  },
  {
   "cell_type": "code",
   "execution_count": 5,
   "id": "309b9a02-b084-47b1-b402-b891f4df6d06",
   "metadata": {},
   "outputs": [],
   "source": [
    "class Line:\n",
    "    \n",
    "    def __init__(self,coor1,coor2):\n",
    "        pass\n",
    "    \n",
    "    def distance(self):\n",
    "        pass\n",
    "    \n",
    "    def slope(self):\n",
    "        pass"
   ]
  },
  {
   "cell_type": "code",
   "execution_count": 6,
   "id": "e09b741c-321a-4590-89d2-ecf2629f20ed",
   "metadata": {},
   "outputs": [],
   "source": [
    "# EXAMPLE OUTPUT\n",
    "\n",
    "coordinate1 = (3,2)\n",
    "coordinate2 = (8,10)\n",
    "\n",
    "li = Line(coordinate1,coordinate2)\n",
    "\n",
    "li.distance()\n",
    "# 9.433981132056603\n",
    "\n",
    "li.slope()\n",
    "# 1.6"
   ]
  },
  {
   "cell_type": "markdown",
   "id": "7340a30f-b222-4f8b-9086-0aadfe306681",
   "metadata": {
    "jp-MarkdownHeadingCollapsed": true
   },
   "source": [
    "## **Question No.2**"
   ]
  },
  {
   "cell_type": "markdown",
   "id": "cc53430c-47d3-4241-b8b5-61c4a39040ba",
   "metadata": {},
   "source": [
    "**Fill in the class**"
   ]
  },
  {
   "cell_type": "code",
   "execution_count": 9,
   "id": "51215135-3d75-4f2c-bedb-a6a3f9ee2554",
   "metadata": {},
   "outputs": [],
   "source": [
    "class Cylinder:\n",
    "    \n",
    "    def __init__(self,height=1,radius=1):\n",
    "        pass\n",
    "        \n",
    "    def volume(self):\n",
    "        pass\n",
    "    \n",
    "    def surface_area(self):\n",
    "        pass"
   ]
  },
  {
   "cell_type": "code",
   "execution_count": 10,
   "id": "604b0292-a936-4b5d-9e0d-9b50330f3617",
   "metadata": {},
   "outputs": [],
   "source": [
    "# EXAMPLE OUTPUT\n",
    "c = Cylinder(2,3)\n",
    "\n",
    "c.volume()\n",
    "# 56.52\n",
    "\n",
    "c.surface_area()\n",
    "# 94.2"
   ]
  }
 ],
 "metadata": {
  "kernelspec": {
   "display_name": "Python 3 (ipykernel)",
   "language": "python",
   "name": "python3"
  },
  "language_info": {
   "codemirror_mode": {
    "name": "ipython",
    "version": 3
   },
   "file_extension": ".py",
   "mimetype": "text/x-python",
   "name": "python",
   "nbconvert_exporter": "python",
   "pygments_lexer": "ipython3",
   "version": "3.12.4"
  }
 },
 "nbformat": 4,
 "nbformat_minor": 5
}
