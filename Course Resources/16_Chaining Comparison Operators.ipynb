{
 "cells": [
  {
   "cell_type": "markdown",
   "id": "fb67207b-3c1a-468d-adb2-2a9552c416fc",
   "metadata": {},
   "source": [
    "# **Chaining Comparison Operators in Python with Logical Operators**"
   ]
  },
  {
   "cell_type": "markdown",
   "id": "6140074f-1b4c-419a-82c6-a593a65411bd",
   "metadata": {
    "jp-MarkdownHeadingCollapsed": true
   },
   "source": [
    "## **Comparison without Operators**"
   ]
  },
  {
   "cell_type": "code",
   "execution_count": 3,
   "id": "9aeb92af-461d-4124-bd34-2fa19221388f",
   "metadata": {},
   "outputs": [
    {
     "data": {
      "text/plain": [
       "False"
      ]
     },
     "execution_count": 3,
     "metadata": {},
     "output_type": "execute_result"
    }
   ],
   "source": [
    "2 > 3"
   ]
  },
  {
   "cell_type": "code",
   "execution_count": 4,
   "id": "dbdfaca8-7a61-43ff-b4eb-9ff0c6d642a3",
   "metadata": {},
   "outputs": [
    {
     "data": {
      "text/plain": [
       "True"
      ]
     },
     "execution_count": 4,
     "metadata": {},
     "output_type": "execute_result"
    }
   ],
   "source": [
    "2 < 4 > 3"
   ]
  },
  {
   "cell_type": "markdown",
   "id": "888d9ca0-c4fc-484a-8520-0d17aebacc0d",
   "metadata": {
    "jp-MarkdownHeadingCollapsed": true
   },
   "source": [
    "## **Comparison using AND Logical Operator**"
   ]
  },
  {
   "cell_type": "code",
   "execution_count": 6,
   "id": "0abfa277-d7aa-4dc3-be98-ec24d8a224c1",
   "metadata": {},
   "outputs": [
    {
     "data": {
      "text/plain": [
       "False"
      ]
     },
     "execution_count": 6,
     "metadata": {},
     "output_type": "execute_result"
    }
   ],
   "source": [
    "2 > 2 and 3 < 3"
   ]
  },
  {
   "cell_type": "code",
   "execution_count": 7,
   "id": "9c06cdd5-602c-4172-9bae-b9df441dfaa8",
   "metadata": {},
   "outputs": [
    {
     "data": {
      "text/plain": [
       "True"
      ]
     },
     "execution_count": 7,
     "metadata": {},
     "output_type": "execute_result"
    }
   ],
   "source": [
    "4 > 3 and \"Happy\" == \"Happy\""
   ]
  },
  {
   "cell_type": "code",
   "execution_count": 8,
   "id": "e25304ef-c19e-4496-9707-d0a9c0b3dc85",
   "metadata": {},
   "outputs": [
    {
     "data": {
      "text/plain": [
       "True"
      ]
     },
     "execution_count": 8,
     "metadata": {},
     "output_type": "execute_result"
    }
   ],
   "source": [
    "9 >= 8 and \"Joker\" <= \"Joker\""
   ]
  },
  {
   "cell_type": "markdown",
   "id": "1d00f6d0-5589-485c-88ca-6a859711f6df",
   "metadata": {
    "jp-MarkdownHeadingCollapsed": true
   },
   "source": [
    "## **Comparison using OR Logical Operator**"
   ]
  },
  {
   "cell_type": "code",
   "execution_count": 10,
   "id": "7c559a7f-5e72-402a-82f0-64750141a196",
   "metadata": {},
   "outputs": [
    {
     "data": {
      "text/plain": [
       "False"
      ]
     },
     "execution_count": 10,
     "metadata": {},
     "output_type": "execute_result"
    }
   ],
   "source": [
    "2 > 2 or 3 < 3"
   ]
  },
  {
   "cell_type": "code",
   "execution_count": 11,
   "id": "b23a9435-539d-46c0-abf3-cc8ecab62cc1",
   "metadata": {},
   "outputs": [
    {
     "data": {
      "text/plain": [
       "True"
      ]
     },
     "execution_count": 11,
     "metadata": {},
     "output_type": "execute_result"
    }
   ],
   "source": [
    "4 > 3 or \"Happy\" == \"Happy\""
   ]
  },
  {
   "cell_type": "code",
   "execution_count": 12,
   "id": "98c5e041-4470-415b-a479-d29a1f55afeb",
   "metadata": {},
   "outputs": [
    {
     "data": {
      "text/plain": [
       "True"
      ]
     },
     "execution_count": 12,
     "metadata": {},
     "output_type": "execute_result"
    }
   ],
   "source": [
    "9 >= 8 or \"Joker\" <= \"Joker\""
   ]
  },
  {
   "cell_type": "markdown",
   "id": "7aae5492-29cb-49ea-a10e-e069f3b3d3f8",
   "metadata": {
    "jp-MarkdownHeadingCollapsed": true
   },
   "source": [
    "## **Comparison using NOT Logical Operator**"
   ]
  },
  {
   "cell_type": "code",
   "execution_count": 14,
   "id": "9b39469b-2f2b-4bd0-92b0-5a59fac593d9",
   "metadata": {},
   "outputs": [
    {
     "data": {
      "text/plain": [
       "False"
      ]
     },
     "execution_count": 14,
     "metadata": {},
     "output_type": "execute_result"
    }
   ],
   "source": [
    "not(2 == 2)"
   ]
  },
  {
   "cell_type": "code",
   "execution_count": 15,
   "id": "42d7b982-91aa-4ead-ae75-ddc9258bee77",
   "metadata": {},
   "outputs": [
    {
     "data": {
      "text/plain": [
       "True"
      ]
     },
     "execution_count": 15,
     "metadata": {},
     "output_type": "execute_result"
    }
   ],
   "source": [
    "not 3 < 2"
   ]
  }
 ],
 "metadata": {
  "kernelspec": {
   "display_name": "Python 3 (ipykernel)",
   "language": "python",
   "name": "python3"
  },
  "language_info": {
   "codemirror_mode": {
    "name": "ipython",
    "version": 3
   },
   "file_extension": ".py",
   "mimetype": "text/x-python",
   "name": "python",
   "nbconvert_exporter": "python",
   "pygments_lexer": "ipython3",
   "version": "3.12.4"
  }
 },
 "nbformat": 4,
 "nbformat_minor": 5
}
