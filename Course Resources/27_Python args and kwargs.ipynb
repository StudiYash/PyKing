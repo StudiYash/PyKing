{
 "cells": [
  {
   "cell_type": "markdown",
   "id": "df96ccc5-3b5e-4f27-a09d-635b0561b706",
   "metadata": {},
   "source": [
    "# **Python args and kwargs**"
   ]
  },
  {
   "cell_type": "markdown",
   "id": "bbb0545b-e177-4478-bd6e-f1bacb668cb5",
   "metadata": {},
   "source": [
    "## **The use of** *args **keyword**"
   ]
  },
  {
   "cell_type": "code",
   "execution_count": 3,
   "id": "46237a09-3c81-4639-b165-4ad8f7a14b58",
   "metadata": {},
   "outputs": [
    {
     "data": {
      "text/plain": [
       "100"
      ]
     },
     "execution_count": 3,
     "metadata": {},
     "output_type": "execute_result"
    }
   ],
   "source": [
    "def myfunc(*args):\n",
    "    return sum(args)\n",
    "\n",
    "myfunc(40,60)"
   ]
  },
  {
   "cell_type": "markdown",
   "id": "b4b11561-9e98-4743-9ff5-f03d8a6158e5",
   "metadata": {},
   "source": [
    "## **The use of** **kwargs **keyword**"
   ]
  },
  {
   "cell_type": "code",
   "execution_count": 5,
   "id": "5ca215e9-b5a0-4482-bec9-7294accf5d23",
   "metadata": {},
   "outputs": [
    {
     "name": "stdout",
     "output_type": "stream",
     "text": [
      "My fruit of choice is apple\n"
     ]
    }
   ],
   "source": [
    "def myfunc(**kwargs):\n",
    "    if 'fruit' in kwargs:\n",
    "        print('My fruit of choice is {}'.format(kwargs['fruit']))\n",
    "    else:\n",
    "        print('I did not find any fruit here')\n",
    "\n",
    "myfunc(fruit = 'apple', veggie = 'lettuce')"
   ]
  },
  {
   "cell_type": "markdown",
   "id": "6fa74507-e02a-48ec-b941-d6d3639a1364",
   "metadata": {},
   "source": [
    "## **The use of both** *args **and** **kwargs **keywords**"
   ]
  },
  {
   "cell_type": "code",
   "execution_count": 7,
   "id": "199eeb2b-4819-4479-8e21-23d339ec7294",
   "metadata": {},
   "outputs": [
    {
     "name": "stdout",
     "output_type": "stream",
     "text": [
      "I would like to have 2 Lemon Rice\n"
     ]
    }
   ],
   "source": [
    "def myfunc(*args, **kwargs):\n",
    "    print(\"I would like to have {} {}\".format(args[1],kwargs['food']))\n",
    "\n",
    "myfunc(1,2,3,4,fruit = 'Orange', food = 'Lemon Rice')"
   ]
  }
 ],
 "metadata": {
  "kernelspec": {
   "display_name": "Python 3 (ipykernel)",
   "language": "python",
   "name": "python3"
  },
  "language_info": {
   "codemirror_mode": {
    "name": "ipython",
    "version": 3
   },
   "file_extension": ".py",
   "mimetype": "text/x-python",
   "name": "python",
   "nbconvert_exporter": "python",
   "pygments_lexer": "ipython3",
   "version": "3.12.4"
  }
 },
 "nbformat": 4,
 "nbformat_minor": 5
}
