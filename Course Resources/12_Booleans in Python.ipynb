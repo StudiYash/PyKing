{
 "cells": [
  {
   "cell_type": "markdown",
   "id": "530ecc15",
   "metadata": {},
   "source": [
    "# **Booleans in Python**"
   ]
  },
  {
   "cell_type": "markdown",
   "id": "7025c4e4-c17a-44e8-a9db-85979cc1e270",
   "metadata": {
    "jp-MarkdownHeadingCollapsed": true
   },
   "source": [
    "## **The Boolean Output**"
   ]
  },
  {
   "cell_type": "markdown",
   "id": "cd8de062-53dc-4f60-a5ff-9c21e8cfa5a9",
   "metadata": {},
   "source": [
    "### **The \"True\" keyword**"
   ]
  },
  {
   "cell_type": "code",
   "execution_count": 4,
   "id": "d565ce22",
   "metadata": {},
   "outputs": [
    {
     "data": {
      "text/plain": [
       "bool"
      ]
     },
     "execution_count": 4,
     "metadata": {},
     "output_type": "execute_result"
    }
   ],
   "source": [
    "type(True) #Dont type true.... type True only"
   ]
  },
  {
   "cell_type": "markdown",
   "id": "4bd26883-2bdd-49a9-956a-0e54588637a1",
   "metadata": {
    "jp-MarkdownHeadingCollapsed": true
   },
   "source": [
    "### **The \"False\" keyword**"
   ]
  },
  {
   "cell_type": "code",
   "execution_count": 6,
   "id": "11894ab8",
   "metadata": {},
   "outputs": [
    {
     "data": {
      "text/plain": [
       "bool"
      ]
     },
     "execution_count": 6,
     "metadata": {},
     "output_type": "execute_result"
    }
   ],
   "source": [
    "type(False) #Dont type false.... type False only"
   ]
  },
  {
   "cell_type": "markdown",
   "id": "3aaddbd2",
   "metadata": {
    "jp-MarkdownHeadingCollapsed": true
   },
   "source": [
    "## **Use of Comparison Operators**"
   ]
  },
  {
   "cell_type": "code",
   "execution_count": 8,
   "id": "c2810dc5",
   "metadata": {},
   "outputs": [
    {
     "data": {
      "text/plain": [
       "False"
      ]
     },
     "execution_count": 8,
     "metadata": {},
     "output_type": "execute_result"
    }
   ],
   "source": [
    "1 == 2     # == is an comparison operator and is taught in the course later."
   ]
  },
  {
   "cell_type": "code",
   "execution_count": 9,
   "id": "c3999694",
   "metadata": {},
   "outputs": [
    {
     "data": {
      "text/plain": [
       "True"
      ]
     },
     "execution_count": 9,
     "metadata": {},
     "output_type": "execute_result"
    }
   ],
   "source": [
    "2 > 1      # > is an comparison operator and is taught in the course later."
   ]
  },
  {
   "cell_type": "markdown",
   "id": "f9cb6d08",
   "metadata": {
    "jp-MarkdownHeadingCollapsed": true
   },
   "source": [
    "## **Use of \"None\" keyword**"
   ]
  },
  {
   "cell_type": "code",
   "execution_count": 11,
   "id": "3a2a4535",
   "metadata": {},
   "outputs": [
    {
     "name": "stdout",
     "output_type": "stream",
     "text": [
      "None\n"
     ]
    }
   ],
   "source": [
    "k = None\n",
    "print(k)"
   ]
  },
  {
   "cell_type": "code",
   "execution_count": 12,
   "id": "6323960f",
   "metadata": {},
   "outputs": [
    {
     "name": "stdout",
     "output_type": "stream",
     "text": [
      "None\n"
     ]
    }
   ],
   "source": [
    "m = None\n",
    "print(m)"
   ]
  }
 ],
 "metadata": {
  "kernelspec": {
   "display_name": "Python 3 (ipykernel)",
   "language": "python",
   "name": "python3"
  },
  "language_info": {
   "codemirror_mode": {
    "name": "ipython",
    "version": 3
   },
   "file_extension": ".py",
   "mimetype": "text/x-python",
   "name": "python",
   "nbconvert_exporter": "python",
   "pygments_lexer": "ipython3",
   "version": "3.12.4"
  }
 },
 "nbformat": 4,
 "nbformat_minor": 5
}
