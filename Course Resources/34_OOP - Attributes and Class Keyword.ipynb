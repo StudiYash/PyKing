{
 "cells": [
  {
   "cell_type": "markdown",
   "id": "4797ffb7-fd94-44d7-b9d9-834a248a1a67",
   "metadata": {},
   "source": [
    "# **OOP - Attributes and Class Keyword**"
   ]
  },
  {
   "cell_type": "markdown",
   "id": "e38df3c2-ad05-407d-829f-ba08bf9436a9",
   "metadata": {
    "jp-MarkdownHeadingCollapsed": true
   },
   "source": [
    "## **Creating a Basic Class with class keyword**"
   ]
  },
  {
   "cell_type": "code",
   "execution_count": 3,
   "id": "b9371aa9-9a07-49d0-a4a4-310d99edca13",
   "metadata": {},
   "outputs": [],
   "source": [
    "class Sample():\n",
    "    pass"
   ]
  },
  {
   "cell_type": "code",
   "execution_count": 4,
   "id": "8108eb30-6651-439f-9502-728834082ecd",
   "metadata": {},
   "outputs": [],
   "source": [
    "my_sample = Sample()"
   ]
  },
  {
   "cell_type": "code",
   "execution_count": 5,
   "id": "84385fee-2676-4a58-a754-3e981b90ddc1",
   "metadata": {},
   "outputs": [
    {
     "data": {
      "text/plain": [
       "__main__.Sample"
      ]
     },
     "execution_count": 5,
     "metadata": {},
     "output_type": "execute_result"
    }
   ],
   "source": [
    "type(my_sample)"
   ]
  },
  {
   "cell_type": "markdown",
   "id": "8c4f56f3-02b7-41b7-8680-33e6af3c4536",
   "metadata": {
    "jp-MarkdownHeadingCollapsed": true
   },
   "source": [
    "## **Creating a Class with one Attribute**"
   ]
  },
  {
   "cell_type": "code",
   "execution_count": 7,
   "id": "14b381fc-2ac5-4e54-a48b-f424112324bd",
   "metadata": {},
   "outputs": [],
   "source": [
    "class Dog():\n",
    "    def __init__ (self, breed):   # breed is the attribute\n",
    "        self.breed = breed"
   ]
  },
  {
   "cell_type": "code",
   "execution_count": 8,
   "id": "246dfcbe-677b-439f-834f-df654e42c364",
   "metadata": {},
   "outputs": [],
   "source": [
    "my_dog = Dog(breed = \"Lab\")"
   ]
  },
  {
   "cell_type": "code",
   "execution_count": 9,
   "id": "083b5655-0899-4e1f-9ad9-c1bf30278abb",
   "metadata": {},
   "outputs": [
    {
     "data": {
      "text/plain": [
       "__main__.Dog"
      ]
     },
     "execution_count": 9,
     "metadata": {},
     "output_type": "execute_result"
    }
   ],
   "source": [
    "type(my_dog)"
   ]
  },
  {
   "cell_type": "code",
   "execution_count": 10,
   "id": "b015cc68-1053-45ae-bec2-0d0f51b586ca",
   "metadata": {},
   "outputs": [
    {
     "data": {
      "text/plain": [
       "'Lab'"
      ]
     },
     "execution_count": 10,
     "metadata": {},
     "output_type": "execute_result"
    }
   ],
   "source": [
    "my_dog.breed"
   ]
  },
  {
   "cell_type": "markdown",
   "id": "480550d5-27cb-4423-881c-c5de76852a20",
   "metadata": {
    "jp-MarkdownHeadingCollapsed": true
   },
   "source": [
    "## **Creating a Class with two Attributes**"
   ]
  },
  {
   "cell_type": "code",
   "execution_count": 12,
   "id": "da39d6e5-ccec-4543-8809-c34613f18436",
   "metadata": {},
   "outputs": [],
   "source": [
    "class Dog():\n",
    "    def __init__ (self, breed, name, spots):   # breed is the attribute\n",
    "        # Attributes\n",
    "        # We take in the argument\n",
    "        # Assign it using self.attribute_name\n",
    "        self.breed = breed\n",
    "        self.name = name\n",
    "        self.spots = spots"
   ]
  },
  {
   "cell_type": "code",
   "execution_count": 13,
   "id": "79317d28-7aab-4c8d-a3a1-5a5db77d118d",
   "metadata": {},
   "outputs": [],
   "source": [
    "my_dog = Dog(breed = \"Lab\", name = \"Pompom\", spots = True)"
   ]
  },
  {
   "cell_type": "code",
   "execution_count": 14,
   "id": "ecbe6d52-0134-4639-8c43-13a3f46c43e8",
   "metadata": {},
   "outputs": [
    {
     "data": {
      "text/plain": [
       "__main__.Dog"
      ]
     },
     "execution_count": 14,
     "metadata": {},
     "output_type": "execute_result"
    }
   ],
   "source": [
    "type(my_dog)"
   ]
  },
  {
   "cell_type": "code",
   "execution_count": 15,
   "id": "fb129e9c-85b3-4146-a976-6bb222ba8840",
   "metadata": {},
   "outputs": [
    {
     "name": "stdout",
     "output_type": "stream",
     "text": [
      "Lab\n",
      "Pompom\n",
      "True\n"
     ]
    }
   ],
   "source": [
    "print(my_dog.breed)\n",
    "print(my_dog.name)\n",
    "print(my_dog.spots)"
   ]
  }
 ],
 "metadata": {
  "kernelspec": {
   "display_name": "Python 3 (ipykernel)",
   "language": "python",
   "name": "python3"
  },
  "language_info": {
   "codemirror_mode": {
    "name": "ipython",
    "version": 3
   },
   "file_extension": ".py",
   "mimetype": "text/x-python",
   "name": "python",
   "nbconvert_exporter": "python",
   "pygments_lexer": "ipython3",
   "version": "3.12.4"
  }
 },
 "nbformat": 4,
 "nbformat_minor": 5
}
