{
 "cells": [
  {
   "cell_type": "markdown",
   "id": "46059494-7343-4d3d-bfdd-8298dfe3f2e9",
   "metadata": {},
   "source": [
    "# Tuples in Python"
   ]
  },
  {
   "cell_type": "markdown",
   "id": "034e9155",
   "metadata": {
    "jp-MarkdownHeadingCollapsed": true
   },
   "source": [
    "## Constructing a Tuple"
   ]
  },
  {
   "cell_type": "code",
   "execution_count": 3,
   "id": "13cee494",
   "metadata": {},
   "outputs": [
    {
     "name": "stdout",
     "output_type": "stream",
     "text": [
      "(1, 2, 3)\n"
     ]
    }
   ],
   "source": [
    "tuple_1 = (1,2,3)\n",
    "print(tuple_1)"
   ]
  },
  {
   "cell_type": "code",
   "execution_count": 4,
   "id": "aa06b83c",
   "metadata": {},
   "outputs": [
    {
     "name": "stdout",
     "output_type": "stream",
     "text": [
      "('a', 'b', 'c')\n"
     ]
    }
   ],
   "source": [
    "tuple_2 = ('a','b','c')\n",
    "print(tuple_2)"
   ]
  },
  {
   "cell_type": "code",
   "execution_count": 5,
   "id": "b23a4e29",
   "metadata": {},
   "outputs": [
    {
     "name": "stdout",
     "output_type": "stream",
     "text": [
      "('ab', 2, 3.14)\n"
     ]
    }
   ],
   "source": [
    "tuple_3 = ('ab', 2, 3.14)\n",
    "print(tuple_3)"
   ]
  },
  {
   "cell_type": "markdown",
   "id": "4796e4d4",
   "metadata": {
    "jp-MarkdownHeadingCollapsed": true
   },
   "source": [
    "## The len() function applied on Tuple"
   ]
  },
  {
   "cell_type": "code",
   "execution_count": 7,
   "id": "368d1377",
   "metadata": {},
   "outputs": [
    {
     "data": {
      "text/plain": [
       "3"
      ]
     },
     "execution_count": 7,
     "metadata": {},
     "output_type": "execute_result"
    }
   ],
   "source": [
    "len(tuple_1)"
   ]
  },
  {
   "cell_type": "markdown",
   "id": "7c48eab9",
   "metadata": {
    "jp-MarkdownHeadingCollapsed": true
   },
   "source": [
    "## Indexing on Tuple"
   ]
  },
  {
   "cell_type": "code",
   "execution_count": 9,
   "id": "2614e698",
   "metadata": {},
   "outputs": [
    {
     "data": {
      "text/plain": [
       "2"
      ]
     },
     "execution_count": 9,
     "metadata": {},
     "output_type": "execute_result"
    }
   ],
   "source": [
    "tuple_3[1]"
   ]
  },
  {
   "cell_type": "markdown",
   "id": "81469b21-8e10-4ca1-91f9-7eaeb0259bf5",
   "metadata": {
    "jp-MarkdownHeadingCollapsed": true
   },
   "source": [
    "## Slicing on Tuple"
   ]
  },
  {
   "cell_type": "code",
   "execution_count": 11,
   "id": "91a868e5",
   "metadata": {},
   "outputs": [
    {
     "data": {
      "text/plain": [
       "(2, 3.14)"
      ]
     },
     "execution_count": 11,
     "metadata": {},
     "output_type": "execute_result"
    }
   ],
   "source": [
    "tuple_3[1:]"
   ]
  },
  {
   "cell_type": "markdown",
   "id": "f96eda82",
   "metadata": {
    "jp-MarkdownHeadingCollapsed": true
   },
   "source": [
    "## The .count() Method on Tuple"
   ]
  },
  {
   "cell_type": "code",
   "execution_count": 13,
   "id": "6cf35914",
   "metadata": {},
   "outputs": [],
   "source": [
    "tuple_4 = ('a','a','a',7,4)"
   ]
  },
  {
   "cell_type": "code",
   "execution_count": 14,
   "id": "3d789bc7",
   "metadata": {},
   "outputs": [
    {
     "data": {
      "text/plain": [
       "3"
      ]
     },
     "execution_count": 14,
     "metadata": {},
     "output_type": "execute_result"
    }
   ],
   "source": [
    "tuple_4.count('a')"
   ]
  },
  {
   "cell_type": "markdown",
   "id": "4031becc",
   "metadata": {
    "jp-MarkdownHeadingCollapsed": true
   },
   "source": [
    "## The .index() Method on Tuple"
   ]
  },
  {
   "cell_type": "code",
   "execution_count": 16,
   "id": "f69ec52c",
   "metadata": {},
   "outputs": [
    {
     "data": {
      "text/plain": [
       "3"
      ]
     },
     "execution_count": 16,
     "metadata": {},
     "output_type": "execute_result"
    }
   ],
   "source": [
    "tuple_4.index(7)"
   ]
  },
  {
   "cell_type": "markdown",
   "id": "adf920da",
   "metadata": {
    "jp-MarkdownHeadingCollapsed": true
   },
   "source": [
    "## Tuples are Concatenable"
   ]
  },
  {
   "cell_type": "code",
   "execution_count": 18,
   "id": "586288eb",
   "metadata": {},
   "outputs": [
    {
     "name": "stdout",
     "output_type": "stream",
     "text": [
      "(1, 2, 3, 'a', 'b', 'c', 'ab', 2, 3.14, 'a', 'a', 'a', 7, 4)\n"
     ]
    }
   ],
   "source": [
    "tuple_5 = tuple_1 + tuple_2 + tuple_3 + tuple_4\n",
    "print(tuple_5)"
   ]
  },
  {
   "cell_type": "markdown",
   "id": "b7c77cba-b0c3-44d5-b06d-1db066b66321",
   "metadata": {},
   "source": [
    "## Tuples are Multipliable"
   ]
  },
  {
   "cell_type": "code",
   "execution_count": 20,
   "id": "587f9298-2ecd-40dd-ba60-717f5113d17f",
   "metadata": {},
   "outputs": [
    {
     "name": "stdout",
     "output_type": "stream",
     "text": [
      "(1, 2, 3, 'a', 'b', 'c', 'ab', 2, 3.14, 'a', 'a', 'a', 7, 4, 1, 2, 3, 'a', 'b', 'c', 'ab', 2, 3.14, 'a', 'a', 'a', 7, 4)\n"
     ]
    }
   ],
   "source": [
    "tuple_6 = tuple_5 * 2\n",
    "print(tuple_6)"
   ]
  },
  {
   "cell_type": "markdown",
   "id": "e61fadc5-1720-42ad-966c-4cfc878b3750",
   "metadata": {},
   "source": [
    "## Tuples can contain Lists and Dictionaries"
   ]
  },
  {
   "cell_type": "markdown",
   "id": "669bee03-75ee-4d05-b741-0aa989df3272",
   "metadata": {},
   "source": [
    "### Creating Complex Tuples"
   ]
  },
  {
   "cell_type": "code",
   "execution_count": 23,
   "id": "c45c2885-106e-4385-ad0f-e0459a09bca2",
   "metadata": {},
   "outputs": [
    {
     "name": "stdout",
     "output_type": "stream",
     "text": [
      "(1, 2, 'ab', [3, 4, 5], {'sixth': 6, 'seventh': 7})\n"
     ]
    }
   ],
   "source": [
    "tuple_7 = (1,2,\"ab\",[3,4,5],{\"sixth\" : 6, \"seventh\" : 7})\n",
    "print(tuple_7)"
   ]
  },
  {
   "cell_type": "markdown",
   "id": "cf106007-1566-4401-b108-876f8395933f",
   "metadata": {},
   "source": [
    "### Traversing in Tuples"
   ]
  },
  {
   "cell_type": "code",
   "execution_count": 25,
   "id": "77281341-ac16-4072-bb29-d20dec28a9d1",
   "metadata": {},
   "outputs": [
    {
     "data": {
      "text/plain": [
       "4"
      ]
     },
     "execution_count": 25,
     "metadata": {},
     "output_type": "execute_result"
    }
   ],
   "source": [
    "tuple_7[3][1]"
   ]
  },
  {
   "cell_type": "markdown",
   "id": "25034141-0056-408d-8f0b-d19280768978",
   "metadata": {},
   "source": [
    "## The tuple() Constructor"
   ]
  },
  {
   "cell_type": "code",
   "execution_count": 32,
   "id": "00c5d0e7-fd9c-474b-b6dd-48795f9cbb5c",
   "metadata": {},
   "outputs": [
    {
     "name": "stdout",
     "output_type": "stream",
     "text": [
      "(1, 2, 3, 4, 5)\n"
     ]
    }
   ],
   "source": [
    "my_list1 = [1,2,3,4,5]\n",
    "tuple_8 = tuple(my_list1)\n",
    "print(tuple_8)"
   ]
  },
  {
   "cell_type": "markdown",
   "id": "a7dbea03",
   "metadata": {},
   "source": [
    "## Tuples are immutable and hence it gives an error"
   ]
  },
  {
   "cell_type": "code",
   "execution_count": 27,
   "id": "900f71c7",
   "metadata": {},
   "outputs": [
    {
     "ename": "TypeError",
     "evalue": "'tuple' object does not support item assignment",
     "output_type": "error",
     "traceback": [
      "\u001b[1;31m---------------------------------------------------------------------------\u001b[0m",
      "\u001b[1;31mTypeError\u001b[0m                                 Traceback (most recent call last)",
      "Cell \u001b[1;32mIn[27], line 1\u001b[0m\n\u001b[1;32m----> 1\u001b[0m tuple_4[\u001b[38;5;241m0\u001b[39m] \u001b[38;5;241m=\u001b[39m \u001b[38;5;241m3\u001b[39m\n",
      "\u001b[1;31mTypeError\u001b[0m: 'tuple' object does not support item assignment"
     ]
    }
   ],
   "source": [
    "tuple_4[0] = 3"
   ]
  }
 ],
 "metadata": {
  "kernelspec": {
   "display_name": "Python 3 (ipykernel)",
   "language": "python",
   "name": "python3"
  },
  "language_info": {
   "codemirror_mode": {
    "name": "ipython",
    "version": 3
   },
   "file_extension": ".py",
   "mimetype": "text/x-python",
   "name": "python",
   "nbconvert_exporter": "python",
   "pygments_lexer": "ipython3",
   "version": "3.12.4"
  }
 },
 "nbformat": 4,
 "nbformat_minor": 5
}
