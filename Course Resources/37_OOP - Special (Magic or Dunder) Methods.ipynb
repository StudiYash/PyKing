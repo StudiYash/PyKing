{
 "cells": [
  {
   "cell_type": "markdown",
   "id": "245b64fc-72cc-4db3-aa96-f16ec79374c9",
   "metadata": {},
   "source": [
    "# **OOP - Special (Magic or Dunder) Methods**"
   ]
  },
  {
   "cell_type": "markdown",
   "id": "e83b79fb-4595-40b8-aaee-98628e25a49e",
   "metadata": {},
   "source": [
    "## **Creating a Class using Special Methods**"
   ]
  },
  {
   "cell_type": "code",
   "execution_count": 3,
   "id": "a60e03e2-75a9-4099-9ca2-bc97b303d493",
   "metadata": {},
   "outputs": [],
   "source": [
    "class Book():\n",
    "\n",
    "    def __init__(self, title, author, pages):\n",
    "        self.title = title\n",
    "        self.author = author\n",
    "        self.pages = pages\n",
    "    \n",
    "    # Creating the special string method\n",
    "    def __str__(self):\n",
    "        return f\"{self.title} by {self.author}\"\n",
    "        \n",
    "    # Creating the special length method\n",
    "    def __len__(self):\n",
    "        return self.pages\n",
    "\n",
    "    # Creating the special delete method\n",
    "    def __del__(self):\n",
    "        print(f\"The book instance titled {self.title} has been deleted.\")"
   ]
  },
  {
   "cell_type": "code",
   "execution_count": 4,
   "id": "ae0342b9-c9e2-4be3-9456-f5673873fe39",
   "metadata": {},
   "outputs": [],
   "source": [
    "b = Book(\"PyKing\", \"StudiYash\", 3000)"
   ]
  },
  {
   "cell_type": "markdown",
   "id": "2fa8c9ff-2be2-46ff-899f-9ba76dc98ad9",
   "metadata": {},
   "source": [
    "## **Using Special String Method**"
   ]
  },
  {
   "cell_type": "code",
   "execution_count": 6,
   "id": "55320da5-219b-4a47-8338-537aa0fbc71b",
   "metadata": {},
   "outputs": [
    {
     "name": "stdout",
     "output_type": "stream",
     "text": [
      "PyKing by StudiYash\n"
     ]
    }
   ],
   "source": [
    "print(b)"
   ]
  },
  {
   "cell_type": "code",
   "execution_count": 7,
   "id": "6d0e439c-97c5-4a00-bd21-74d4ba13140a",
   "metadata": {},
   "outputs": [
    {
     "data": {
      "text/plain": [
       "'PyKing by StudiYash'"
      ]
     },
     "execution_count": 7,
     "metadata": {},
     "output_type": "execute_result"
    }
   ],
   "source": [
    "str(b)"
   ]
  },
  {
   "cell_type": "markdown",
   "id": "7b49e0ea-7e33-493e-b1b9-b110ce479835",
   "metadata": {},
   "source": [
    "## **Using Special Length Method**"
   ]
  },
  {
   "cell_type": "code",
   "execution_count": 9,
   "id": "c9b2e135-75b9-47b4-bb87-d076a9d405af",
   "metadata": {},
   "outputs": [
    {
     "data": {
      "text/plain": [
       "3000"
      ]
     },
     "execution_count": 9,
     "metadata": {},
     "output_type": "execute_result"
    }
   ],
   "source": [
    "len(b)"
   ]
  },
  {
   "cell_type": "markdown",
   "id": "4fd8a556-bb32-46f5-8bcf-bb3e55060ec5",
   "metadata": {},
   "source": [
    "## **Using Special Delete Method**"
   ]
  },
  {
   "cell_type": "code",
   "execution_count": 11,
   "id": "be358ea6-1d0c-4b10-b8d7-69de3cc2be07",
   "metadata": {},
   "outputs": [
    {
     "name": "stdout",
     "output_type": "stream",
     "text": [
      "The book instance titled PyKing has been deleted.\n"
     ]
    }
   ],
   "source": [
    "del b"
   ]
  }
 ],
 "metadata": {
  "kernelspec": {
   "display_name": "Python 3 (ipykernel)",
   "language": "python",
   "name": "python3"
  },
  "language_info": {
   "codemirror_mode": {
    "name": "ipython",
    "version": 3
   },
   "file_extension": ".py",
   "mimetype": "text/x-python",
   "name": "python",
   "nbconvert_exporter": "python",
   "pygments_lexer": "ipython3",
   "version": "3.12.4"
  }
 },
 "nbformat": 4,
 "nbformat_minor": 5
}
