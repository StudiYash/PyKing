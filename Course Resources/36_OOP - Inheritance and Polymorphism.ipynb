{
 "cells": [
  {
   "cell_type": "markdown",
   "id": "c29ad150-ca52-455a-b23a-6a22b9bf92be",
   "metadata": {},
   "source": [
    "# **OOP - Inheritance and Polymorphism**"
   ]
  },
  {
   "cell_type": "markdown",
   "id": "51b4219f-d792-49f7-93ea-4f1cc02f43b6",
   "metadata": {
    "jp-MarkdownHeadingCollapsed": true
   },
   "source": [
    "## **Inheritance**"
   ]
  },
  {
   "cell_type": "markdown",
   "id": "27a7ca91-bcd1-4fe6-8f12-157fd83971ae",
   "metadata": {
    "jp-MarkdownHeadingCollapsed": true
   },
   "source": [
    "### **Creating a Parent Class**"
   ]
  },
  {
   "cell_type": "code",
   "execution_count": 4,
   "id": "6cef5e9c-6bd1-41fe-a390-2483e89492a8",
   "metadata": {},
   "outputs": [],
   "source": [
    "class Animal():\n",
    "    def __init__(self):\n",
    "        print(\"ANIMAL CREATED\")\n",
    "\n",
    "    def who_am_i(self):\n",
    "        print(\"I am an animal\")\n",
    "\n",
    "    def eat(self):\n",
    "        print(\"I am eating\")"
   ]
  },
  {
   "cell_type": "code",
   "execution_count": 5,
   "id": "be943b85-f9fb-4450-871d-22a8d5aa2ef1",
   "metadata": {},
   "outputs": [
    {
     "name": "stdout",
     "output_type": "stream",
     "text": [
      "ANIMAL CREATED\n"
     ]
    }
   ],
   "source": [
    "myanimal = Animal()"
   ]
  },
  {
   "cell_type": "code",
   "execution_count": 6,
   "id": "74cf084a-4b1f-4724-b964-05b1c3e93962",
   "metadata": {},
   "outputs": [
    {
     "name": "stdout",
     "output_type": "stream",
     "text": [
      "I am eating\n"
     ]
    }
   ],
   "source": [
    "myanimal.eat()"
   ]
  },
  {
   "cell_type": "markdown",
   "id": "536205b7-21f3-4b0c-978c-8d1c6d143b89",
   "metadata": {
    "jp-MarkdownHeadingCollapsed": true
   },
   "source": [
    "### **Creating a Child Class**"
   ]
  },
  {
   "cell_type": "code",
   "execution_count": 8,
   "id": "705691bf-a973-49fe-b55d-13bbb786cc73",
   "metadata": {},
   "outputs": [],
   "source": [
    "class Dog(Animal):\n",
    "    def __init__(self):\n",
    "        Animal.__init__(self)\n",
    "        print(\"Dog Created\")"
   ]
  },
  {
   "cell_type": "code",
   "execution_count": 9,
   "id": "30c9e0a1-6faa-433f-afeb-42f85ac1e47c",
   "metadata": {},
   "outputs": [
    {
     "name": "stdout",
     "output_type": "stream",
     "text": [
      "ANIMAL CREATED\n",
      "Dog Created\n"
     ]
    }
   ],
   "source": [
    "mydog = Dog()"
   ]
  },
  {
   "cell_type": "markdown",
   "id": "2332c8f4-2cdc-4f83-9680-9cea3d87a04a",
   "metadata": {
    "jp-MarkdownHeadingCollapsed": true
   },
   "source": [
    "#### **Accessing Parent Class Methods inside Child Class**"
   ]
  },
  {
   "cell_type": "code",
   "execution_count": 11,
   "id": "a1192fb8-2348-4e3b-937d-e99c95a7d0d6",
   "metadata": {},
   "outputs": [
    {
     "name": "stdout",
     "output_type": "stream",
     "text": [
      "ANIMAL CREATED\n",
      "Dog Created\n"
     ]
    }
   ],
   "source": [
    "mydog = Dog()"
   ]
  },
  {
   "cell_type": "code",
   "execution_count": 12,
   "id": "7b2a8c7c-3be3-4140-801b-b51b7ad573c5",
   "metadata": {},
   "outputs": [
    {
     "name": "stdout",
     "output_type": "stream",
     "text": [
      "I am eating\n"
     ]
    }
   ],
   "source": [
    "mydog.eat()"
   ]
  },
  {
   "cell_type": "code",
   "execution_count": 13,
   "id": "b462c002-5d4a-4d25-aa9a-974fd861a0cf",
   "metadata": {},
   "outputs": [
    {
     "name": "stdout",
     "output_type": "stream",
     "text": [
      "I am an animal\n"
     ]
    }
   ],
   "source": [
    "mydog.who_am_i()"
   ]
  },
  {
   "cell_type": "markdown",
   "id": "3d74a9d6-5284-4fb0-89f4-645ebabff301",
   "metadata": {
    "jp-MarkdownHeadingCollapsed": true
   },
   "source": [
    "#### **Overwriting Parent Class Method**"
   ]
  },
  {
   "cell_type": "code",
   "execution_count": 15,
   "id": "aa521b90-45eb-4160-8b19-c7ec995bf241",
   "metadata": {},
   "outputs": [],
   "source": [
    "class Dog(Animal):\n",
    "    def __init__(self):\n",
    "        Animal.__init__(self)\n",
    "        print(\"Dog Created\")\n",
    "\n",
    "    def who_am_i(self):\n",
    "        print(\"I am an dog\")"
   ]
  },
  {
   "cell_type": "code",
   "execution_count": 16,
   "id": "ff36f416-0e0c-4947-92b2-7ff604e8d6af",
   "metadata": {},
   "outputs": [
    {
     "name": "stdout",
     "output_type": "stream",
     "text": [
      "ANIMAL CREATED\n",
      "Dog Created\n"
     ]
    }
   ],
   "source": [
    "mydog = Dog()"
   ]
  },
  {
   "cell_type": "code",
   "execution_count": 17,
   "id": "c86fab5e-3929-4bfc-8e59-6ef58e69a600",
   "metadata": {},
   "outputs": [
    {
     "name": "stdout",
     "output_type": "stream",
     "text": [
      "I am eating\n"
     ]
    }
   ],
   "source": [
    "mydog.eat()"
   ]
  },
  {
   "cell_type": "code",
   "execution_count": 18,
   "id": "8e44a3bc-4868-4c8a-8f4c-fdf715ee3491",
   "metadata": {},
   "outputs": [
    {
     "name": "stdout",
     "output_type": "stream",
     "text": [
      "I am an dog\n"
     ]
    }
   ],
   "source": [
    "mydog.who_am_i()"
   ]
  },
  {
   "cell_type": "markdown",
   "id": "fb65785f-27a9-4938-a814-68cca224ac11",
   "metadata": {
    "jp-MarkdownHeadingCollapsed": true
   },
   "source": [
    "#### **Adding new Method in Child Class**"
   ]
  },
  {
   "cell_type": "code",
   "execution_count": 20,
   "id": "adcfc2a6-9e64-4179-bfc2-8f7ba74fec5a",
   "metadata": {},
   "outputs": [],
   "source": [
    "class Dog(Animal):\n",
    "    def __init__(self):\n",
    "        Animal.__init__(self)\n",
    "        print(\"Dog Created\")\n",
    "\n",
    "    def who_am_i(self):\n",
    "        print(\"I am an dog\")\n",
    "\n",
    "    def bark(self):\n",
    "        print(\"WOOF!\")"
   ]
  },
  {
   "cell_type": "code",
   "execution_count": 21,
   "id": "8aa20dee-6bca-479c-a25b-0828a778d6eb",
   "metadata": {},
   "outputs": [
    {
     "name": "stdout",
     "output_type": "stream",
     "text": [
      "ANIMAL CREATED\n",
      "Dog Created\n"
     ]
    }
   ],
   "source": [
    "mydog = Dog()"
   ]
  },
  {
   "cell_type": "code",
   "execution_count": 22,
   "id": "010d07ef-1993-4e74-97cd-5e110eb717e7",
   "metadata": {},
   "outputs": [
    {
     "name": "stdout",
     "output_type": "stream",
     "text": [
      "I am eating\n"
     ]
    }
   ],
   "source": [
    "mydog.eat()"
   ]
  },
  {
   "cell_type": "code",
   "execution_count": 23,
   "id": "e2d34044-5619-4033-b93f-27aa093479a0",
   "metadata": {},
   "outputs": [
    {
     "name": "stdout",
     "output_type": "stream",
     "text": [
      "I am an dog\n"
     ]
    }
   ],
   "source": [
    "mydog.who_am_i()"
   ]
  },
  {
   "cell_type": "code",
   "execution_count": 24,
   "id": "29d571d6-73d7-479d-8d85-fad54ed31576",
   "metadata": {},
   "outputs": [
    {
     "name": "stdout",
     "output_type": "stream",
     "text": [
      "WOOF!\n"
     ]
    }
   ],
   "source": [
    "mydog.bark()"
   ]
  },
  {
   "cell_type": "markdown",
   "id": "a82d2419-9b4c-4a9d-992c-0b5dded73e78",
   "metadata": {
    "jp-MarkdownHeadingCollapsed": true
   },
   "source": [
    "## **Polymorphism**"
   ]
  },
  {
   "cell_type": "code",
   "execution_count": 26,
   "id": "2fb64e92-8369-4875-9718-a9cef546980a",
   "metadata": {},
   "outputs": [],
   "source": [
    "class Dog():\n",
    "    def __init__(self, name):\n",
    "        self.name = name\n",
    "\n",
    "    def speak(self):\n",
    "        return self.name + \" says Woof!\""
   ]
  },
  {
   "cell_type": "code",
   "execution_count": 27,
   "id": "19cc3b3b-ea12-4fa6-9db5-5ce54b843fae",
   "metadata": {},
   "outputs": [],
   "source": [
    "class Cat():\n",
    "    def __init__(self, name):\n",
    "        self.name = name\n",
    "\n",
    "    def speak(self):\n",
    "        return self.name + \" says Meow!\""
   ]
  },
  {
   "cell_type": "code",
   "execution_count": 28,
   "id": "5340c058-f529-4bf5-835f-b7b80ad4c04c",
   "metadata": {},
   "outputs": [],
   "source": [
    "niko = Dog(\"Niko\")\n",
    "felix = Cat(\"Felix\")"
   ]
  },
  {
   "cell_type": "code",
   "execution_count": 29,
   "id": "3900cda1-dac5-4d7f-8e58-6ba53f343446",
   "metadata": {},
   "outputs": [
    {
     "name": "stdout",
     "output_type": "stream",
     "text": [
      "Niko says Woof!\n",
      "Felix says Meow!\n"
     ]
    }
   ],
   "source": [
    "print(niko.speak())\n",
    "print(felix.speak())"
   ]
  },
  {
   "cell_type": "code",
   "execution_count": 30,
   "id": "72616193-5947-4233-a8b8-05d0c86a9326",
   "metadata": {},
   "outputs": [
    {
     "name": "stdout",
     "output_type": "stream",
     "text": [
      "<class '__main__.Dog'>\n",
      "\n",
      "Niko says Woof!\n",
      "\n",
      "<class '__main__.Cat'>\n",
      "\n",
      "Felix says Meow!\n",
      "\n"
     ]
    }
   ],
   "source": [
    "for pet in [niko, felix]:\n",
    "    print(type(pet))\n",
    "    print()\n",
    "    print(pet.speak())\n",
    "    print()"
   ]
  },
  {
   "cell_type": "markdown",
   "id": "27201f60-4017-44e4-8a84-4c47b0c794ea",
   "metadata": {
    "jp-MarkdownHeadingCollapsed": true
   },
   "source": [
    "## **Abstarct Classes**"
   ]
  },
  {
   "cell_type": "code",
   "execution_count": 32,
   "id": "3b7765c4-9027-434c-882d-c0895d897968",
   "metadata": {},
   "outputs": [
    {
     "name": "stdout",
     "output_type": "stream",
     "text": [
      "Fido says Woof!\n",
      "Isis says Meow!\n"
     ]
    }
   ],
   "source": [
    "class Animal:\n",
    "    def __init__(self, name):    # Constructor of the class\n",
    "        self.name = name\n",
    "\n",
    "    def speak(self):              # Abstract method, defined by convention only\n",
    "        raise NotImplementedError(\"Subclass must implement abstract method\")\n",
    "\n",
    "\n",
    "class Dog(Animal):\n",
    "    \n",
    "    def speak(self):\n",
    "        return self.name+' says Woof!'\n",
    "    \n",
    "class Cat(Animal):\n",
    "\n",
    "    def speak(self):\n",
    "        return self.name+' says Meow!'\n",
    "    \n",
    "fido = Dog('Fido')\n",
    "isis = Cat('Isis')\n",
    "\n",
    "print(fido.speak())\n",
    "print(isis.speak())"
   ]
  }
 ],
 "metadata": {
  "kernelspec": {
   "display_name": "Python 3 (ipykernel)",
   "language": "python",
   "name": "python3"
  },
  "language_info": {
   "codemirror_mode": {
    "name": "ipython",
    "version": 3
   },
   "file_extension": ".py",
   "mimetype": "text/x-python",
   "name": "python",
   "nbconvert_exporter": "python",
   "pygments_lexer": "ipython3",
   "version": "3.12.4"
  }
 },
 "nbformat": 4,
 "nbformat_minor": 5
}
